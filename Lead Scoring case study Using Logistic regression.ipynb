{
 "cells": [
  {
   "cell_type": "markdown",
   "metadata": {},
   "source": [
    "Lead scoring case study for an education company "
   ]
  },
  {
   "cell_type": "code",
   "execution_count": 346,
   "metadata": {},
   "outputs": [],
   "source": [
    "# Importing neccessary libraries \n",
    "import numpy as np\n",
    "import pandas as pd \n",
    "\n",
    "# for Visualisation \n",
    "import matplotlib.pyplot as plt\n",
    "import seaborn as sns\n",
    "from matplotlib.pyplot import xticks\n",
    "%matplotlib inline\n",
    "\n",
    "\n",
    "from sklearn import preprocessing \n",
    "from sklearn.preprocessing import MinMaxScaler"
   ]
  },
  {
   "cell_type": "code",
   "execution_count": 347,
   "metadata": {},
   "outputs": [],
   "source": [
    "# Let's read the data file \n",
    "df = pd.read_csv(r'C:\\Users\\Surendra\\Downloads\\Lead+Scoring+Case+Study\\Lead Scoring Assignment\\Leads.csv')"
   ]
  },
  {
   "cell_type": "code",
   "execution_count": 348,
   "metadata": {},
   "outputs": [
    {
     "data": {
      "text/html": [
       "<div>\n",
       "<style scoped>\n",
       "    .dataframe tbody tr th:only-of-type {\n",
       "        vertical-align: middle;\n",
       "    }\n",
       "\n",
       "    .dataframe tbody tr th {\n",
       "        vertical-align: top;\n",
       "    }\n",
       "\n",
       "    .dataframe thead th {\n",
       "        text-align: right;\n",
       "    }\n",
       "</style>\n",
       "<table border=\"1\" class=\"dataframe\">\n",
       "  <thead>\n",
       "    <tr style=\"text-align: right;\">\n",
       "      <th></th>\n",
       "      <th>Prospect ID</th>\n",
       "      <th>Lead Number</th>\n",
       "      <th>Lead Origin</th>\n",
       "      <th>Lead Source</th>\n",
       "      <th>Do Not Email</th>\n",
       "      <th>Do Not Call</th>\n",
       "      <th>Converted</th>\n",
       "      <th>TotalVisits</th>\n",
       "      <th>Total Time Spent on Website</th>\n",
       "      <th>Page Views Per Visit</th>\n",
       "      <th>...</th>\n",
       "      <th>Get updates on DM Content</th>\n",
       "      <th>Lead Profile</th>\n",
       "      <th>City</th>\n",
       "      <th>Asymmetrique Activity Index</th>\n",
       "      <th>Asymmetrique Profile Index</th>\n",
       "      <th>Asymmetrique Activity Score</th>\n",
       "      <th>Asymmetrique Profile Score</th>\n",
       "      <th>I agree to pay the amount through cheque</th>\n",
       "      <th>A free copy of Mastering The Interview</th>\n",
       "      <th>Last Notable Activity</th>\n",
       "    </tr>\n",
       "  </thead>\n",
       "  <tbody>\n",
       "    <tr>\n",
       "      <th>0</th>\n",
       "      <td>7927b2df-8bba-4d29-b9a2-b6e0beafe620</td>\n",
       "      <td>660737</td>\n",
       "      <td>API</td>\n",
       "      <td>Olark Chat</td>\n",
       "      <td>No</td>\n",
       "      <td>No</td>\n",
       "      <td>0</td>\n",
       "      <td>0.0</td>\n",
       "      <td>0</td>\n",
       "      <td>0.0</td>\n",
       "      <td>...</td>\n",
       "      <td>No</td>\n",
       "      <td>Select</td>\n",
       "      <td>Select</td>\n",
       "      <td>02.Medium</td>\n",
       "      <td>02.Medium</td>\n",
       "      <td>15.0</td>\n",
       "      <td>15.0</td>\n",
       "      <td>No</td>\n",
       "      <td>No</td>\n",
       "      <td>Modified</td>\n",
       "    </tr>\n",
       "    <tr>\n",
       "      <th>1</th>\n",
       "      <td>2a272436-5132-4136-86fa-dcc88c88f482</td>\n",
       "      <td>660728</td>\n",
       "      <td>API</td>\n",
       "      <td>Organic Search</td>\n",
       "      <td>No</td>\n",
       "      <td>No</td>\n",
       "      <td>0</td>\n",
       "      <td>5.0</td>\n",
       "      <td>674</td>\n",
       "      <td>2.5</td>\n",
       "      <td>...</td>\n",
       "      <td>No</td>\n",
       "      <td>Select</td>\n",
       "      <td>Select</td>\n",
       "      <td>02.Medium</td>\n",
       "      <td>02.Medium</td>\n",
       "      <td>15.0</td>\n",
       "      <td>15.0</td>\n",
       "      <td>No</td>\n",
       "      <td>No</td>\n",
       "      <td>Email Opened</td>\n",
       "    </tr>\n",
       "    <tr>\n",
       "      <th>2</th>\n",
       "      <td>8cc8c611-a219-4f35-ad23-fdfd2656bd8a</td>\n",
       "      <td>660727</td>\n",
       "      <td>Landing Page Submission</td>\n",
       "      <td>Direct Traffic</td>\n",
       "      <td>No</td>\n",
       "      <td>No</td>\n",
       "      <td>1</td>\n",
       "      <td>2.0</td>\n",
       "      <td>1532</td>\n",
       "      <td>2.0</td>\n",
       "      <td>...</td>\n",
       "      <td>No</td>\n",
       "      <td>Potential Lead</td>\n",
       "      <td>Mumbai</td>\n",
       "      <td>02.Medium</td>\n",
       "      <td>01.High</td>\n",
       "      <td>14.0</td>\n",
       "      <td>20.0</td>\n",
       "      <td>No</td>\n",
       "      <td>Yes</td>\n",
       "      <td>Email Opened</td>\n",
       "    </tr>\n",
       "    <tr>\n",
       "      <th>3</th>\n",
       "      <td>0cc2df48-7cf4-4e39-9de9-19797f9b38cc</td>\n",
       "      <td>660719</td>\n",
       "      <td>Landing Page Submission</td>\n",
       "      <td>Direct Traffic</td>\n",
       "      <td>No</td>\n",
       "      <td>No</td>\n",
       "      <td>0</td>\n",
       "      <td>1.0</td>\n",
       "      <td>305</td>\n",
       "      <td>1.0</td>\n",
       "      <td>...</td>\n",
       "      <td>No</td>\n",
       "      <td>Select</td>\n",
       "      <td>Mumbai</td>\n",
       "      <td>02.Medium</td>\n",
       "      <td>01.High</td>\n",
       "      <td>13.0</td>\n",
       "      <td>17.0</td>\n",
       "      <td>No</td>\n",
       "      <td>No</td>\n",
       "      <td>Modified</td>\n",
       "    </tr>\n",
       "    <tr>\n",
       "      <th>4</th>\n",
       "      <td>3256f628-e534-4826-9d63-4a8b88782852</td>\n",
       "      <td>660681</td>\n",
       "      <td>Landing Page Submission</td>\n",
       "      <td>Google</td>\n",
       "      <td>No</td>\n",
       "      <td>No</td>\n",
       "      <td>1</td>\n",
       "      <td>2.0</td>\n",
       "      <td>1428</td>\n",
       "      <td>1.0</td>\n",
       "      <td>...</td>\n",
       "      <td>No</td>\n",
       "      <td>Select</td>\n",
       "      <td>Mumbai</td>\n",
       "      <td>02.Medium</td>\n",
       "      <td>01.High</td>\n",
       "      <td>15.0</td>\n",
       "      <td>18.0</td>\n",
       "      <td>No</td>\n",
       "      <td>No</td>\n",
       "      <td>Modified</td>\n",
       "    </tr>\n",
       "  </tbody>\n",
       "</table>\n",
       "<p>5 rows × 37 columns</p>\n",
       "</div>"
      ],
      "text/plain": [
       "                            Prospect ID  Lead Number              Lead Origin  \\\n",
       "0  7927b2df-8bba-4d29-b9a2-b6e0beafe620       660737                      API   \n",
       "1  2a272436-5132-4136-86fa-dcc88c88f482       660728                      API   \n",
       "2  8cc8c611-a219-4f35-ad23-fdfd2656bd8a       660727  Landing Page Submission   \n",
       "3  0cc2df48-7cf4-4e39-9de9-19797f9b38cc       660719  Landing Page Submission   \n",
       "4  3256f628-e534-4826-9d63-4a8b88782852       660681  Landing Page Submission   \n",
       "\n",
       "      Lead Source Do Not Email Do Not Call  Converted  TotalVisits  \\\n",
       "0      Olark Chat           No          No          0          0.0   \n",
       "1  Organic Search           No          No          0          5.0   \n",
       "2  Direct Traffic           No          No          1          2.0   \n",
       "3  Direct Traffic           No          No          0          1.0   \n",
       "4          Google           No          No          1          2.0   \n",
       "\n",
       "   Total Time Spent on Website  Page Views Per Visit  ...  \\\n",
       "0                            0                   0.0  ...   \n",
       "1                          674                   2.5  ...   \n",
       "2                         1532                   2.0  ...   \n",
       "3                          305                   1.0  ...   \n",
       "4                         1428                   1.0  ...   \n",
       "\n",
       "  Get updates on DM Content    Lead Profile    City  \\\n",
       "0                        No          Select  Select   \n",
       "1                        No          Select  Select   \n",
       "2                        No  Potential Lead  Mumbai   \n",
       "3                        No          Select  Mumbai   \n",
       "4                        No          Select  Mumbai   \n",
       "\n",
       "  Asymmetrique Activity Index Asymmetrique Profile Index  \\\n",
       "0                   02.Medium                  02.Medium   \n",
       "1                   02.Medium                  02.Medium   \n",
       "2                   02.Medium                    01.High   \n",
       "3                   02.Medium                    01.High   \n",
       "4                   02.Medium                    01.High   \n",
       "\n",
       "  Asymmetrique Activity Score Asymmetrique Profile Score  \\\n",
       "0                        15.0                       15.0   \n",
       "1                        15.0                       15.0   \n",
       "2                        14.0                       20.0   \n",
       "3                        13.0                       17.0   \n",
       "4                        15.0                       18.0   \n",
       "\n",
       "  I agree to pay the amount through cheque  \\\n",
       "0                                       No   \n",
       "1                                       No   \n",
       "2                                       No   \n",
       "3                                       No   \n",
       "4                                       No   \n",
       "\n",
       "  A free copy of Mastering The Interview Last Notable Activity  \n",
       "0                                     No              Modified  \n",
       "1                                     No          Email Opened  \n",
       "2                                    Yes          Email Opened  \n",
       "3                                     No              Modified  \n",
       "4                                     No              Modified  \n",
       "\n",
       "[5 rows x 37 columns]"
      ]
     },
     "execution_count": 348,
     "metadata": {},
     "output_type": "execute_result"
    }
   ],
   "source": [
    "# Let's check the file \n",
    "df.head()\n"
   ]
  },
  {
   "cell_type": "markdown",
   "metadata": {},
   "source": [
    "### Data Inspection "
   ]
  },
  {
   "cell_type": "code",
   "execution_count": 349,
   "metadata": {
    "scrolled": true
   },
   "outputs": [
    {
     "data": {
      "text/html": [
       "<div>\n",
       "<style scoped>\n",
       "    .dataframe tbody tr th:only-of-type {\n",
       "        vertical-align: middle;\n",
       "    }\n",
       "\n",
       "    .dataframe tbody tr th {\n",
       "        vertical-align: top;\n",
       "    }\n",
       "\n",
       "    .dataframe thead th {\n",
       "        text-align: right;\n",
       "    }\n",
       "</style>\n",
       "<table border=\"1\" class=\"dataframe\">\n",
       "  <thead>\n",
       "    <tr style=\"text-align: right;\">\n",
       "      <th></th>\n",
       "      <th>Lead Number</th>\n",
       "      <th>Converted</th>\n",
       "      <th>TotalVisits</th>\n",
       "      <th>Total Time Spent on Website</th>\n",
       "      <th>Page Views Per Visit</th>\n",
       "      <th>Asymmetrique Activity Score</th>\n",
       "      <th>Asymmetrique Profile Score</th>\n",
       "    </tr>\n",
       "  </thead>\n",
       "  <tbody>\n",
       "    <tr>\n",
       "      <th>count</th>\n",
       "      <td>9240.000000</td>\n",
       "      <td>9240.000000</td>\n",
       "      <td>9103.000000</td>\n",
       "      <td>9240.000000</td>\n",
       "      <td>9103.000000</td>\n",
       "      <td>5022.000000</td>\n",
       "      <td>5022.000000</td>\n",
       "    </tr>\n",
       "    <tr>\n",
       "      <th>mean</th>\n",
       "      <td>617188.435606</td>\n",
       "      <td>0.385390</td>\n",
       "      <td>3.445238</td>\n",
       "      <td>487.698268</td>\n",
       "      <td>2.362820</td>\n",
       "      <td>14.306252</td>\n",
       "      <td>16.344883</td>\n",
       "    </tr>\n",
       "    <tr>\n",
       "      <th>std</th>\n",
       "      <td>23405.995698</td>\n",
       "      <td>0.486714</td>\n",
       "      <td>4.854853</td>\n",
       "      <td>548.021466</td>\n",
       "      <td>2.161418</td>\n",
       "      <td>1.386694</td>\n",
       "      <td>1.811395</td>\n",
       "    </tr>\n",
       "    <tr>\n",
       "      <th>min</th>\n",
       "      <td>579533.000000</td>\n",
       "      <td>0.000000</td>\n",
       "      <td>0.000000</td>\n",
       "      <td>0.000000</td>\n",
       "      <td>0.000000</td>\n",
       "      <td>7.000000</td>\n",
       "      <td>11.000000</td>\n",
       "    </tr>\n",
       "    <tr>\n",
       "      <th>25%</th>\n",
       "      <td>596484.500000</td>\n",
       "      <td>0.000000</td>\n",
       "      <td>1.000000</td>\n",
       "      <td>12.000000</td>\n",
       "      <td>1.000000</td>\n",
       "      <td>14.000000</td>\n",
       "      <td>15.000000</td>\n",
       "    </tr>\n",
       "    <tr>\n",
       "      <th>50%</th>\n",
       "      <td>615479.000000</td>\n",
       "      <td>0.000000</td>\n",
       "      <td>3.000000</td>\n",
       "      <td>248.000000</td>\n",
       "      <td>2.000000</td>\n",
       "      <td>14.000000</td>\n",
       "      <td>16.000000</td>\n",
       "    </tr>\n",
       "    <tr>\n",
       "      <th>75%</th>\n",
       "      <td>637387.250000</td>\n",
       "      <td>1.000000</td>\n",
       "      <td>5.000000</td>\n",
       "      <td>936.000000</td>\n",
       "      <td>3.000000</td>\n",
       "      <td>15.000000</td>\n",
       "      <td>18.000000</td>\n",
       "    </tr>\n",
       "    <tr>\n",
       "      <th>max</th>\n",
       "      <td>660737.000000</td>\n",
       "      <td>1.000000</td>\n",
       "      <td>251.000000</td>\n",
       "      <td>2272.000000</td>\n",
       "      <td>55.000000</td>\n",
       "      <td>18.000000</td>\n",
       "      <td>20.000000</td>\n",
       "    </tr>\n",
       "  </tbody>\n",
       "</table>\n",
       "</div>"
      ],
      "text/plain": [
       "         Lead Number    Converted  TotalVisits  Total Time Spent on Website  \\\n",
       "count    9240.000000  9240.000000  9103.000000                  9240.000000   \n",
       "mean   617188.435606     0.385390     3.445238                   487.698268   \n",
       "std     23405.995698     0.486714     4.854853                   548.021466   \n",
       "min    579533.000000     0.000000     0.000000                     0.000000   \n",
       "25%    596484.500000     0.000000     1.000000                    12.000000   \n",
       "50%    615479.000000     0.000000     3.000000                   248.000000   \n",
       "75%    637387.250000     1.000000     5.000000                   936.000000   \n",
       "max    660737.000000     1.000000   251.000000                  2272.000000   \n",
       "\n",
       "       Page Views Per Visit  Asymmetrique Activity Score  \\\n",
       "count           9103.000000                  5022.000000   \n",
       "mean               2.362820                    14.306252   \n",
       "std                2.161418                     1.386694   \n",
       "min                0.000000                     7.000000   \n",
       "25%                1.000000                    14.000000   \n",
       "50%                2.000000                    14.000000   \n",
       "75%                3.000000                    15.000000   \n",
       "max               55.000000                    18.000000   \n",
       "\n",
       "       Asymmetrique Profile Score  \n",
       "count                 5022.000000  \n",
       "mean                    16.344883  \n",
       "std                      1.811395  \n",
       "min                     11.000000  \n",
       "25%                     15.000000  \n",
       "50%                     16.000000  \n",
       "75%                     18.000000  \n",
       "max                     20.000000  "
      ]
     },
     "execution_count": 349,
     "metadata": {},
     "output_type": "execute_result"
    }
   ],
   "source": [
    "# Checking the describtion of file \n",
    "df.describe()"
   ]
  },
  {
   "cell_type": "code",
   "execution_count": 350,
   "metadata": {},
   "outputs": [
    {
     "data": {
      "text/plain": [
       "(9240, 37)"
      ]
     },
     "execution_count": 350,
     "metadata": {},
     "output_type": "execute_result"
    }
   ],
   "source": [
    "# Let's chekc shape of file \n",
    "df.shape"
   ]
  },
  {
   "cell_type": "code",
   "execution_count": 351,
   "metadata": {},
   "outputs": [],
   "source": [
    "# Supress Warnings\n",
    "\n",
    "import warnings\n",
    "warnings.filterwarnings('ignore')"
   ]
  },
  {
   "cell_type": "code",
   "execution_count": 352,
   "metadata": {},
   "outputs": [
    {
     "name": "stdout",
     "output_type": "stream",
     "text": [
      "<class 'pandas.core.frame.DataFrame'>\n",
      "RangeIndex: 9240 entries, 0 to 9239\n",
      "Data columns (total 37 columns):\n",
      "Prospect ID                                      9240 non-null object\n",
      "Lead Number                                      9240 non-null int64\n",
      "Lead Origin                                      9240 non-null object\n",
      "Lead Source                                      9204 non-null object\n",
      "Do Not Email                                     9240 non-null object\n",
      "Do Not Call                                      9240 non-null object\n",
      "Converted                                        9240 non-null int64\n",
      "TotalVisits                                      9103 non-null float64\n",
      "Total Time Spent on Website                      9240 non-null int64\n",
      "Page Views Per Visit                             9103 non-null float64\n",
      "Last Activity                                    9137 non-null object\n",
      "Country                                          6779 non-null object\n",
      "Specialization                                   7802 non-null object\n",
      "How did you hear about X Education               7033 non-null object\n",
      "What is your current occupation                  6550 non-null object\n",
      "What matters most to you in choosing a course    6531 non-null object\n",
      "Search                                           9240 non-null object\n",
      "Magazine                                         9240 non-null object\n",
      "Newspaper Article                                9240 non-null object\n",
      "X Education Forums                               9240 non-null object\n",
      "Newspaper                                        9240 non-null object\n",
      "Digital Advertisement                            9240 non-null object\n",
      "Through Recommendations                          9240 non-null object\n",
      "Receive More Updates About Our Courses           9240 non-null object\n",
      "Tags                                             5887 non-null object\n",
      "Lead Quality                                     4473 non-null object\n",
      "Update me on Supply Chain Content                9240 non-null object\n",
      "Get updates on DM Content                        9240 non-null object\n",
      "Lead Profile                                     6531 non-null object\n",
      "City                                             7820 non-null object\n",
      "Asymmetrique Activity Index                      5022 non-null object\n",
      "Asymmetrique Profile Index                       5022 non-null object\n",
      "Asymmetrique Activity Score                      5022 non-null float64\n",
      "Asymmetrique Profile Score                       5022 non-null float64\n",
      "I agree to pay the amount through cheque         9240 non-null object\n",
      "A free copy of Mastering The Interview           9240 non-null object\n",
      "Last Notable Activity                            9240 non-null object\n",
      "dtypes: float64(4), int64(3), object(30)\n",
      "memory usage: 2.6+ MB\n"
     ]
    }
   ],
   "source": [
    "# Let's check info of file \n",
    "df.info()"
   ]
  },
  {
   "cell_type": "code",
   "execution_count": 353,
   "metadata": {},
   "outputs": [
    {
     "data": {
      "text/plain": [
       "True"
      ]
     },
     "execution_count": 353,
     "metadata": {},
     "output_type": "execute_result"
    }
   ],
   "source": [
    "#checking duplicates\n",
    "sum(df.duplicated(subset = 'Prospect ID')) == 0"
   ]
  },
  {
   "cell_type": "markdown",
   "metadata": {},
   "source": [
    "No duplicate value "
   ]
  },
  {
   "cell_type": "markdown",
   "metadata": {},
   "source": [
    "### Data cleaning "
   ]
  },
  {
   "cell_type": "code",
   "execution_count": 354,
   "metadata": {},
   "outputs": [],
   "source": [
    "# There are a lot of Select values for many columns\n",
    "# Converting Select values as nan\n",
    "df = df.replace('Select', np.nan)"
   ]
  },
  {
   "cell_type": "code",
   "execution_count": 355,
   "metadata": {},
   "outputs": [
    {
     "data": {
      "text/plain": [
       "Prospect ID                                       0.000000\n",
       "Lead Number                                       0.000000\n",
       "Lead Origin                                       0.000000\n",
       "Lead Source                                       0.389610\n",
       "Do Not Email                                      0.000000\n",
       "Do Not Call                                       0.000000\n",
       "Converted                                         0.000000\n",
       "TotalVisits                                       1.482684\n",
       "Total Time Spent on Website                       0.000000\n",
       "Page Views Per Visit                              1.482684\n",
       "Last Activity                                     1.114719\n",
       "Country                                          26.634199\n",
       "Specialization                                   36.580087\n",
       "How did you hear about X Education               78.463203\n",
       "What is your current occupation                  29.112554\n",
       "What matters most to you in choosing a course    29.318182\n",
       "Search                                            0.000000\n",
       "Magazine                                          0.000000\n",
       "Newspaper Article                                 0.000000\n",
       "X Education Forums                                0.000000\n",
       "Newspaper                                         0.000000\n",
       "Digital Advertisement                             0.000000\n",
       "Through Recommendations                           0.000000\n",
       "Receive More Updates About Our Courses            0.000000\n",
       "Tags                                             36.287879\n",
       "Lead Quality                                     51.590909\n",
       "Update me on Supply Chain Content                 0.000000\n",
       "Get updates on DM Content                         0.000000\n",
       "Lead Profile                                     74.188312\n",
       "City                                             39.707792\n",
       "Asymmetrique Activity Index                      45.649351\n",
       "Asymmetrique Profile Index                       45.649351\n",
       "Asymmetrique Activity Score                      45.649351\n",
       "Asymmetrique Profile Score                       45.649351\n",
       "I agree to pay the amount through cheque          0.000000\n",
       "A free copy of Mastering The Interview            0.000000\n",
       "Last Notable Activity                             0.000000\n",
       "dtype: float64"
      ]
     },
     "execution_count": 355,
     "metadata": {},
     "output_type": "execute_result"
    }
   ],
   "source": [
    "#Checking percentage of missing \n",
    "missing = df.isnull().sum() * 100 / len(df)\n",
    "missing"
   ]
  },
  {
   "cell_type": "code",
   "execution_count": 356,
   "metadata": {},
   "outputs": [],
   "source": [
    "# we will drop the columns having more than 70% NA values.\n",
    "def removeNulls(dataframe, axis =1, percent=0.70):\n",
    "    '''\n",
    "    * removeNull function will remove the rows and columns based on parameters provided.    \n",
    "    * percent   : percent of data where column/rows values are null,default is 0.7(70%)\n",
    "              \n",
    "    '''\n",
    "    df = dataframe.copy()\n",
    "    ishape = df.shape\n",
    "    if axis == 0:\n",
    "        rownames = df.transpose().isnull().sum()\n",
    "        rownames = list(rownames[rownames.values > percent*len(df)].index)\n",
    "        df.drop(df.index[rownames],inplace=True) \n",
    "        print(\"\\nNumber of Rows dropped\\t: \",len(rownames))\n",
    "    else:\n",
    "        colnames = (df.isnull().sum()/len(df))\n",
    "        colnames = list(colnames[colnames.values>=percent].index)\n",
    "        df.drop(labels = colnames,axis =1,inplace=True)        \n",
    "        print(\"Number of Columns dropped\\t: \",len(colnames))\n",
    "        \n",
    "    print(\"\\nOld dataset rows,columns\",ishape,\"\\nNew dataset rows,columns\",df.shape)\n",
    "\n",
    "    return df"
   ]
  },
  {
   "cell_type": "code",
   "execution_count": 357,
   "metadata": {},
   "outputs": [
    {
     "name": "stdout",
     "output_type": "stream",
     "text": [
      "Number of Columns dropped\t:  2\n",
      "\n",
      "Old dataset rows,columns (9240, 37) \n",
      "New dataset rows,columns (9240, 35)\n"
     ]
    }
   ],
   "source": [
    "df = removeNulls(df, axis =1,percent = 0.70)"
   ]
  },
  {
   "cell_type": "code",
   "execution_count": 358,
   "metadata": {},
   "outputs": [
    {
     "data": {
      "text/plain": [
       "Prospect ID                                       0.000000\n",
       "Lead Number                                       0.000000\n",
       "Lead Origin                                       0.000000\n",
       "Lead Source                                       0.389610\n",
       "Do Not Email                                      0.000000\n",
       "Do Not Call                                       0.000000\n",
       "Converted                                         0.000000\n",
       "TotalVisits                                       1.482684\n",
       "Total Time Spent on Website                       0.000000\n",
       "Page Views Per Visit                              1.482684\n",
       "Last Activity                                     1.114719\n",
       "Country                                          26.634199\n",
       "Specialization                                   36.580087\n",
       "What is your current occupation                  29.112554\n",
       "What matters most to you in choosing a course    29.318182\n",
       "Search                                            0.000000\n",
       "Magazine                                          0.000000\n",
       "Newspaper Article                                 0.000000\n",
       "X Education Forums                                0.000000\n",
       "Newspaper                                         0.000000\n",
       "Digital Advertisement                             0.000000\n",
       "Through Recommendations                           0.000000\n",
       "Receive More Updates About Our Courses            0.000000\n",
       "Tags                                             36.287879\n",
       "Lead Quality                                     51.590909\n",
       "Update me on Supply Chain Content                 0.000000\n",
       "Get updates on DM Content                         0.000000\n",
       "City                                             39.707792\n",
       "Asymmetrique Activity Index                      45.649351\n",
       "Asymmetrique Profile Index                       45.649351\n",
       "Asymmetrique Activity Score                      45.649351\n",
       "Asymmetrique Profile Score                       45.649351\n",
       "I agree to pay the amount through cheque          0.000000\n",
       "A free copy of Mastering The Interview            0.000000\n",
       "Last Notable Activity                             0.000000\n",
       "dtype: float64"
      ]
     },
     "execution_count": 358,
     "metadata": {},
     "output_type": "execute_result"
    }
   ],
   "source": [
    "#Checking percentage of missing \n",
    "missing = df.isnull().sum() * 100 / len(df)\n",
    "missing"
   ]
  },
  {
   "cell_type": "markdown",
   "metadata": {},
   "source": [
    "Now we will take care of null values in each column one by one."
   ]
  },
  {
   "cell_type": "markdown",
   "metadata": {},
   "source": [
    "Lead Quality "
   ]
  },
  {
   "cell_type": "code",
   "execution_count": 359,
   "metadata": {},
   "outputs": [
    {
     "data": {
      "text/plain": [
       "count         4473\n",
       "unique           5\n",
       "top       Might be\n",
       "freq          1560\n",
       "Name: Lead Quality, dtype: object"
      ]
     },
     "execution_count": 359,
     "metadata": {},
     "output_type": "execute_result"
    }
   ],
   "source": [
    "df['Lead Quality'].describe()"
   ]
  },
  {
   "cell_type": "code",
   "execution_count": 360,
   "metadata": {},
   "outputs": [
    {
     "data": {
      "text/plain": [
       "<matplotlib.axes._subplots.AxesSubplot at 0x153347f0>"
      ]
     },
     "execution_count": 360,
     "metadata": {},
     "output_type": "execute_result"
    },
    {
     "data": {
      "image/png": "[encoded data removed]",
      "text/plain": [
       "<Figure size 432x288 with 1 Axes>"
      ]
     },
     "metadata": {
      "needs_background": "light"
     },
     "output_type": "display_data"
    }
   ],
   "source": [
    "# There is 5 unique values , so we can plot a bar chart \n",
    "sns.countplot(df['Lead Quality'])"
   ]
  },
  {
   "cell_type": "code",
   "execution_count": 361,
   "metadata": {},
   "outputs": [],
   "source": [
    "# In lead quality we replace nan values with 'Not Sure' as it is based on intution of every one\n",
    "df['Lead Quality'] = df['Lead Quality'].replace(np.nan, 'Not Sure')"
   ]
  },
  {
   "cell_type": "code",
   "execution_count": 362,
   "metadata": {},
   "outputs": [
    {
     "data": {
      "text/plain": [
       "<matplotlib.axes._subplots.AxesSubplot at 0x152d75c0>"
      ]
     },
     "execution_count": 362,
     "metadata": {},
     "output_type": "execute_result"
    },
    {
     "data": {
      "image/png": "[encoded data removed]",
      "text/plain": [
       "<Figure size 432x288 with 1 Axes>"
      ]
     },
     "metadata": {
      "needs_background": "light"
     },
     "output_type": "display_data"
    }
   ],
   "source": [
    "# Now plot is again \n",
    "sns.countplot(df['Lead Quality'])"
   ]
  },
  {
   "cell_type": "markdown",
   "metadata": {},
   "source": [
    "# Now let's check following \n",
    "Asymmetrique Activity Index                      \n",
    "Asymmetrique Profile Index                       \n",
    "Asymmetrique Activity Score                      \n",
    "Asymmetrique Profile Score "
   ]
  },
  {
   "cell_type": "code",
   "execution_count": 364,
   "metadata": {},
   "outputs": [
    {
     "data": {
      "image/png": "[encoded data removed]",
      "text/plain": [
       "<Figure size 720x540 with 4 Axes>"
      ]
     },
     "metadata": {
      "needs_background": "light"
     },
     "output_type": "display_data"
    }
   ],
   "source": [
    "# Let's plot it \n",
    "fig, axs = plt.subplots(2,2, figsize = (10,7.5))\n",
    "plt1 = sns.countplot(df['Asymmetrique Activity Index'], ax = axs[0,0])\n",
    "plt2 = sns.boxplot(y =df['Asymmetrique Activity Score'], ax = axs[0,1])\n",
    "plt3 = sns.countplot(df['Asymmetrique Profile Index'], ax = axs[1,0])\n",
    "plt4 = sns.boxplot(y =df['Asymmetrique Profile Score'], ax = axs[1,1])\n",
    "plt.tight_layout()"
   ]
  },
  {
   "cell_type": "markdown",
   "metadata": {},
   "source": [
    "All these columns having around 45% null values and also variations in parameters is very high, so it better to drop them from data set "
   ]
  },
  {
   "cell_type": "code",
   "execution_count": 365,
   "metadata": {},
   "outputs": [],
   "source": [
    "df = df.drop(['Asymmetrique Activity Index','Asymmetrique Activity Score','Asymmetrique Profile Index','Asymmetrique Profile Score'],1)"
   ]
  },
  {
   "cell_type": "code",
   "execution_count": 366,
   "metadata": {},
   "outputs": [
    {
     "data": {
      "text/plain": [
       "Prospect ID                                       0.000000\n",
       "Lead Number                                       0.000000\n",
       "Lead Origin                                       0.000000\n",
       "Lead Source                                       0.389610\n",
       "Do Not Email                                      0.000000\n",
       "Do Not Call                                       0.000000\n",
       "Converted                                         0.000000\n",
       "TotalVisits                                       1.482684\n",
       "Total Time Spent on Website                       0.000000\n",
       "Page Views Per Visit                              1.482684\n",
       "Last Activity                                     1.114719\n",
       "Country                                          26.634199\n",
       "Specialization                                   36.580087\n",
       "What is your current occupation                  29.112554\n",
       "What matters most to you in choosing a course    29.318182\n",
       "Search                                            0.000000\n",
       "Magazine                                          0.000000\n",
       "Newspaper Article                                 0.000000\n",
       "X Education Forums                                0.000000\n",
       "Newspaper                                         0.000000\n",
       "Digital Advertisement                             0.000000\n",
       "Through Recommendations                           0.000000\n",
       "Receive More Updates About Our Courses            0.000000\n",
       "Tags                                             36.287879\n",
       "Lead Quality                                      0.000000\n",
       "Update me on Supply Chain Content                 0.000000\n",
       "Get updates on DM Content                         0.000000\n",
       "City                                             39.707792\n",
       "I agree to pay the amount through cheque          0.000000\n",
       "A free copy of Mastering The Interview            0.000000\n",
       "Last Notable Activity                             0.000000\n",
       "dtype: float64"
      ]
     },
     "execution_count": 366,
     "metadata": {},
     "output_type": "execute_result"
    }
   ],
   "source": [
    "#Checking percentage of missing \n",
    "missing = df.isnull().sum() * 100 / len(df)\n",
    "missing"
   ]
  },
  {
   "cell_type": "markdown",
   "metadata": {},
   "source": [
    "### City "
   ]
  },
  {
   "cell_type": "code",
   "execution_count": 367,
   "metadata": {},
   "outputs": [
    {
     "data": {
      "text/plain": [
       "count       5571\n",
       "unique         6\n",
       "top       Mumbai\n",
       "freq        3222\n",
       "Name: City, dtype: object"
      ]
     },
     "execution_count": 367,
     "metadata": {},
     "output_type": "execute_result"
    }
   ],
   "source": [
    "# Let's check city column \n",
    "df.City.describe()"
   ]
  },
  {
   "cell_type": "markdown",
   "metadata": {},
   "source": [
    "It is having 6 unique values means 6 options for city and Mumbai is mode, So we can replace nan as Mumbai "
   ]
  },
  {
   "cell_type": "code",
   "execution_count": 368,
   "metadata": {},
   "outputs": [],
   "source": [
    "df['City'] = df['City'].replace(np.nan, 'Mumbai')"
   ]
  },
  {
   "cell_type": "code",
   "execution_count": 369,
   "metadata": {},
   "outputs": [
    {
     "data": {
      "text/plain": [
       "(array([0, 1, 2, 3, 4, 5]), <a list of 6 Text xticklabel objects>)"
      ]
     },
     "execution_count": 369,
     "metadata": {},
     "output_type": "execute_result"
    },
    {
     "data": {
      "image/png": "[encoded data removed]",
      "text/plain": [
       "<Figure size 432x288 with 1 Axes>"
      ]
     },
     "metadata": {
      "needs_background": "light"
     },
     "output_type": "display_data"
    }
   ],
   "source": [
    "# Let's plot is \n",
    "sns.countplot(df.City)\n",
    "xticks(rotation = 90)"
   ]
  },
  {
   "cell_type": "markdown",
   "metadata": {},
   "source": [
    "### Specailization"
   ]
  },
  {
   "cell_type": "code",
   "execution_count": 370,
   "metadata": {},
   "outputs": [
    {
     "data": {
      "text/plain": [
       "count                   5860\n",
       "unique                    18\n",
       "top       Finance Management\n",
       "freq                     976\n",
       "Name: Specialization, dtype: object"
      ]
     },
     "execution_count": 370,
     "metadata": {},
     "output_type": "execute_result"
    }
   ],
   "source": [
    "df.Specialization.describe()"
   ]
  },
  {
   "cell_type": "code",
   "execution_count": 371,
   "metadata": {},
   "outputs": [
    {
     "data": {
      "text/plain": [
       "(array([ 0,  1,  2,  3,  4,  5,  6,  7,  8,  9, 10, 11, 12, 13, 14, 15, 16,\n",
       "        17]), <a list of 18 Text xticklabel objects>)"
      ]
     },
     "execution_count": 371,
     "metadata": {},
     "output_type": "execute_result"
    },
    {
     "data": {
      "image/png": "[encoded data removed]",
      "text/plain": [
       "<Figure size 432x288 with 1 Axes>"
      ]
     },
     "metadata": {
      "needs_background": "light"
     },
     "output_type": "display_data"
    }
   ],
   "source": [
    "# Let's plot it \n",
    "sns.countplot(df.Specialization)\n",
    "xticks(rotation = 90)"
   ]
  },
  {
   "cell_type": "markdown",
   "metadata": {},
   "source": [
    "We can make others category here for missing values "
   ]
  },
  {
   "cell_type": "code",
   "execution_count": 372,
   "metadata": {},
   "outputs": [],
   "source": [
    "df['Specialization'] = df['Specialization'].replace(np.nan, 'Others')"
   ]
  },
  {
   "cell_type": "code",
   "execution_count": 373,
   "metadata": {},
   "outputs": [
    {
     "data": {
      "text/plain": [
       "Prospect ID                                       0.000000\n",
       "Lead Number                                       0.000000\n",
       "Lead Origin                                       0.000000\n",
       "Lead Source                                       0.389610\n",
       "Do Not Email                                      0.000000\n",
       "Do Not Call                                       0.000000\n",
       "Converted                                         0.000000\n",
       "TotalVisits                                       1.482684\n",
       "Total Time Spent on Website                       0.000000\n",
       "Page Views Per Visit                              1.482684\n",
       "Last Activity                                     1.114719\n",
       "Country                                          26.634199\n",
       "Specialization                                    0.000000\n",
       "What is your current occupation                  29.112554\n",
       "What matters most to you in choosing a course    29.318182\n",
       "Search                                            0.000000\n",
       "Magazine                                          0.000000\n",
       "Newspaper Article                                 0.000000\n",
       "X Education Forums                                0.000000\n",
       "Newspaper                                         0.000000\n",
       "Digital Advertisement                             0.000000\n",
       "Through Recommendations                           0.000000\n",
       "Receive More Updates About Our Courses            0.000000\n",
       "Tags                                             36.287879\n",
       "Lead Quality                                      0.000000\n",
       "Update me on Supply Chain Content                 0.000000\n",
       "Get updates on DM Content                         0.000000\n",
       "City                                              0.000000\n",
       "I agree to pay the amount through cheque          0.000000\n",
       "A free copy of Mastering The Interview            0.000000\n",
       "Last Notable Activity                             0.000000\n",
       "dtype: float64"
      ]
     },
     "execution_count": 373,
     "metadata": {},
     "output_type": "execute_result"
    }
   ],
   "source": [
    "#Checking percentage of missing \n",
    "missing = df.isnull().sum() * 100 / len(df)\n",
    "missing"
   ]
  },
  {
   "cell_type": "markdown",
   "metadata": {},
   "source": [
    "### Tags "
   ]
  },
  {
   "cell_type": "code",
   "execution_count": 374,
   "metadata": {},
   "outputs": [
    {
     "data": {
      "text/plain": [
       "count                                    5887\n",
       "unique                                     26\n",
       "top       Will revert after reading the email\n",
       "freq                                     2072\n",
       "Name: Tags, dtype: object"
      ]
     },
     "execution_count": 374,
     "metadata": {},
     "output_type": "execute_result"
    }
   ],
   "source": [
    "df.Tags.describe()"
   ]
  },
  {
   "cell_type": "code",
   "execution_count": 375,
   "metadata": {},
   "outputs": [
    {
     "data": {
      "text/plain": [
       "(array([ 0,  1,  2,  3,  4,  5,  6,  7,  8,  9, 10, 11, 12, 13, 14, 15, 16,\n",
       "        17, 18, 19, 20, 21, 22, 23, 24, 25]),\n",
       " <a list of 26 Text xticklabel objects>)"
      ]
     },
     "execution_count": 375,
     "metadata": {},
     "output_type": "execute_result"
    },
    {
     "data": {
      "image/png": "[encoded data removed]",
      "text/plain": [
       "<Figure size 1080x540 with 1 Axes>"
      ]
     },
     "metadata": {
      "needs_background": "light"
     },
     "output_type": "display_data"
    }
   ],
   "source": [
    "# Let's plot it \n",
    "fig, axs = plt.subplots(figsize = (15,7.5))\n",
    "sns.countplot(df.Tags)\n",
    "xticks(rotation = 90)"
   ]
  },
  {
   "cell_type": "markdown",
   "metadata": {},
   "source": [
    "Missing values can be replaced by mode(Will revert after reading the email)"
   ]
  },
  {
   "cell_type": "code",
   "execution_count": 376,
   "metadata": {},
   "outputs": [],
   "source": [
    "df['Tags'] = df['Tags'].replace(np.nan, 'Will revert after reading the email')"
   ]
  },
  {
   "cell_type": "markdown",
   "metadata": {},
   "source": [
    "### What matters most to you in choosing a course"
   ]
  },
  {
   "cell_type": "code",
   "execution_count": 377,
   "metadata": {},
   "outputs": [
    {
     "data": {
      "text/plain": [
       "count                        6531\n",
       "unique                          3\n",
       "top       Better Career Prospects\n",
       "freq                         6528\n",
       "Name: What matters most to you in choosing a course, dtype: object"
      ]
     },
     "execution_count": 377,
     "metadata": {},
     "output_type": "execute_result"
    }
   ],
   "source": [
    "df['What matters most to you in choosing a course'].describe()"
   ]
  },
  {
   "cell_type": "code",
   "execution_count": 378,
   "metadata": {},
   "outputs": [],
   "source": [
    "#Missing values can be replaced by 'Better Career Prospects'.\n",
    "df['What matters most to you in choosing a course'] = df['What matters most to you in choosing a course'].replace(np.nan, 'Better Career Prospects')"
   ]
  },
  {
   "cell_type": "markdown",
   "metadata": {},
   "source": [
    "### Occupation"
   ]
  },
  {
   "cell_type": "code",
   "execution_count": 379,
   "metadata": {},
   "outputs": [
    {
     "data": {
      "text/plain": [
       "count           6550\n",
       "unique             6\n",
       "top       Unemployed\n",
       "freq            5600\n",
       "Name: What is your current occupation, dtype: object"
      ]
     },
     "execution_count": 379,
     "metadata": {},
     "output_type": "execute_result"
    }
   ],
   "source": [
    "df['What is your current occupation'].describe()"
   ]
  },
  {
   "cell_type": "code",
   "execution_count": 380,
   "metadata": {},
   "outputs": [],
   "source": [
    "# Missing values can be imputed as Unemployeed\n",
    "df['What is your current occupation'] = df['What is your current occupation'].replace(np.nan, 'Unemployed')"
   ]
  },
  {
   "cell_type": "markdown",
   "metadata": {},
   "source": [
    "### Country"
   ]
  },
  {
   "cell_type": "code",
   "execution_count": 381,
   "metadata": {},
   "outputs": [
    {
     "data": {
      "text/plain": [
       "count      6779\n",
       "unique       38\n",
       "top       India\n",
       "freq       6492\n",
       "Name: Country, dtype: object"
      ]
     },
     "execution_count": 381,
     "metadata": {},
     "output_type": "execute_result"
    }
   ],
   "source": [
    "df['Country'].describe()"
   ]
  },
  {
   "cell_type": "code",
   "execution_count": 382,
   "metadata": {},
   "outputs": [],
   "source": [
    "# Missing values can be replaced with 'Country'.\n",
    "df['Country'] = df['Country'].replace(np.nan, 'India')"
   ]
  },
  {
   "cell_type": "code",
   "execution_count": 383,
   "metadata": {},
   "outputs": [
    {
     "data": {
      "text/plain": [
       "Prospect ID                                      0.000000\n",
       "Lead Number                                      0.000000\n",
       "Lead Origin                                      0.000000\n",
       "Lead Source                                      0.389610\n",
       "Do Not Email                                     0.000000\n",
       "Do Not Call                                      0.000000\n",
       "Converted                                        0.000000\n",
       "TotalVisits                                      1.482684\n",
       "Total Time Spent on Website                      0.000000\n",
       "Page Views Per Visit                             1.482684\n",
       "Last Activity                                    1.114719\n",
       "Country                                          0.000000\n",
       "Specialization                                   0.000000\n",
       "What is your current occupation                  0.000000\n",
       "What matters most to you in choosing a course    0.000000\n",
       "Search                                           0.000000\n",
       "Magazine                                         0.000000\n",
       "Newspaper Article                                0.000000\n",
       "X Education Forums                               0.000000\n",
       "Newspaper                                        0.000000\n",
       "Digital Advertisement                            0.000000\n",
       "Through Recommendations                          0.000000\n",
       "Receive More Updates About Our Courses           0.000000\n",
       "Tags                                             0.000000\n",
       "Lead Quality                                     0.000000\n",
       "Update me on Supply Chain Content                0.000000\n",
       "Get updates on DM Content                        0.000000\n",
       "City                                             0.000000\n",
       "I agree to pay the amount through cheque         0.000000\n",
       "A free copy of Mastering The Interview           0.000000\n",
       "Last Notable Activity                            0.000000\n",
       "dtype: float64"
      ]
     },
     "execution_count": 383,
     "metadata": {},
     "output_type": "execute_result"
    }
   ],
   "source": [
    "#Checking percentage of missing \n",
    "missing = df.isnull().sum() * 100 / len(df)\n",
    "missing"
   ]
  },
  {
   "cell_type": "code",
   "execution_count": 384,
   "metadata": {},
   "outputs": [],
   "source": [
    "# Drop rows of missing values which are in very less % (Below 2%)\n",
    "df1 = df.dropna(axis = 0, how ='any')"
   ]
  },
  {
   "cell_type": "code",
   "execution_count": 385,
   "metadata": {},
   "outputs": [
    {
     "data": {
      "text/plain": [
       "Prospect ID                                      0.0\n",
       "Lead Number                                      0.0\n",
       "Lead Origin                                      0.0\n",
       "Lead Source                                      0.0\n",
       "Do Not Email                                     0.0\n",
       "Do Not Call                                      0.0\n",
       "Converted                                        0.0\n",
       "TotalVisits                                      0.0\n",
       "Total Time Spent on Website                      0.0\n",
       "Page Views Per Visit                             0.0\n",
       "Last Activity                                    0.0\n",
       "Country                                          0.0\n",
       "Specialization                                   0.0\n",
       "What is your current occupation                  0.0\n",
       "What matters most to you in choosing a course    0.0\n",
       "Search                                           0.0\n",
       "Magazine                                         0.0\n",
       "Newspaper Article                                0.0\n",
       "X Education Forums                               0.0\n",
       "Newspaper                                        0.0\n",
       "Digital Advertisement                            0.0\n",
       "Through Recommendations                          0.0\n",
       "Receive More Updates About Our Courses           0.0\n",
       "Tags                                             0.0\n",
       "Lead Quality                                     0.0\n",
       "Update me on Supply Chain Content                0.0\n",
       "Get updates on DM Content                        0.0\n",
       "City                                             0.0\n",
       "I agree to pay the amount through cheque         0.0\n",
       "A free copy of Mastering The Interview           0.0\n",
       "Last Notable Activity                            0.0\n",
       "dtype: float64"
      ]
     },
     "execution_count": 385,
     "metadata": {},
     "output_type": "execute_result"
    }
   ],
   "source": [
    "#Checking percentage of missing \n",
    "missing = df1.isnull().sum() * 100 / len(df)\n",
    "missing"
   ]
  },
  {
   "cell_type": "markdown",
   "metadata": {},
   "source": [
    "Now there is no missing values means the data is cleaned now."
   ]
  },
  {
   "cell_type": "markdown",
   "metadata": {},
   "source": [
    "# EDA "
   ]
  },
  {
   "cell_type": "markdown",
   "metadata": {},
   "source": [
    "### Univariate Analysis"
   ]
  },
  {
   "cell_type": "markdown",
   "metadata": {},
   "source": [
    "### Converted "
   ]
  },
  {
   "cell_type": "code",
   "execution_count": 386,
   "metadata": {},
   "outputs": [
    {
     "data": {
      "text/plain": [
       "37.85541106458012"
      ]
     },
     "execution_count": 386,
     "metadata": {},
     "output_type": "execute_result"
    }
   ],
   "source": [
    "# Converted is the target variable, Indicates whether a lead has been successfully converted (1) or not (0).\n",
    "Converted = (sum(df1['Converted'])/len(df1['Converted'].index))*100\n",
    "Converted"
   ]
  },
  {
   "cell_type": "markdown",
   "metadata": {},
   "source": [
    "Only 38 % leads are getting converted,Let's see how we can improve it through Univerate analysis "
   ]
  },
  {
   "cell_type": "markdown",
   "metadata": {},
   "source": [
    "### Lead Origin\n"
   ]
  },
  {
   "cell_type": "code",
   "execution_count": 387,
   "metadata": {},
   "outputs": [
    {
     "data": {
      "text/plain": [
       "(array([0, 1, 2, 3]), <a list of 4 Text xticklabel objects>)"
      ]
     },
     "execution_count": 387,
     "metadata": {},
     "output_type": "execute_result"
    },
    {
     "data": {
      "image/png": "[encoded data removed]",
      "text/plain": [
       "<Figure size 432x288 with 1 Axes>"
      ]
     },
     "metadata": {
      "needs_background": "light"
     },
     "output_type": "display_data"
    }
   ],
   "source": [
    "# Let's Analyse how it by plottig it \n",
    "sns.countplot(x = \"Lead Origin\", hue = \"Converted\", data = df1)\n",
    "xticks(rotation = 90)\n"
   ]
  },
  {
   "cell_type": "markdown",
   "metadata": {},
   "source": [
    "\n",
    "Inference\n",
    "\n",
    "    API and Landing Page Submission have 30-35% conversion rate but count of lead originated from them are considerable.\n",
    "    Lead Add Form has more than 90% conversion rate but count of lead are not very high.\n",
    "    Lead Import are very less in count.\n",
    "\n",
    "To improve overall lead conversion rate, we need to focus more on improving lead converion of API and Landing Page Submission origin and generate more leads from Lead Add Form.\n"
   ]
  },
  {
   "cell_type": "markdown",
   "metadata": {},
   "source": [
    "### Lead Source"
   ]
  },
  {
   "cell_type": "code",
   "execution_count": 388,
   "metadata": {},
   "outputs": [
    {
     "data": {
      "text/plain": [
       "(array([ 0,  1,  2,  3,  4,  5,  6,  7,  8,  9, 10, 11, 12, 13, 14, 15, 16,\n",
       "        17, 18, 19, 20]), <a list of 21 Text xticklabel objects>)"
      ]
     },
     "execution_count": 388,
     "metadata": {},
     "output_type": "execute_result"
    },
    {
     "data": {
      "image/png": "[encoded data removed]",
      "text/plain": [
       "<Figure size 936x504 with 1 Axes>"
      ]
     },
     "metadata": {
      "needs_background": "light"
     },
     "output_type": "display_data"
    }
   ],
   "source": [
    "fig, axs = plt.subplots(figsize = (13,7))\n",
    "sns.countplot(x = \"Lead Source\", hue = \"Converted\", data = df1)\n",
    "xticks(rotation = 90)"
   ]
  },
  {
   "cell_type": "code",
   "execution_count": 389,
   "metadata": {},
   "outputs": [],
   "source": [
    "# Let's replace google by Google\n",
    "df1['Lead Source'] = df1['Lead Source'].replace(['google'], 'Google')"
   ]
  },
  {
   "cell_type": "code",
   "execution_count": 390,
   "metadata": {},
   "outputs": [],
   "source": [
    "# We can make one category 'Others' from all small categories present in column  \n",
    "df1['Lead Source'] = df1['Lead Source'].replace(['Click2call', 'Live Chat', 'NC_EDM', 'Pay per Click Ads', 'Press_Release',\n",
    "  'Social Media', 'WeLearn', 'bing', 'blog', 'testone', 'welearnblog_Home', 'youtubechannel'], 'Others')"
   ]
  },
  {
   "cell_type": "code",
   "execution_count": 391,
   "metadata": {},
   "outputs": [
    {
     "data": {
      "text/plain": [
       "(array([0, 1, 2, 3, 4, 5, 6, 7, 8]), <a list of 9 Text xticklabel objects>)"
      ]
     },
     "execution_count": 391,
     "metadata": {},
     "output_type": "execute_result"
    },
    {
     "data": {
      "image/png": "[encoded data removed]",
      "text/plain": [
       "<Figure size 432x288 with 1 Axes>"
      ]
     },
     "metadata": {
      "needs_background": "light"
     },
     "output_type": "display_data"
    }
   ],
   "source": [
    "# Now plot is again \n",
    "sns.countplot(x = \"Lead Source\", hue = \"Converted\", data = df1)\n",
    "xticks(rotation = 90)"
   ]
  },
  {
   "cell_type": "markdown",
   "metadata": {},
   "source": [
    "\n",
    "Inference\n",
    "\n",
    "    Google and Direct traffic generates maximum number of leads.\n",
    "    Conversion Rate of reference leads and leads through welingak website is high.\n",
    "\n",
    "To improve overall lead conversion rate, focus should be on improving lead converion of olark chat, organic search, direct traffic, and google leads and generate more leads from reference and welingak website.\n"
   ]
  },
  {
   "cell_type": "markdown",
   "metadata": {},
   "source": [
    "\n",
    "### Do Not Email & Do Not Call"
   ]
  },
  {
   "cell_type": "code",
   "execution_count": 392,
   "metadata": {},
   "outputs": [
    {
     "data": {
      "text/plain": [
       "<matplotlib.axes._subplots.AxesSubplot at 0xe609eb8>"
      ]
     },
     "execution_count": 392,
     "metadata": {},
     "output_type": "execute_result"
    },
    {
     "data": {
      "image/png": "[encoded data removed]",
      "text/plain": [
       "<Figure size 936x504 with 2 Axes>"
      ]
     },
     "metadata": {
      "needs_background": "light"
     },
     "output_type": "display_data"
    }
   ],
   "source": [
    "fig, axs = plt.subplots(1,2,figsize = (13,7))\n",
    "sns.countplot(x = \"Do Not Email\", hue = \"Converted\", data = df1, ax = axs[0])\n",
    "sns.countplot(x = \"Do Not Call\", hue = \"Converted\", data = df1, ax = axs[1])"
   ]
  },
  {
   "cell_type": "markdown",
   "metadata": {},
   "source": [
    "###  Total Visits"
   ]
  },
  {
   "cell_type": "code",
   "execution_count": 393,
   "metadata": {},
   "outputs": [
    {
     "data": {
      "text/plain": [
       "<matplotlib.axes._subplots.AxesSubplot at 0xe5df710>"
      ]
     },
     "execution_count": 393,
     "metadata": {},
     "output_type": "execute_result"
    },
    {
     "data": {
      "image/png": "[encoded data removed]",
      "text/plain": [
       "<Figure size 432x288 with 1 Axes>"
      ]
     },
     "metadata": {
      "needs_background": "light"
     },
     "output_type": "display_data"
    }
   ],
   "source": [
    "sns.boxplot(y = df1['TotalVisits'])"
   ]
  },
  {
   "cell_type": "markdown",
   "metadata": {},
   "source": [
    "Clearly there are outliers in data set"
   ]
  },
  {
   "cell_type": "code",
   "execution_count": 394,
   "metadata": {},
   "outputs": [],
   "source": [
    "# Outlier treatment \n",
    "percentiles = df1['TotalVisits'].quantile([0.05,0.95]).values\n",
    "df1['TotalVisits'][df1['TotalVisits'] <= percentiles[0]] = percentiles[0]\n",
    "df1['TotalVisits'][df1['TotalVisits'] >= percentiles[1]] = percentiles[1]"
   ]
  },
  {
   "cell_type": "code",
   "execution_count": 395,
   "metadata": {},
   "outputs": [
    {
     "data": {
      "text/plain": [
       "<matplotlib.axes._subplots.AxesSubplot at 0xe598ef0>"
      ]
     },
     "execution_count": 395,
     "metadata": {},
     "output_type": "execute_result"
    },
    {
     "data": {
      "image/png": "[encoded data removed]",
      "text/plain": [
       "<Figure size 432x288 with 1 Axes>"
      ]
     },
     "metadata": {
      "needs_background": "light"
     },
     "output_type": "display_data"
    }
   ],
   "source": [
    "sns.boxplot(y=df1['TotalVisits'])"
   ]
  },
  {
   "cell_type": "code",
   "execution_count": 396,
   "metadata": {},
   "outputs": [
    {
     "data": {
      "text/plain": [
       "<matplotlib.axes._subplots.AxesSubplot at 0x1910f780>"
      ]
     },
     "execution_count": 396,
     "metadata": {},
     "output_type": "execute_result"
    },
    {
     "data": {
      "image/png": "[encoded data removed]",
      "text/plain": [
       "<Figure size 432x288 with 1 Axes>"
      ]
     },
     "metadata": {
      "needs_background": "light"
     },
     "output_type": "display_data"
    }
   ],
   "source": [
    "sns.boxplot(y = 'TotalVisits', x = 'Converted', data = df1)"
   ]
  },
  {
   "cell_type": "markdown",
   "metadata": {},
   "source": [
    "\n",
    "Inference\n",
    "\n",
    "    Median for converted and not converted leads are the same.\n",
    "\n",
    "Nothng conclusive can be said on the basis of Total Visits.\n"
   ]
  },
  {
   "cell_type": "markdown",
   "metadata": {},
   "source": [
    "### Total time spent on website"
   ]
  },
  {
   "cell_type": "code",
   "execution_count": 397,
   "metadata": {},
   "outputs": [
    {
     "data": {
      "text/plain": [
       "count    9074.000000\n",
       "mean      482.887481\n",
       "std       545.256560\n",
       "min         0.000000\n",
       "25%        11.000000\n",
       "50%       246.000000\n",
       "75%       922.750000\n",
       "max      2272.000000\n",
       "Name: Total Time Spent on Website, dtype: float64"
      ]
     },
     "execution_count": 397,
     "metadata": {},
     "output_type": "execute_result"
    }
   ],
   "source": [
    "df1['Total Time Spent on Website'].describe()"
   ]
  },
  {
   "cell_type": "code",
   "execution_count": 398,
   "metadata": {},
   "outputs": [
    {
     "data": {
      "text/plain": [
       "<matplotlib.axes._subplots.AxesSubplot at 0x1917e278>"
      ]
     },
     "execution_count": 398,
     "metadata": {},
     "output_type": "execute_result"
    },
    {
     "data": {
      "image/png": "[encoded data removed]",
      "text/plain": [
       "<Figure size 432x288 with 1 Axes>"
      ]
     },
     "metadata": {
      "needs_background": "light"
     },
     "output_type": "display_data"
    }
   ],
   "source": [
    "\n",
    "# Let's plot it \n",
    "sns.boxplot(y=df1['Total Time Spent on Website'])"
   ]
  },
  {
   "cell_type": "code",
   "execution_count": 399,
   "metadata": {},
   "outputs": [
    {
     "data": {
      "text/plain": [
       "<matplotlib.axes._subplots.AxesSubplot at 0x191d97f0>"
      ]
     },
     "execution_count": 399,
     "metadata": {},
     "output_type": "execute_result"
    },
    {
     "data": {
      "image/png": "[encoded data removed]",
      "text/plain": [
       "<Figure size 432x288 with 1 Axes>"
      ]
     },
     "metadata": {
      "needs_background": "light"
     },
     "output_type": "display_data"
    }
   ],
   "source": [
    "sns.boxplot(y = 'Total Time Spent on Website', x = 'Converted', data = df1)"
   ]
  },
  {
   "cell_type": "markdown",
   "metadata": {},
   "source": [
    "\n",
    "Inference\n",
    "\n",
    "    Leads spending more time on the weblise are more likely to be converted.\n",
    "\n",
    "Website should be made more engaging to make leads spend more time"
   ]
  },
  {
   "cell_type": "markdown",
   "metadata": {},
   "source": [
    "### Page views per visit"
   ]
  },
  {
   "cell_type": "code",
   "execution_count": 400,
   "metadata": {},
   "outputs": [
    {
     "data": {
      "text/plain": [
       "count    9074.000000\n",
       "mean        2.370151\n",
       "std         2.160871\n",
       "min         0.000000\n",
       "25%         1.000000\n",
       "50%         2.000000\n",
       "75%         3.200000\n",
       "max        55.000000\n",
       "Name: Page Views Per Visit, dtype: float64"
      ]
     },
     "execution_count": 400,
     "metadata": {},
     "output_type": "execute_result"
    }
   ],
   "source": [
    "df1['Page Views Per Visit'].describe()"
   ]
  },
  {
   "cell_type": "code",
   "execution_count": 401,
   "metadata": {},
   "outputs": [
    {
     "data": {
      "text/plain": [
       "<matplotlib.axes._subplots.AxesSubplot at 0x1923f710>"
      ]
     },
     "execution_count": 401,
     "metadata": {},
     "output_type": "execute_result"
    },
    {
     "data": {
      "image/png": "[encoded data removed]",
      "text/plain": [
       "<Figure size 432x288 with 1 Axes>"
      ]
     },
     "metadata": {
      "needs_background": "light"
     },
     "output_type": "display_data"
    }
   ],
   "source": [
    "sns.boxplot(y= df1['Page Views Per Visit'])"
   ]
  },
  {
   "cell_type": "markdown",
   "metadata": {},
   "source": [
    "Clearly there is outliers, Let's remove outliers "
   ]
  },
  {
   "cell_type": "code",
   "execution_count": 402,
   "metadata": {},
   "outputs": [],
   "source": [
    "# Outlier treatment \n",
    "percentiles = df1['Page Views Per Visit'].quantile([0.05,0.95]).values\n",
    "df1['Page Views Per Visit'][df1['Page Views Per Visit'] <= percentiles[0]] = percentiles[0]\n",
    "df1['Page Views Per Visit'][df1['Page Views Per Visit'] >= percentiles[1]] = percentiles[1]\n"
   ]
  },
  {
   "cell_type": "code",
   "execution_count": 403,
   "metadata": {},
   "outputs": [
    {
     "data": {
      "text/plain": [
       "<matplotlib.axes._subplots.AxesSubplot at 0x1928dd68>"
      ]
     },
     "execution_count": 403,
     "metadata": {},
     "output_type": "execute_result"
    },
    {
     "data": {
      "image/png": "[encoded data removed]",
      "text/plain": [
       "<Figure size 432x288 with 1 Axes>"
      ]
     },
     "metadata": {
      "needs_background": "light"
     },
     "output_type": "display_data"
    }
   ],
   "source": [
    "sns.boxplot(y = df1['Page Views Per Visit'])"
   ]
  },
  {
   "cell_type": "markdown",
   "metadata": {},
   "source": [
    "No outlier present in column now "
   ]
  },
  {
   "cell_type": "code",
   "execution_count": 404,
   "metadata": {},
   "outputs": [
    {
     "data": {
      "text/plain": [
       "<matplotlib.axes._subplots.AxesSubplot at 0x194c5978>"
      ]
     },
     "execution_count": 404,
     "metadata": {},
     "output_type": "execute_result"
    },
    {
     "data": {
      "image/png": "[encoded data removed]",
      "text/plain": [
       "<Figure size 432x288 with 1 Axes>"
      ]
     },
     "metadata": {
      "needs_background": "light"
     },
     "output_type": "display_data"
    }
   ],
   "source": [
    "sns.boxplot(y = 'Page Views Per Visit', x = 'Converted', data = df1)"
   ]
  },
  {
   "cell_type": "markdown",
   "metadata": {},
   "source": [
    "\n",
    "Inference¶\n",
    "\n",
    "    Median for converted and unconverted leads is the same.\n",
    "\n",
    "Nothing can be said specifically for lead conversion from Page Views Per Visit\n"
   ]
  },
  {
   "cell_type": "markdown",
   "metadata": {},
   "source": [
    "### Last activity"
   ]
  },
  {
   "cell_type": "code",
   "execution_count": 405,
   "metadata": {},
   "outputs": [
    {
     "data": {
      "text/plain": [
       "count             9074\n",
       "unique              17\n",
       "top       Email Opened\n",
       "freq              3432\n",
       "Name: Last Activity, dtype: object"
      ]
     },
     "execution_count": 405,
     "metadata": {},
     "output_type": "execute_result"
    }
   ],
   "source": [
    "df1['Last Activity'].describe()"
   ]
  },
  {
   "cell_type": "code",
   "execution_count": 406,
   "metadata": {},
   "outputs": [
    {
     "data": {
      "text/plain": [
       "(array([ 0,  1,  2,  3,  4,  5,  6,  7,  8,  9, 10, 11, 12, 13, 14, 15, 16]),\n",
       " <a list of 17 Text xticklabel objects>)"
      ]
     },
     "execution_count": 406,
     "metadata": {},
     "output_type": "execute_result"
    },
    {
     "data": {
      "image/png": "[encoded data removed]",
      "text/plain": [
       "<Figure size 1080x360 with 1 Axes>"
      ]
     },
     "metadata": {
      "needs_background": "light"
     },
     "output_type": "display_data"
    }
   ],
   "source": [
    "fig, axs = plt.subplots(figsize = (15,5))\n",
    "sns.countplot(x = \"Last Activity\", hue = \"Converted\", data = df1)\n",
    "xticks(rotation = 90)"
   ]
  },
  {
   "cell_type": "code",
   "execution_count": 407,
   "metadata": {},
   "outputs": [],
   "source": [
    "# Let's keep considerable last activities as such and club all others to \"Other_Activity\"\n",
    "df1['Last Activity'] = df1['Last Activity'].replace(['Had a Phone Conversation', 'View in browser link Clicked', \n",
    "                                                       'Visited Booth in Tradeshow', 'Approached upfront',\n",
    "                                                       'Resubscribed to emails','Email Received', 'Email Marked Spam'], 'Other_Activity')"
   ]
  },
  {
   "cell_type": "code",
   "execution_count": 408,
   "metadata": {},
   "outputs": [
    {
     "data": {
      "text/plain": [
       "(array([ 0,  1,  2,  3,  4,  5,  6,  7,  8,  9, 10]),\n",
       " <a list of 11 Text xticklabel objects>)"
      ]
     },
     "execution_count": 408,
     "metadata": {},
     "output_type": "execute_result"
    },
    {
     "data": {
      "image/png": "[encoded data removed]",
      "text/plain": [
       "<Figure size 720x360 with 1 Axes>"
      ]
     },
     "metadata": {
      "needs_background": "light"
     },
     "output_type": "display_data"
    }
   ],
   "source": [
    "\n",
    "# Let's plot is again\n",
    "fig, axs = plt.subplots(figsize = (10,5))\n",
    "sns.countplot(x = \"Last Activity\", hue = \"Converted\", data = df1)\n",
    "xticks(rotation = 90)\n",
    "\n"
   ]
  },
  {
   "cell_type": "markdown",
   "metadata": {},
   "source": [
    "\n",
    "Inference\n",
    "\n",
    "    Most of the lead have their Email opened as their last activity.\n",
    "    Conversion rate for leads with last activity as SMS Sent is almost 60%"
   ]
  },
  {
   "cell_type": "markdown",
   "metadata": {},
   "source": [
    "### Country"
   ]
  },
  {
   "cell_type": "code",
   "execution_count": 409,
   "metadata": {},
   "outputs": [
    {
     "data": {
      "text/plain": [
       "count      9074\n",
       "unique       38\n",
       "top       India\n",
       "freq       8787\n",
       "Name: Country, dtype: object"
      ]
     },
     "execution_count": 409,
     "metadata": {},
     "output_type": "execute_result"
    }
   ],
   "source": [
    "df1.Country.describe()"
   ]
  },
  {
   "cell_type": "markdown",
   "metadata": {},
   "source": [
    "\n",
    "Inference\n",
    "\n",
    "Most values are 'India' no such inference can be drawn\n"
   ]
  },
  {
   "cell_type": "markdown",
   "metadata": {},
   "source": [
    "### Specialization"
   ]
  },
  {
   "cell_type": "code",
   "execution_count": 410,
   "metadata": {},
   "outputs": [
    {
     "data": {
      "text/plain": [
       "count       9074\n",
       "unique        19\n",
       "top       Others\n",
       "freq        3282\n",
       "Name: Specialization, dtype: object"
      ]
     },
     "execution_count": 410,
     "metadata": {},
     "output_type": "execute_result"
    }
   ],
   "source": [
    "df1.Specialization.describe()"
   ]
  },
  {
   "cell_type": "code",
   "execution_count": 411,
   "metadata": {},
   "outputs": [],
   "source": [
    "# Let's replace others as Others_specialization\n",
    "df1['Specialization'] = df1['Specialization'].replace(['Others'], 'Other_Specialization')"
   ]
  },
  {
   "cell_type": "code",
   "execution_count": 412,
   "metadata": {},
   "outputs": [
    {
     "data": {
      "text/plain": [
       "(array([ 0,  1,  2,  3,  4,  5,  6,  7,  8,  9, 10, 11, 12, 13, 14, 15, 16,\n",
       "        17, 18]), <a list of 19 Text xticklabel objects>)"
      ]
     },
     "execution_count": 412,
     "metadata": {},
     "output_type": "execute_result"
    },
    {
     "data": {
      "image/png": "[encoded data removed]",
      "text/plain": [
       "<Figure size 1080x360 with 1 Axes>"
      ]
     },
     "metadata": {
      "needs_background": "light"
     },
     "output_type": "display_data"
    }
   ],
   "source": [
    "fig, axs = plt.subplots(figsize = (15,5))\n",
    "sns.countplot(x = \"Specialization\", hue = \"Converted\", data = df1)\n",
    "xticks(rotation = 90)"
   ]
  },
  {
   "cell_type": "markdown",
   "metadata": {},
   "source": [
    "\n",
    "Inference\n",
    "\n",
    "    Focus should be more on the Specialization with high conversion rate like Marketing management, Human resource management,Financial management and OPerations management\n",
    "    "
   ]
  },
  {
   "cell_type": "markdown",
   "metadata": {},
   "source": [
    "### Occupation"
   ]
  },
  {
   "cell_type": "code",
   "execution_count": 413,
   "metadata": {},
   "outputs": [
    {
     "data": {
      "text/plain": [
       "count           9074\n",
       "unique             6\n",
       "top       Unemployed\n",
       "freq            8159\n",
       "Name: What is your current occupation, dtype: object"
      ]
     },
     "execution_count": 413,
     "metadata": {},
     "output_type": "execute_result"
    }
   ],
   "source": [
    "df1['What is your current occupation'].describe()"
   ]
  },
  {
   "cell_type": "code",
   "execution_count": 414,
   "metadata": {},
   "outputs": [],
   "source": [
    "df1['What is your current occupation'] = df1['What is your current occupation'].replace(['Other'], 'Other_Occupation')"
   ]
  },
  {
   "cell_type": "code",
   "execution_count": 415,
   "metadata": {},
   "outputs": [
    {
     "data": {
      "text/plain": [
       "(array([0, 1, 2, 3, 4, 5]), <a list of 6 Text xticklabel objects>)"
      ]
     },
     "execution_count": 415,
     "metadata": {},
     "output_type": "execute_result"
    },
    {
     "data": {
      "image/png": "[encoded data removed]",
      "text/plain": [
       "<Figure size 720x360 with 1 Axes>"
      ]
     },
     "metadata": {
      "needs_background": "light"
     },
     "output_type": "display_data"
    }
   ],
   "source": [
    "fig, axs = plt.subplots(figsize = (10,5))\n",
    "sns.countplot(x = \"What is your current occupation\", hue = \"Converted\", data = df1)\n",
    "xticks(rotation = 90)"
   ]
  },
  {
   "cell_type": "markdown",
   "metadata": {},
   "source": [
    "\n",
    "Inference\n",
    "\n",
    "    Working Professionals going for the course have high chances of joining it.\n",
    "    Unemployed leads are the most in numbers but has around 35-40% conversion rate"
   ]
  },
  {
   "cell_type": "markdown",
   "metadata": {},
   "source": [
    " ### What matters most to you in choosing a course"
   ]
  },
  {
   "cell_type": "code",
   "execution_count": 416,
   "metadata": {},
   "outputs": [
    {
     "data": {
      "text/plain": [
       "count                        9074\n",
       "unique                          3\n",
       "top       Better Career Prospects\n",
       "freq                         9072\n",
       "Name: What matters most to you in choosing a course, dtype: object"
      ]
     },
     "execution_count": 416,
     "metadata": {},
     "output_type": "execute_result"
    }
   ],
   "source": [
    "df1['What matters most to you in choosing a course'].describe()"
   ]
  },
  {
   "cell_type": "markdown",
   "metadata": {},
   "source": [
    "\n",
    "Inference\n",
    "\n",
    "Most entries are 'Better Career Prospects'. No Inference can be drawn with this parameter.\n"
   ]
  },
  {
   "cell_type": "markdown",
   "metadata": {},
   "source": [
    "### Search"
   ]
  },
  {
   "cell_type": "code",
   "execution_count": 417,
   "metadata": {},
   "outputs": [
    {
     "data": {
      "text/plain": [
       "count     9074\n",
       "unique       2\n",
       "top         No\n",
       "freq      9060\n",
       "Name: Search, dtype: object"
      ]
     },
     "execution_count": 417,
     "metadata": {},
     "output_type": "execute_result"
    }
   ],
   "source": [
    "df1.Search.describe()"
   ]
  },
  {
   "cell_type": "markdown",
   "metadata": {},
   "source": [
    "\n",
    "Inference¶\n",
    "\n",
    "Most entries are 'No'. No Inference can be drawn with this parameter.\n"
   ]
  },
  {
   "cell_type": "markdown",
   "metadata": {},
   "source": [
    "### Magazine"
   ]
  },
  {
   "cell_type": "code",
   "execution_count": 418,
   "metadata": {},
   "outputs": [
    {
     "data": {
      "text/plain": [
       "count     9074\n",
       "unique       1\n",
       "top         No\n",
       "freq      9074\n",
       "Name: Magazine, dtype: object"
      ]
     },
     "execution_count": 418,
     "metadata": {},
     "output_type": "execute_result"
    }
   ],
   "source": [
    "df1.Magazine.describe()"
   ]
  },
  {
   "cell_type": "markdown",
   "metadata": {},
   "source": [
    "Inference¶\n",
    "\n",
    "All entries are 'No'. No Inference can be drawn with this parameter"
   ]
  },
  {
   "cell_type": "markdown",
   "metadata": {},
   "source": [
    "### Newspaper Article"
   ]
  },
  {
   "cell_type": "code",
   "execution_count": 419,
   "metadata": {},
   "outputs": [
    {
     "data": {
      "text/plain": [
       "count     9074\n",
       "unique       2\n",
       "top         No\n",
       "freq      9072\n",
       "Name: Newspaper Article, dtype: object"
      ]
     },
     "execution_count": 419,
     "metadata": {},
     "output_type": "execute_result"
    }
   ],
   "source": [
    "df1['Newspaper Article'].describe()"
   ]
  },
  {
   "cell_type": "markdown",
   "metadata": {},
   "source": [
    "\n",
    "Inference¶\n",
    "\n",
    "Most entries are 'No'. No Inference can be drawn with this parameter."
   ]
  },
  {
   "cell_type": "markdown",
   "metadata": {},
   "source": [
    "### X Education Forums"
   ]
  },
  {
   "cell_type": "code",
   "execution_count": 420,
   "metadata": {},
   "outputs": [
    {
     "data": {
      "text/plain": [
       "count     9074\n",
       "unique       2\n",
       "top         No\n",
       "freq      9073\n",
       "Name: X Education Forums, dtype: object"
      ]
     },
     "execution_count": 420,
     "metadata": {},
     "output_type": "execute_result"
    }
   ],
   "source": [
    "df1['X Education Forums'].describe()"
   ]
  },
  {
   "cell_type": "markdown",
   "metadata": {},
   "source": [
    "Inference¶\n",
    "\n",
    "Most entries are 'No'. No Inference can be drawn with this parameter"
   ]
  },
  {
   "cell_type": "markdown",
   "metadata": {},
   "source": [
    "### Digital Advertisement"
   ]
  },
  {
   "cell_type": "code",
   "execution_count": 422,
   "metadata": {},
   "outputs": [
    {
     "data": {
      "text/plain": [
       "count     9074\n",
       "unique       2\n",
       "top         No\n",
       "freq      9070\n",
       "Name: Digital Advertisement, dtype: object"
      ]
     },
     "execution_count": 422,
     "metadata": {},
     "output_type": "execute_result"
    }
   ],
   "source": [
    "df1['Digital Advertisement'].describe()"
   ]
  },
  {
   "cell_type": "markdown",
   "metadata": {},
   "source": [
    "Inference¶\n",
    "\n",
    "Most entries are 'No'. No Inference can be drawn with this parameter"
   ]
  },
  {
   "cell_type": "markdown",
   "metadata": {},
   "source": [
    "### Through Recommendations"
   ]
  },
  {
   "cell_type": "code",
   "execution_count": 423,
   "metadata": {},
   "outputs": [
    {
     "data": {
      "text/plain": [
       "count     9074\n",
       "unique       2\n",
       "top         No\n",
       "freq      9067\n",
       "Name: Through Recommendations, dtype: object"
      ]
     },
     "execution_count": 423,
     "metadata": {},
     "output_type": "execute_result"
    }
   ],
   "source": [
    "df1['Through Recommendations'].describe()"
   ]
  },
  {
   "cell_type": "markdown",
   "metadata": {},
   "source": [
    "Inference¶\n",
    "\n",
    "Most entries are 'No'. No Inference can be drawn with this parameter"
   ]
  },
  {
   "cell_type": "markdown",
   "metadata": {},
   "source": [
    "### Receive More Updates About Our Courses"
   ]
  },
  {
   "cell_type": "code",
   "execution_count": 424,
   "metadata": {},
   "outputs": [
    {
     "data": {
      "text/plain": [
       "count     9074\n",
       "unique       1\n",
       "top         No\n",
       "freq      9074\n",
       "Name: Receive More Updates About Our Courses, dtype: object"
      ]
     },
     "execution_count": 424,
     "metadata": {},
     "output_type": "execute_result"
    }
   ],
   "source": [
    "df1['Receive More Updates About Our Courses'].describe()"
   ]
  },
  {
   "cell_type": "markdown",
   "metadata": {},
   "source": [
    "Inference¶\n",
    "\n",
    "All entries are 'No'. No Inference can be drawn with this parameter"
   ]
  },
  {
   "cell_type": "markdown",
   "metadata": {},
   "source": [
    "### Tags"
   ]
  },
  {
   "cell_type": "code",
   "execution_count": 425,
   "metadata": {},
   "outputs": [
    {
     "data": {
      "text/plain": [
       "count                                    9074\n",
       "unique                                     26\n",
       "top       Will revert after reading the email\n",
       "freq                                     5343\n",
       "Name: Tags, dtype: object"
      ]
     },
     "execution_count": 425,
     "metadata": {},
     "output_type": "execute_result"
    }
   ],
   "source": [
    "df1.Tags.describe()\n"
   ]
  },
  {
   "cell_type": "code",
   "execution_count": 426,
   "metadata": {},
   "outputs": [
    {
     "data": {
      "text/plain": [
       "(array([ 0,  1,  2,  3,  4,  5,  6,  7,  8,  9, 10, 11, 12, 13, 14, 15, 16,\n",
       "        17, 18, 19, 20, 21, 22, 23, 24, 25]),\n",
       " <a list of 26 Text xticklabel objects>)"
      ]
     },
     "execution_count": 426,
     "metadata": {},
     "output_type": "execute_result"
    },
    {
     "data": {
      "image/png": "[encoded data removed]",
      "text/plain": [
       "<Figure size 1080x360 with 1 Axes>"
      ]
     },
     "metadata": {
      "needs_background": "light"
     },
     "output_type": "display_data"
    }
   ],
   "source": [
    "fig, axs = plt.subplots(figsize = (15,5))\n",
    "sns.countplot(x = \"Tags\", hue = \"Converted\", data = df1)\n",
    "xticks(rotation = 90)"
   ]
  },
  {
   "cell_type": "code",
   "execution_count": 427,
   "metadata": {},
   "outputs": [],
   "source": [
    "# Let's keep considerable last activities as such and club all others to \"Other_Activity\"\n",
    "df1['Tags'] = df1['Tags'].replace(['In confusion whether part time or DLP', 'in touch with EINS','Diploma holder (Not Eligible)',\n",
    "                                     'Approached upfront','Graduation in progress','number not provided', 'opp hangup','Still Thinking',\n",
    "                                    'Lost to Others','Shall take in the next coming month','Lateral student','Interested in Next batch',\n",
    "                                    'Recognition issue (DEC approval)','Want to take admission but has financial problems',\n",
    "                                    'University not recognized'], 'Other_Tags')"
   ]
  },
  {
   "cell_type": "code",
   "execution_count": 428,
   "metadata": {},
   "outputs": [
    {
     "data": {
      "text/plain": [
       "(array([ 0,  1,  2,  3,  4,  5,  6,  7,  8,  9, 10, 11, 12]),\n",
       " <a list of 13 Text xticklabel objects>)"
      ]
     },
     "execution_count": 428,
     "metadata": {},
     "output_type": "execute_result"
    },
    {
     "data": {
      "image/png": "[encoded data removed]",
      "text/plain": [
       "<Figure size 720x360 with 1 Axes>"
      ]
     },
     "metadata": {
      "needs_background": "light"
     },
     "output_type": "display_data"
    }
   ],
   "source": [
    "fig, axs = plt.subplots(figsize = (10,5))\n",
    "sns.countplot(x = \"Tags\", hue = \"Converted\", data = df1)\n",
    "xticks(rotation = 90)"
   ]
  },
  {
   "cell_type": "markdown",
   "metadata": {},
   "source": [
    "Inference\n",
    "\n",
    "'Will revert after reading the mail' and 'Closed by Horizon' is very high conversion rate "
   ]
  },
  {
   "cell_type": "markdown",
   "metadata": {},
   "source": [
    "### Lead Quality"
   ]
  },
  {
   "cell_type": "code",
   "execution_count": 429,
   "metadata": {},
   "outputs": [
    {
     "data": {
      "text/plain": [
       "count         9074\n",
       "unique           5\n",
       "top       Not Sure\n",
       "freq          5806\n",
       "Name: Lead Quality, dtype: object"
      ]
     },
     "execution_count": 429,
     "metadata": {},
     "output_type": "execute_result"
    }
   ],
   "source": [
    "df1['Lead Quality'].describe()"
   ]
  },
  {
   "cell_type": "code",
   "execution_count": 430,
   "metadata": {},
   "outputs": [
    {
     "data": {
      "text/plain": [
       "(array([0, 1, 2, 3, 4]), <a list of 5 Text xticklabel objects>)"
      ]
     },
     "execution_count": 430,
     "metadata": {},
     "output_type": "execute_result"
    },
    {
     "data": {
      "image/png": "[encoded data removed]",
      "text/plain": [
       "<Figure size 720x360 with 1 Axes>"
      ]
     },
     "metadata": {
      "needs_background": "light"
     },
     "output_type": "display_data"
    }
   ],
   "source": [
    "fig, axs = plt.subplots(figsize = (10,5))\n",
    "sns.countplot(x = \"Lead Quality\", hue = \"Converted\", data = df1)\n",
    "xticks(rotation = 90)"
   ]
  },
  {
   "cell_type": "markdown",
   "metadata": {},
   "source": [
    "Inference\n",
    "\n",
    "Not Sure have to focus more "
   ]
  },
  {
   "cell_type": "markdown",
   "metadata": {},
   "source": [
    "### Update me on Supply Chain Content"
   ]
  },
  {
   "cell_type": "code",
   "execution_count": 431,
   "metadata": {},
   "outputs": [
    {
     "data": {
      "text/plain": [
       "count     9074\n",
       "unique       1\n",
       "top         No\n",
       "freq      9074\n",
       "Name: Update me on Supply Chain Content, dtype: object"
      ]
     },
     "execution_count": 431,
     "metadata": {},
     "output_type": "execute_result"
    }
   ],
   "source": [
    "df1['Update me on Supply Chain Content'].describe()"
   ]
  },
  {
   "cell_type": "markdown",
   "metadata": {},
   "source": [
    "Inference¶\n",
    "\n",
    "All entries are 'No'. No Inference can be drawn with this parameter"
   ]
  },
  {
   "cell_type": "markdown",
   "metadata": {},
   "source": [
    "### Get updates on DM Content"
   ]
  },
  {
   "cell_type": "code",
   "execution_count": 432,
   "metadata": {},
   "outputs": [
    {
     "data": {
      "text/plain": [
       "count     9074\n",
       "unique       1\n",
       "top         No\n",
       "freq      9074\n",
       "Name: Get updates on DM Content, dtype: object"
      ]
     },
     "execution_count": 432,
     "metadata": {},
     "output_type": "execute_result"
    }
   ],
   "source": [
    "df1['Get updates on DM Content'].describe()"
   ]
  },
  {
   "cell_type": "markdown",
   "metadata": {},
   "source": [
    "Inference¶\n",
    "\n",
    "All entries are 'No'. No Inference can be drawn with this parameter"
   ]
  },
  {
   "cell_type": "markdown",
   "metadata": {},
   "source": [
    "### I agree to pay the amount through cheque"
   ]
  },
  {
   "cell_type": "code",
   "execution_count": 433,
   "metadata": {},
   "outputs": [
    {
     "data": {
      "text/plain": [
       "count     9074\n",
       "unique       1\n",
       "top         No\n",
       "freq      9074\n",
       "Name: I agree to pay the amount through cheque, dtype: object"
      ]
     },
     "execution_count": 433,
     "metadata": {},
     "output_type": "execute_result"
    }
   ],
   "source": [
    "df1['I agree to pay the amount through cheque'].describe()"
   ]
  },
  {
   "cell_type": "markdown",
   "metadata": {},
   "source": [
    "Inference¶\n",
    "\n",
    "All entries are 'No'. No Inference can be drawn with this parameter."
   ]
  },
  {
   "cell_type": "markdown",
   "metadata": {},
   "source": [
    "### A free copy of Mastering The Interview"
   ]
  },
  {
   "cell_type": "code",
   "execution_count": 434,
   "metadata": {},
   "outputs": [
    {
     "data": {
      "text/plain": [
       "count     9074\n",
       "unique       2\n",
       "top         No\n",
       "freq      6186\n",
       "Name: A free copy of Mastering The Interview, dtype: object"
      ]
     },
     "execution_count": 434,
     "metadata": {},
     "output_type": "execute_result"
    }
   ],
   "source": [
    "df1['A free copy of Mastering The Interview'].describe()"
   ]
  },
  {
   "cell_type": "markdown",
   "metadata": {},
   "source": [
    "\n",
    "Inference\n",
    "\n",
    "Most entries are 'No'. No Inference can be drawn with this parameter.\n"
   ]
  },
  {
   "cell_type": "markdown",
   "metadata": {},
   "source": [
    "### City"
   ]
  },
  {
   "cell_type": "code",
   "execution_count": 435,
   "metadata": {},
   "outputs": [
    {
     "data": {
      "text/plain": [
       "count       9074\n",
       "unique         6\n",
       "top       Mumbai\n",
       "freq        6752\n",
       "Name: City, dtype: object"
      ]
     },
     "execution_count": 435,
     "metadata": {},
     "output_type": "execute_result"
    }
   ],
   "source": [
    "df1.City.describe()"
   ]
  },
  {
   "cell_type": "code",
   "execution_count": 436,
   "metadata": {},
   "outputs": [
    {
     "data": {
      "text/plain": [
       "(array([0, 1, 2, 3, 4, 5]), <a list of 6 Text xticklabel objects>)"
      ]
     },
     "execution_count": 436,
     "metadata": {},
     "output_type": "execute_result"
    },
    {
     "data": {
      "image/png": "[encoded data removed]",
      "text/plain": [
       "<Figure size 720x360 with 1 Axes>"
      ]
     },
     "metadata": {
      "needs_background": "light"
     },
     "output_type": "display_data"
    }
   ],
   "source": [
    "fig, axs = plt.subplots(figsize = (10,5))\n",
    "sns.countplot(x = \"City\", hue = \"Converted\", data = df1)\n",
    "xticks(rotation = 90)"
   ]
  },
  {
   "cell_type": "markdown",
   "metadata": {},
   "source": [
    "\n",
    "Inference\n",
    "\n",
    "Most leads are from mumbai with around 30% conversion rate"
   ]
  },
  {
   "cell_type": "markdown",
   "metadata": {},
   "source": [
    "### Last Notable Activity"
   ]
  },
  {
   "cell_type": "code",
   "execution_count": 437,
   "metadata": {},
   "outputs": [
    {
     "data": {
      "text/plain": [
       "count         9074\n",
       "unique          16\n",
       "top       Modified\n",
       "freq          3267\n",
       "Name: Last Notable Activity, dtype: object"
      ]
     },
     "execution_count": 437,
     "metadata": {},
     "output_type": "execute_result"
    }
   ],
   "source": [
    "df1['Last Notable Activity'].describe()"
   ]
  },
  {
   "cell_type": "code",
   "execution_count": 438,
   "metadata": {},
   "outputs": [
    {
     "data": {
      "text/plain": [
       "(array([ 0,  1,  2,  3,  4,  5,  6,  7,  8,  9, 10, 11, 12, 13, 14, 15]),\n",
       " <a list of 16 Text xticklabel objects>)"
      ]
     },
     "execution_count": 438,
     "metadata": {},
     "output_type": "execute_result"
    },
    {
     "data": {
      "image/png": "[encoded data removed]",
      "text/plain": [
       "<Figure size 720x360 with 1 Axes>"
      ]
     },
     "metadata": {
      "needs_background": "light"
     },
     "output_type": "display_data"
    }
   ],
   "source": [
    "fig, axs = plt.subplots(figsize = (10,5))\n",
    "sns.countplot(x = \"Last Notable Activity\", hue = \"Converted\", data = df1)\n",
    "xticks(rotation = 90)"
   ]
  },
  {
   "cell_type": "markdown",
   "metadata": {},
   "source": [
    "Inference\n",
    "\n",
    "SMS sent have high rate of conversion, Email opened and Modified need to focus"
   ]
  },
  {
   "cell_type": "markdown",
   "metadata": {},
   "source": [
    "### Results\n",
    "\n",
    "Based on the univariate analysis we have seen that many columns are not adding any information to the model, heance we can drop them for further analysis\n"
   ]
  },
  {
   "cell_type": "code",
   "execution_count": 439,
   "metadata": {},
   "outputs": [],
   "source": [
    "df1 = df1.drop(['Lead Number','What matters most to you in choosing a course','Search','Magazine','Newspaper Article','X Education Forums','Newspaper',\n",
    "           'Digital Advertisement','Through Recommendations','Receive More Updates About Our Courses','Update me on Supply Chain Content',\n",
    "           'Get updates on DM Content','I agree to pay the amount through cheque','A free copy of Mastering The Interview','Country'],1)"
   ]
  },
  {
   "cell_type": "code",
   "execution_count": 440,
   "metadata": {},
   "outputs": [
    {
     "data": {
      "text/plain": [
       "(9074, 16)"
      ]
     },
     "execution_count": 440,
     "metadata": {},
     "output_type": "execute_result"
    }
   ],
   "source": [
    "# Let's check shape of data now \n",
    "df1.shape"
   ]
  },
  {
   "cell_type": "code",
   "execution_count": 441,
   "metadata": {},
   "outputs": [
    {
     "data": {
      "text/html": [
       "<div>\n",
       "<style scoped>\n",
       "    .dataframe tbody tr th:only-of-type {\n",
       "        vertical-align: middle;\n",
       "    }\n",
       "\n",
       "    .dataframe tbody tr th {\n",
       "        vertical-align: top;\n",
       "    }\n",
       "\n",
       "    .dataframe thead th {\n",
       "        text-align: right;\n",
       "    }\n",
       "</style>\n",
       "<table border=\"1\" class=\"dataframe\">\n",
       "  <thead>\n",
       "    <tr style=\"text-align: right;\">\n",
       "      <th></th>\n",
       "      <th>Prospect ID</th>\n",
       "      <th>Lead Origin</th>\n",
       "      <th>Lead Source</th>\n",
       "      <th>Do Not Email</th>\n",
       "      <th>Do Not Call</th>\n",
       "      <th>Converted</th>\n",
       "      <th>TotalVisits</th>\n",
       "      <th>Total Time Spent on Website</th>\n",
       "      <th>Page Views Per Visit</th>\n",
       "      <th>Last Activity</th>\n",
       "      <th>Specialization</th>\n",
       "      <th>What is your current occupation</th>\n",
       "      <th>Tags</th>\n",
       "      <th>Lead Quality</th>\n",
       "      <th>City</th>\n",
       "      <th>Last Notable Activity</th>\n",
       "    </tr>\n",
       "  </thead>\n",
       "  <tbody>\n",
       "    <tr>\n",
       "      <th>0</th>\n",
       "      <td>7927b2df-8bba-4d29-b9a2-b6e0beafe620</td>\n",
       "      <td>API</td>\n",
       "      <td>Olark Chat</td>\n",
       "      <td>No</td>\n",
       "      <td>No</td>\n",
       "      <td>0</td>\n",
       "      <td>0.0</td>\n",
       "      <td>0</td>\n",
       "      <td>0.0</td>\n",
       "      <td>Page Visited on Website</td>\n",
       "      <td>Other_Specialization</td>\n",
       "      <td>Unemployed</td>\n",
       "      <td>Interested in other courses</td>\n",
       "      <td>Low in Relevance</td>\n",
       "      <td>Mumbai</td>\n",
       "      <td>Modified</td>\n",
       "    </tr>\n",
       "    <tr>\n",
       "      <th>1</th>\n",
       "      <td>2a272436-5132-4136-86fa-dcc88c88f482</td>\n",
       "      <td>API</td>\n",
       "      <td>Organic Search</td>\n",
       "      <td>No</td>\n",
       "      <td>No</td>\n",
       "      <td>0</td>\n",
       "      <td>5.0</td>\n",
       "      <td>674</td>\n",
       "      <td>2.5</td>\n",
       "      <td>Email Opened</td>\n",
       "      <td>Other_Specialization</td>\n",
       "      <td>Unemployed</td>\n",
       "      <td>Ringing</td>\n",
       "      <td>Not Sure</td>\n",
       "      <td>Mumbai</td>\n",
       "      <td>Email Opened</td>\n",
       "    </tr>\n",
       "    <tr>\n",
       "      <th>2</th>\n",
       "      <td>8cc8c611-a219-4f35-ad23-fdfd2656bd8a</td>\n",
       "      <td>Landing Page Submission</td>\n",
       "      <td>Direct Traffic</td>\n",
       "      <td>No</td>\n",
       "      <td>No</td>\n",
       "      <td>1</td>\n",
       "      <td>2.0</td>\n",
       "      <td>1532</td>\n",
       "      <td>2.0</td>\n",
       "      <td>Email Opened</td>\n",
       "      <td>Business Administration</td>\n",
       "      <td>Student</td>\n",
       "      <td>Will revert after reading the email</td>\n",
       "      <td>Might be</td>\n",
       "      <td>Mumbai</td>\n",
       "      <td>Email Opened</td>\n",
       "    </tr>\n",
       "    <tr>\n",
       "      <th>3</th>\n",
       "      <td>0cc2df48-7cf4-4e39-9de9-19797f9b38cc</td>\n",
       "      <td>Landing Page Submission</td>\n",
       "      <td>Direct Traffic</td>\n",
       "      <td>No</td>\n",
       "      <td>No</td>\n",
       "      <td>0</td>\n",
       "      <td>1.0</td>\n",
       "      <td>305</td>\n",
       "      <td>1.0</td>\n",
       "      <td>Unreachable</td>\n",
       "      <td>Media and Advertising</td>\n",
       "      <td>Unemployed</td>\n",
       "      <td>Ringing</td>\n",
       "      <td>Not Sure</td>\n",
       "      <td>Mumbai</td>\n",
       "      <td>Modified</td>\n",
       "    </tr>\n",
       "    <tr>\n",
       "      <th>4</th>\n",
       "      <td>3256f628-e534-4826-9d63-4a8b88782852</td>\n",
       "      <td>Landing Page Submission</td>\n",
       "      <td>Google</td>\n",
       "      <td>No</td>\n",
       "      <td>No</td>\n",
       "      <td>1</td>\n",
       "      <td>2.0</td>\n",
       "      <td>1428</td>\n",
       "      <td>1.0</td>\n",
       "      <td>Converted to Lead</td>\n",
       "      <td>Other_Specialization</td>\n",
       "      <td>Unemployed</td>\n",
       "      <td>Will revert after reading the email</td>\n",
       "      <td>Might be</td>\n",
       "      <td>Mumbai</td>\n",
       "      <td>Modified</td>\n",
       "    </tr>\n",
       "  </tbody>\n",
       "</table>\n",
       "</div>"
      ],
      "text/plain": [
       "                            Prospect ID              Lead Origin  \\\n",
       "0  7927b2df-8bba-4d29-b9a2-b6e0beafe620                      API   \n",
       "1  2a272436-5132-4136-86fa-dcc88c88f482                      API   \n",
       "2  8cc8c611-a219-4f35-ad23-fdfd2656bd8a  Landing Page Submission   \n",
       "3  0cc2df48-7cf4-4e39-9de9-19797f9b38cc  Landing Page Submission   \n",
       "4  3256f628-e534-4826-9d63-4a8b88782852  Landing Page Submission   \n",
       "\n",
       "      Lead Source Do Not Email Do Not Call  Converted  TotalVisits  \\\n",
       "0      Olark Chat           No          No          0          0.0   \n",
       "1  Organic Search           No          No          0          5.0   \n",
       "2  Direct Traffic           No          No          1          2.0   \n",
       "3  Direct Traffic           No          No          0          1.0   \n",
       "4          Google           No          No          1          2.0   \n",
       "\n",
       "   Total Time Spent on Website  Page Views Per Visit            Last Activity  \\\n",
       "0                            0                   0.0  Page Visited on Website   \n",
       "1                          674                   2.5             Email Opened   \n",
       "2                         1532                   2.0             Email Opened   \n",
       "3                          305                   1.0              Unreachable   \n",
       "4                         1428                   1.0        Converted to Lead   \n",
       "\n",
       "            Specialization What is your current occupation  \\\n",
       "0     Other_Specialization                      Unemployed   \n",
       "1     Other_Specialization                      Unemployed   \n",
       "2  Business Administration                         Student   \n",
       "3    Media and Advertising                      Unemployed   \n",
       "4     Other_Specialization                      Unemployed   \n",
       "\n",
       "                                  Tags      Lead Quality    City  \\\n",
       "0          Interested in other courses  Low in Relevance  Mumbai   \n",
       "1                              Ringing          Not Sure  Mumbai   \n",
       "2  Will revert after reading the email          Might be  Mumbai   \n",
       "3                              Ringing          Not Sure  Mumbai   \n",
       "4  Will revert after reading the email          Might be  Mumbai   \n",
       "\n",
       "  Last Notable Activity  \n",
       "0              Modified  \n",
       "1          Email Opened  \n",
       "2          Email Opened  \n",
       "3              Modified  \n",
       "4              Modified  "
      ]
     },
     "execution_count": 441,
     "metadata": {},
     "output_type": "execute_result"
    }
   ],
   "source": [
    "df1.head()"
   ]
  },
  {
   "cell_type": "markdown",
   "metadata": {},
   "source": [
    "### Data Preparation"
   ]
  },
  {
   "cell_type": "code",
   "execution_count": 442,
   "metadata": {},
   "outputs": [],
   "source": [
    "# List of variables to map Yes/No to 1/0\n",
    "\n",
    "varlist =  ['Do Not Email', 'Do Not Call']\n",
    "\n",
    "# Defining the map function\n",
    "def binary_map(x):\n",
    "    return x.map({'Yes': 1, \"No\": 0})\n",
    "\n",
    "# Applying the function to the housing list\n",
    "df1[varlist] = df1[varlist].apply(binary_map)"
   ]
  },
  {
   "cell_type": "code",
   "execution_count": 443,
   "metadata": {},
   "outputs": [
    {
     "data": {
      "text/html": [
       "<div>\n",
       "<style scoped>\n",
       "    .dataframe tbody tr th:only-of-type {\n",
       "        vertical-align: middle;\n",
       "    }\n",
       "\n",
       "    .dataframe tbody tr th {\n",
       "        vertical-align: top;\n",
       "    }\n",
       "\n",
       "    .dataframe thead th {\n",
       "        text-align: right;\n",
       "    }\n",
       "</style>\n",
       "<table border=\"1\" class=\"dataframe\">\n",
       "  <thead>\n",
       "    <tr style=\"text-align: right;\">\n",
       "      <th></th>\n",
       "      <th>Prospect ID</th>\n",
       "      <th>Lead Origin</th>\n",
       "      <th>Lead Source</th>\n",
       "      <th>Do Not Email</th>\n",
       "      <th>Do Not Call</th>\n",
       "      <th>Converted</th>\n",
       "      <th>TotalVisits</th>\n",
       "      <th>Total Time Spent on Website</th>\n",
       "      <th>Page Views Per Visit</th>\n",
       "      <th>Last Activity</th>\n",
       "      <th>Specialization</th>\n",
       "      <th>What is your current occupation</th>\n",
       "      <th>Tags</th>\n",
       "      <th>Lead Quality</th>\n",
       "      <th>City</th>\n",
       "      <th>Last Notable Activity</th>\n",
       "    </tr>\n",
       "  </thead>\n",
       "  <tbody>\n",
       "    <tr>\n",
       "      <th>0</th>\n",
       "      <td>7927b2df-8bba-4d29-b9a2-b6e0beafe620</td>\n",
       "      <td>API</td>\n",
       "      <td>Olark Chat</td>\n",
       "      <td>0</td>\n",
       "      <td>0</td>\n",
       "      <td>0</td>\n",
       "      <td>0.0</td>\n",
       "      <td>0</td>\n",
       "      <td>0.0</td>\n",
       "      <td>Page Visited on Website</td>\n",
       "      <td>Other_Specialization</td>\n",
       "      <td>Unemployed</td>\n",
       "      <td>Interested in other courses</td>\n",
       "      <td>Low in Relevance</td>\n",
       "      <td>Mumbai</td>\n",
       "      <td>Modified</td>\n",
       "    </tr>\n",
       "    <tr>\n",
       "      <th>1</th>\n",
       "      <td>2a272436-5132-4136-86fa-dcc88c88f482</td>\n",
       "      <td>API</td>\n",
       "      <td>Organic Search</td>\n",
       "      <td>0</td>\n",
       "      <td>0</td>\n",
       "      <td>0</td>\n",
       "      <td>5.0</td>\n",
       "      <td>674</td>\n",
       "      <td>2.5</td>\n",
       "      <td>Email Opened</td>\n",
       "      <td>Other_Specialization</td>\n",
       "      <td>Unemployed</td>\n",
       "      <td>Ringing</td>\n",
       "      <td>Not Sure</td>\n",
       "      <td>Mumbai</td>\n",
       "      <td>Email Opened</td>\n",
       "    </tr>\n",
       "    <tr>\n",
       "      <th>2</th>\n",
       "      <td>8cc8c611-a219-4f35-ad23-fdfd2656bd8a</td>\n",
       "      <td>Landing Page Submission</td>\n",
       "      <td>Direct Traffic</td>\n",
       "      <td>0</td>\n",
       "      <td>0</td>\n",
       "      <td>1</td>\n",
       "      <td>2.0</td>\n",
       "      <td>1532</td>\n",
       "      <td>2.0</td>\n",
       "      <td>Email Opened</td>\n",
       "      <td>Business Administration</td>\n",
       "      <td>Student</td>\n",
       "      <td>Will revert after reading the email</td>\n",
       "      <td>Might be</td>\n",
       "      <td>Mumbai</td>\n",
       "      <td>Email Opened</td>\n",
       "    </tr>\n",
       "    <tr>\n",
       "      <th>3</th>\n",
       "      <td>0cc2df48-7cf4-4e39-9de9-19797f9b38cc</td>\n",
       "      <td>Landing Page Submission</td>\n",
       "      <td>Direct Traffic</td>\n",
       "      <td>0</td>\n",
       "      <td>0</td>\n",
       "      <td>0</td>\n",
       "      <td>1.0</td>\n",
       "      <td>305</td>\n",
       "      <td>1.0</td>\n",
       "      <td>Unreachable</td>\n",
       "      <td>Media and Advertising</td>\n",
       "      <td>Unemployed</td>\n",
       "      <td>Ringing</td>\n",
       "      <td>Not Sure</td>\n",
       "      <td>Mumbai</td>\n",
       "      <td>Modified</td>\n",
       "    </tr>\n",
       "    <tr>\n",
       "      <th>4</th>\n",
       "      <td>3256f628-e534-4826-9d63-4a8b88782852</td>\n",
       "      <td>Landing Page Submission</td>\n",
       "      <td>Google</td>\n",
       "      <td>0</td>\n",
       "      <td>0</td>\n",
       "      <td>1</td>\n",
       "      <td>2.0</td>\n",
       "      <td>1428</td>\n",
       "      <td>1.0</td>\n",
       "      <td>Converted to Lead</td>\n",
       "      <td>Other_Specialization</td>\n",
       "      <td>Unemployed</td>\n",
       "      <td>Will revert after reading the email</td>\n",
       "      <td>Might be</td>\n",
       "      <td>Mumbai</td>\n",
       "      <td>Modified</td>\n",
       "    </tr>\n",
       "  </tbody>\n",
       "</table>\n",
       "</div>"
      ],
      "text/plain": [
       "                            Prospect ID              Lead Origin  \\\n",
       "0  7927b2df-8bba-4d29-b9a2-b6e0beafe620                      API   \n",
       "1  2a272436-5132-4136-86fa-dcc88c88f482                      API   \n",
       "2  8cc8c611-a219-4f35-ad23-fdfd2656bd8a  Landing Page Submission   \n",
       "3  0cc2df48-7cf4-4e39-9de9-19797f9b38cc  Landing Page Submission   \n",
       "4  3256f628-e534-4826-9d63-4a8b88782852  Landing Page Submission   \n",
       "\n",
       "      Lead Source  Do Not Email  Do Not Call  Converted  TotalVisits  \\\n",
       "0      Olark Chat             0            0          0          0.0   \n",
       "1  Organic Search             0            0          0          5.0   \n",
       "2  Direct Traffic             0            0          1          2.0   \n",
       "3  Direct Traffic             0            0          0          1.0   \n",
       "4          Google             0            0          1          2.0   \n",
       "\n",
       "   Total Time Spent on Website  Page Views Per Visit            Last Activity  \\\n",
       "0                            0                   0.0  Page Visited on Website   \n",
       "1                          674                   2.5             Email Opened   \n",
       "2                         1532                   2.0             Email Opened   \n",
       "3                          305                   1.0              Unreachable   \n",
       "4                         1428                   1.0        Converted to Lead   \n",
       "\n",
       "            Specialization What is your current occupation  \\\n",
       "0     Other_Specialization                      Unemployed   \n",
       "1     Other_Specialization                      Unemployed   \n",
       "2  Business Administration                         Student   \n",
       "3    Media and Advertising                      Unemployed   \n",
       "4     Other_Specialization                      Unemployed   \n",
       "\n",
       "                                  Tags      Lead Quality    City  \\\n",
       "0          Interested in other courses  Low in Relevance  Mumbai   \n",
       "1                              Ringing          Not Sure  Mumbai   \n",
       "2  Will revert after reading the email          Might be  Mumbai   \n",
       "3                              Ringing          Not Sure  Mumbai   \n",
       "4  Will revert after reading the email          Might be  Mumbai   \n",
       "\n",
       "  Last Notable Activity  \n",
       "0              Modified  \n",
       "1          Email Opened  \n",
       "2          Email Opened  \n",
       "3              Modified  \n",
       "4              Modified  "
      ]
     },
     "execution_count": 443,
     "metadata": {},
     "output_type": "execute_result"
    }
   ],
   "source": [
    "df1.head()"
   ]
  },
  {
   "cell_type": "markdown",
   "metadata": {},
   "source": [
    "\n",
    "For categorical variables with multiple levels, create dummy features (one-hot encoded)"
   ]
  },
  {
   "cell_type": "code",
   "execution_count": 444,
   "metadata": {},
   "outputs": [
    {
     "data": {
      "text/html": [
       "<div>\n",
       "<style scoped>\n",
       "    .dataframe tbody tr th:only-of-type {\n",
       "        vertical-align: middle;\n",
       "    }\n",
       "\n",
       "    .dataframe tbody tr th {\n",
       "        vertical-align: top;\n",
       "    }\n",
       "\n",
       "    .dataframe thead th {\n",
       "        text-align: right;\n",
       "    }\n",
       "</style>\n",
       "<table border=\"1\" class=\"dataframe\">\n",
       "  <thead>\n",
       "    <tr style=\"text-align: right;\">\n",
       "      <th></th>\n",
       "      <th>Lead Origin_Landing Page Submission</th>\n",
       "      <th>Lead Origin_Lead Add Form</th>\n",
       "      <th>Lead Origin_Lead Import</th>\n",
       "      <th>Lead Source_Facebook</th>\n",
       "      <th>Lead Source_Google</th>\n",
       "      <th>Lead Source_Olark Chat</th>\n",
       "      <th>Lead Source_Organic Search</th>\n",
       "      <th>Lead Source_Others</th>\n",
       "      <th>Lead Source_Reference</th>\n",
       "      <th>Lead Source_Referral Sites</th>\n",
       "      <th>...</th>\n",
       "      <th>Last Notable Activity_Form Submitted on Website</th>\n",
       "      <th>Last Notable Activity_Had a Phone Conversation</th>\n",
       "      <th>Last Notable Activity_Modified</th>\n",
       "      <th>Last Notable Activity_Olark Chat Conversation</th>\n",
       "      <th>Last Notable Activity_Page Visited on Website</th>\n",
       "      <th>Last Notable Activity_Resubscribed to emails</th>\n",
       "      <th>Last Notable Activity_SMS Sent</th>\n",
       "      <th>Last Notable Activity_Unreachable</th>\n",
       "      <th>Last Notable Activity_Unsubscribed</th>\n",
       "      <th>Last Notable Activity_View in browser link Clicked</th>\n",
       "    </tr>\n",
       "  </thead>\n",
       "  <tbody>\n",
       "    <tr>\n",
       "      <th>0</th>\n",
       "      <td>0</td>\n",
       "      <td>0</td>\n",
       "      <td>0</td>\n",
       "      <td>0</td>\n",
       "      <td>0</td>\n",
       "      <td>1</td>\n",
       "      <td>0</td>\n",
       "      <td>0</td>\n",
       "      <td>0</td>\n",
       "      <td>0</td>\n",
       "      <td>...</td>\n",
       "      <td>0</td>\n",
       "      <td>0</td>\n",
       "      <td>1</td>\n",
       "      <td>0</td>\n",
       "      <td>0</td>\n",
       "      <td>0</td>\n",
       "      <td>0</td>\n",
       "      <td>0</td>\n",
       "      <td>0</td>\n",
       "      <td>0</td>\n",
       "    </tr>\n",
       "    <tr>\n",
       "      <th>1</th>\n",
       "      <td>0</td>\n",
       "      <td>0</td>\n",
       "      <td>0</td>\n",
       "      <td>0</td>\n",
       "      <td>0</td>\n",
       "      <td>0</td>\n",
       "      <td>1</td>\n",
       "      <td>0</td>\n",
       "      <td>0</td>\n",
       "      <td>0</td>\n",
       "      <td>...</td>\n",
       "      <td>0</td>\n",
       "      <td>0</td>\n",
       "      <td>0</td>\n",
       "      <td>0</td>\n",
       "      <td>0</td>\n",
       "      <td>0</td>\n",
       "      <td>0</td>\n",
       "      <td>0</td>\n",
       "      <td>0</td>\n",
       "      <td>0</td>\n",
       "    </tr>\n",
       "    <tr>\n",
       "      <th>2</th>\n",
       "      <td>1</td>\n",
       "      <td>0</td>\n",
       "      <td>0</td>\n",
       "      <td>0</td>\n",
       "      <td>0</td>\n",
       "      <td>0</td>\n",
       "      <td>0</td>\n",
       "      <td>0</td>\n",
       "      <td>0</td>\n",
       "      <td>0</td>\n",
       "      <td>...</td>\n",
       "      <td>0</td>\n",
       "      <td>0</td>\n",
       "      <td>0</td>\n",
       "      <td>0</td>\n",
       "      <td>0</td>\n",
       "      <td>0</td>\n",
       "      <td>0</td>\n",
       "      <td>0</td>\n",
       "      <td>0</td>\n",
       "      <td>0</td>\n",
       "    </tr>\n",
       "    <tr>\n",
       "      <th>3</th>\n",
       "      <td>1</td>\n",
       "      <td>0</td>\n",
       "      <td>0</td>\n",
       "      <td>0</td>\n",
       "      <td>0</td>\n",
       "      <td>0</td>\n",
       "      <td>0</td>\n",
       "      <td>0</td>\n",
       "      <td>0</td>\n",
       "      <td>0</td>\n",
       "      <td>...</td>\n",
       "      <td>0</td>\n",
       "      <td>0</td>\n",
       "      <td>1</td>\n",
       "      <td>0</td>\n",
       "      <td>0</td>\n",
       "      <td>0</td>\n",
       "      <td>0</td>\n",
       "      <td>0</td>\n",
       "      <td>0</td>\n",
       "      <td>0</td>\n",
       "    </tr>\n",
       "    <tr>\n",
       "      <th>4</th>\n",
       "      <td>1</td>\n",
       "      <td>0</td>\n",
       "      <td>0</td>\n",
       "      <td>0</td>\n",
       "      <td>1</td>\n",
       "      <td>0</td>\n",
       "      <td>0</td>\n",
       "      <td>0</td>\n",
       "      <td>0</td>\n",
       "      <td>0</td>\n",
       "      <td>...</td>\n",
       "      <td>0</td>\n",
       "      <td>0</td>\n",
       "      <td>1</td>\n",
       "      <td>0</td>\n",
       "      <td>0</td>\n",
       "      <td>0</td>\n",
       "      <td>0</td>\n",
       "      <td>0</td>\n",
       "      <td>0</td>\n",
       "      <td>0</td>\n",
       "    </tr>\n",
       "  </tbody>\n",
       "</table>\n",
       "<p>5 rows × 80 columns</p>\n",
       "</div>"
      ],
      "text/plain": [
       "   Lead Origin_Landing Page Submission  Lead Origin_Lead Add Form  \\\n",
       "0                                    0                          0   \n",
       "1                                    0                          0   \n",
       "2                                    1                          0   \n",
       "3                                    1                          0   \n",
       "4                                    1                          0   \n",
       "\n",
       "   Lead Origin_Lead Import  Lead Source_Facebook  Lead Source_Google  \\\n",
       "0                        0                     0                   0   \n",
       "1                        0                     0                   0   \n",
       "2                        0                     0                   0   \n",
       "3                        0                     0                   0   \n",
       "4                        0                     0                   1   \n",
       "\n",
       "   Lead Source_Olark Chat  Lead Source_Organic Search  Lead Source_Others  \\\n",
       "0                       1                           0                   0   \n",
       "1                       0                           1                   0   \n",
       "2                       0                           0                   0   \n",
       "3                       0                           0                   0   \n",
       "4                       0                           0                   0   \n",
       "\n",
       "   Lead Source_Reference  Lead Source_Referral Sites  ...  \\\n",
       "0                      0                           0  ...   \n",
       "1                      0                           0  ...   \n",
       "2                      0                           0  ...   \n",
       "3                      0                           0  ...   \n",
       "4                      0                           0  ...   \n",
       "\n",
       "   Last Notable Activity_Form Submitted on Website  \\\n",
       "0                                                0   \n",
       "1                                                0   \n",
       "2                                                0   \n",
       "3                                                0   \n",
       "4                                                0   \n",
       "\n",
       "   Last Notable Activity_Had a Phone Conversation  \\\n",
       "0                                               0   \n",
       "1                                               0   \n",
       "2                                               0   \n",
       "3                                               0   \n",
       "4                                               0   \n",
       "\n",
       "   Last Notable Activity_Modified  \\\n",
       "0                               1   \n",
       "1                               0   \n",
       "2                               0   \n",
       "3                               1   \n",
       "4                               1   \n",
       "\n",
       "   Last Notable Activity_Olark Chat Conversation  \\\n",
       "0                                              0   \n",
       "1                                              0   \n",
       "2                                              0   \n",
       "3                                              0   \n",
       "4                                              0   \n",
       "\n",
       "   Last Notable Activity_Page Visited on Website  \\\n",
       "0                                              0   \n",
       "1                                              0   \n",
       "2                                              0   \n",
       "3                                              0   \n",
       "4                                              0   \n",
       "\n",
       "   Last Notable Activity_Resubscribed to emails  \\\n",
       "0                                             0   \n",
       "1                                             0   \n",
       "2                                             0   \n",
       "3                                             0   \n",
       "4                                             0   \n",
       "\n",
       "   Last Notable Activity_SMS Sent  Last Notable Activity_Unreachable  \\\n",
       "0                               0                                  0   \n",
       "1                               0                                  0   \n",
       "2                               0                                  0   \n",
       "3                               0                                  0   \n",
       "4                               0                                  0   \n",
       "\n",
       "   Last Notable Activity_Unsubscribed  \\\n",
       "0                                   0   \n",
       "1                                   0   \n",
       "2                                   0   \n",
       "3                                   0   \n",
       "4                                   0   \n",
       "\n",
       "   Last Notable Activity_View in browser link Clicked  \n",
       "0                                                  0   \n",
       "1                                                  0   \n",
       "2                                                  0   \n",
       "3                                                  0   \n",
       "4                                                  0   \n",
       "\n",
       "[5 rows x 80 columns]"
      ]
     },
     "execution_count": 444,
     "metadata": {},
     "output_type": "execute_result"
    }
   ],
   "source": [
    "# Creating a dummy variable for some of the categorical variables and dropping the first one.\n",
    "dummy1 = pd.get_dummies(df1[['Lead Origin', 'Lead Source', 'Last Activity', 'Specialization','What is your current occupation',\n",
    "                              'Tags','Lead Quality','City','Last Notable Activity']], drop_first=True)\n",
    "dummy1.head()"
   ]
  },
  {
   "cell_type": "code",
   "execution_count": 445,
   "metadata": {},
   "outputs": [
    {
     "data": {
      "text/html": [
       "<div>\n",
       "<style scoped>\n",
       "    .dataframe tbody tr th:only-of-type {\n",
       "        vertical-align: middle;\n",
       "    }\n",
       "\n",
       "    .dataframe tbody tr th {\n",
       "        vertical-align: top;\n",
       "    }\n",
       "\n",
       "    .dataframe thead th {\n",
       "        text-align: right;\n",
       "    }\n",
       "</style>\n",
       "<table border=\"1\" class=\"dataframe\">\n",
       "  <thead>\n",
       "    <tr style=\"text-align: right;\">\n",
       "      <th></th>\n",
       "      <th>Prospect ID</th>\n",
       "      <th>Lead Origin</th>\n",
       "      <th>Lead Source</th>\n",
       "      <th>Do Not Email</th>\n",
       "      <th>Do Not Call</th>\n",
       "      <th>Converted</th>\n",
       "      <th>TotalVisits</th>\n",
       "      <th>Total Time Spent on Website</th>\n",
       "      <th>Page Views Per Visit</th>\n",
       "      <th>Last Activity</th>\n",
       "      <th>...</th>\n",
       "      <th>Last Notable Activity_Form Submitted on Website</th>\n",
       "      <th>Last Notable Activity_Had a Phone Conversation</th>\n",
       "      <th>Last Notable Activity_Modified</th>\n",
       "      <th>Last Notable Activity_Olark Chat Conversation</th>\n",
       "      <th>Last Notable Activity_Page Visited on Website</th>\n",
       "      <th>Last Notable Activity_Resubscribed to emails</th>\n",
       "      <th>Last Notable Activity_SMS Sent</th>\n",
       "      <th>Last Notable Activity_Unreachable</th>\n",
       "      <th>Last Notable Activity_Unsubscribed</th>\n",
       "      <th>Last Notable Activity_View in browser link Clicked</th>\n",
       "    </tr>\n",
       "  </thead>\n",
       "  <tbody>\n",
       "    <tr>\n",
       "      <th>0</th>\n",
       "      <td>7927b2df-8bba-4d29-b9a2-b6e0beafe620</td>\n",
       "      <td>API</td>\n",
       "      <td>Olark Chat</td>\n",
       "      <td>0</td>\n",
       "      <td>0</td>\n",
       "      <td>0</td>\n",
       "      <td>0.0</td>\n",
       "      <td>0</td>\n",
       "      <td>0.0</td>\n",
       "      <td>Page Visited on Website</td>\n",
       "      <td>...</td>\n",
       "      <td>0</td>\n",
       "      <td>0</td>\n",
       "      <td>1</td>\n",
       "      <td>0</td>\n",
       "      <td>0</td>\n",
       "      <td>0</td>\n",
       "      <td>0</td>\n",
       "      <td>0</td>\n",
       "      <td>0</td>\n",
       "      <td>0</td>\n",
       "    </tr>\n",
       "    <tr>\n",
       "      <th>1</th>\n",
       "      <td>2a272436-5132-4136-86fa-dcc88c88f482</td>\n",
       "      <td>API</td>\n",
       "      <td>Organic Search</td>\n",
       "      <td>0</td>\n",
       "      <td>0</td>\n",
       "      <td>0</td>\n",
       "      <td>5.0</td>\n",
       "      <td>674</td>\n",
       "      <td>2.5</td>\n",
       "      <td>Email Opened</td>\n",
       "      <td>...</td>\n",
       "      <td>0</td>\n",
       "      <td>0</td>\n",
       "      <td>0</td>\n",
       "      <td>0</td>\n",
       "      <td>0</td>\n",
       "      <td>0</td>\n",
       "      <td>0</td>\n",
       "      <td>0</td>\n",
       "      <td>0</td>\n",
       "      <td>0</td>\n",
       "    </tr>\n",
       "    <tr>\n",
       "      <th>2</th>\n",
       "      <td>8cc8c611-a219-4f35-ad23-fdfd2656bd8a</td>\n",
       "      <td>Landing Page Submission</td>\n",
       "      <td>Direct Traffic</td>\n",
       "      <td>0</td>\n",
       "      <td>0</td>\n",
       "      <td>1</td>\n",
       "      <td>2.0</td>\n",
       "      <td>1532</td>\n",
       "      <td>2.0</td>\n",
       "      <td>Email Opened</td>\n",
       "      <td>...</td>\n",
       "      <td>0</td>\n",
       "      <td>0</td>\n",
       "      <td>0</td>\n",
       "      <td>0</td>\n",
       "      <td>0</td>\n",
       "      <td>0</td>\n",
       "      <td>0</td>\n",
       "      <td>0</td>\n",
       "      <td>0</td>\n",
       "      <td>0</td>\n",
       "    </tr>\n",
       "    <tr>\n",
       "      <th>3</th>\n",
       "      <td>0cc2df48-7cf4-4e39-9de9-19797f9b38cc</td>\n",
       "      <td>Landing Page Submission</td>\n",
       "      <td>Direct Traffic</td>\n",
       "      <td>0</td>\n",
       "      <td>0</td>\n",
       "      <td>0</td>\n",
       "      <td>1.0</td>\n",
       "      <td>305</td>\n",
       "      <td>1.0</td>\n",
       "      <td>Unreachable</td>\n",
       "      <td>...</td>\n",
       "      <td>0</td>\n",
       "      <td>0</td>\n",
       "      <td>1</td>\n",
       "      <td>0</td>\n",
       "      <td>0</td>\n",
       "      <td>0</td>\n",
       "      <td>0</td>\n",
       "      <td>0</td>\n",
       "      <td>0</td>\n",
       "      <td>0</td>\n",
       "    </tr>\n",
       "    <tr>\n",
       "      <th>4</th>\n",
       "      <td>3256f628-e534-4826-9d63-4a8b88782852</td>\n",
       "      <td>Landing Page Submission</td>\n",
       "      <td>Google</td>\n",
       "      <td>0</td>\n",
       "      <td>0</td>\n",
       "      <td>1</td>\n",
       "      <td>2.0</td>\n",
       "      <td>1428</td>\n",
       "      <td>1.0</td>\n",
       "      <td>Converted to Lead</td>\n",
       "      <td>...</td>\n",
       "      <td>0</td>\n",
       "      <td>0</td>\n",
       "      <td>1</td>\n",
       "      <td>0</td>\n",
       "      <td>0</td>\n",
       "      <td>0</td>\n",
       "      <td>0</td>\n",
       "      <td>0</td>\n",
       "      <td>0</td>\n",
       "      <td>0</td>\n",
       "    </tr>\n",
       "  </tbody>\n",
       "</table>\n",
       "<p>5 rows × 96 columns</p>\n",
       "</div>"
      ],
      "text/plain": [
       "                            Prospect ID              Lead Origin  \\\n",
       "0  7927b2df-8bba-4d29-b9a2-b6e0beafe620                      API   \n",
       "1  2a272436-5132-4136-86fa-dcc88c88f482                      API   \n",
       "2  8cc8c611-a219-4f35-ad23-fdfd2656bd8a  Landing Page Submission   \n",
       "3  0cc2df48-7cf4-4e39-9de9-19797f9b38cc  Landing Page Submission   \n",
       "4  3256f628-e534-4826-9d63-4a8b88782852  Landing Page Submission   \n",
       "\n",
       "      Lead Source  Do Not Email  Do Not Call  Converted  TotalVisits  \\\n",
       "0      Olark Chat             0            0          0          0.0   \n",
       "1  Organic Search             0            0          0          5.0   \n",
       "2  Direct Traffic             0            0          1          2.0   \n",
       "3  Direct Traffic             0            0          0          1.0   \n",
       "4          Google             0            0          1          2.0   \n",
       "\n",
       "   Total Time Spent on Website  Page Views Per Visit            Last Activity  \\\n",
       "0                            0                   0.0  Page Visited on Website   \n",
       "1                          674                   2.5             Email Opened   \n",
       "2                         1532                   2.0             Email Opened   \n",
       "3                          305                   1.0              Unreachable   \n",
       "4                         1428                   1.0        Converted to Lead   \n",
       "\n",
       "   ... Last Notable Activity_Form Submitted on Website  \\\n",
       "0  ...                                               0   \n",
       "1  ...                                               0   \n",
       "2  ...                                               0   \n",
       "3  ...                                               0   \n",
       "4  ...                                               0   \n",
       "\n",
       "  Last Notable Activity_Had a Phone Conversation  \\\n",
       "0                                              0   \n",
       "1                                              0   \n",
       "2                                              0   \n",
       "3                                              0   \n",
       "4                                              0   \n",
       "\n",
       "  Last Notable Activity_Modified  \\\n",
       "0                              1   \n",
       "1                              0   \n",
       "2                              0   \n",
       "3                              1   \n",
       "4                              1   \n",
       "\n",
       "  Last Notable Activity_Olark Chat Conversation  \\\n",
       "0                                             0   \n",
       "1                                             0   \n",
       "2                                             0   \n",
       "3                                             0   \n",
       "4                                             0   \n",
       "\n",
       "  Last Notable Activity_Page Visited on Website  \\\n",
       "0                                             0   \n",
       "1                                             0   \n",
       "2                                             0   \n",
       "3                                             0   \n",
       "4                                             0   \n",
       "\n",
       "  Last Notable Activity_Resubscribed to emails  \\\n",
       "0                                            0   \n",
       "1                                            0   \n",
       "2                                            0   \n",
       "3                                            0   \n",
       "4                                            0   \n",
       "\n",
       "   Last Notable Activity_SMS Sent  Last Notable Activity_Unreachable  \\\n",
       "0                               0                                  0   \n",
       "1                               0                                  0   \n",
       "2                               0                                  0   \n",
       "3                               0                                  0   \n",
       "4                               0                                  0   \n",
       "\n",
       "   Last Notable Activity_Unsubscribed  \\\n",
       "0                                   0   \n",
       "1                                   0   \n",
       "2                                   0   \n",
       "3                                   0   \n",
       "4                                   0   \n",
       "\n",
       "   Last Notable Activity_View in browser link Clicked  \n",
       "0                                                  0   \n",
       "1                                                  0   \n",
       "2                                                  0   \n",
       "3                                                  0   \n",
       "4                                                  0   \n",
       "\n",
       "[5 rows x 96 columns]"
      ]
     },
     "execution_count": 445,
     "metadata": {},
     "output_type": "execute_result"
    }
   ],
   "source": [
    "# Adding dummies to original dataset\n",
    "df1 = pd.concat([df1, dummy1], axis=1)\n",
    "df1.head()"
   ]
  },
  {
   "cell_type": "code",
   "execution_count": 446,
   "metadata": {},
   "outputs": [],
   "source": [
    "# Dropping first column\n",
    "df1 = df1.drop(['Lead Origin', 'Lead Source', 'Last Activity', 'Specialization','What is your current occupation','Tags','Lead Quality','City','Last Notable Activity'], axis = 1)"
   ]
  },
  {
   "cell_type": "code",
   "execution_count": 447,
   "metadata": {},
   "outputs": [
    {
     "data": {
      "text/html": [
       "<div>\n",
       "<style scoped>\n",
       "    .dataframe tbody tr th:only-of-type {\n",
       "        vertical-align: middle;\n",
       "    }\n",
       "\n",
       "    .dataframe tbody tr th {\n",
       "        vertical-align: top;\n",
       "    }\n",
       "\n",
       "    .dataframe thead th {\n",
       "        text-align: right;\n",
       "    }\n",
       "</style>\n",
       "<table border=\"1\" class=\"dataframe\">\n",
       "  <thead>\n",
       "    <tr style=\"text-align: right;\">\n",
       "      <th></th>\n",
       "      <th>Prospect ID</th>\n",
       "      <th>Do Not Email</th>\n",
       "      <th>Do Not Call</th>\n",
       "      <th>Converted</th>\n",
       "      <th>TotalVisits</th>\n",
       "      <th>Total Time Spent on Website</th>\n",
       "      <th>Page Views Per Visit</th>\n",
       "      <th>Lead Origin_Landing Page Submission</th>\n",
       "      <th>Lead Origin_Lead Add Form</th>\n",
       "      <th>Lead Origin_Lead Import</th>\n",
       "      <th>...</th>\n",
       "      <th>Last Notable Activity_Form Submitted on Website</th>\n",
       "      <th>Last Notable Activity_Had a Phone Conversation</th>\n",
       "      <th>Last Notable Activity_Modified</th>\n",
       "      <th>Last Notable Activity_Olark Chat Conversation</th>\n",
       "      <th>Last Notable Activity_Page Visited on Website</th>\n",
       "      <th>Last Notable Activity_Resubscribed to emails</th>\n",
       "      <th>Last Notable Activity_SMS Sent</th>\n",
       "      <th>Last Notable Activity_Unreachable</th>\n",
       "      <th>Last Notable Activity_Unsubscribed</th>\n",
       "      <th>Last Notable Activity_View in browser link Clicked</th>\n",
       "    </tr>\n",
       "  </thead>\n",
       "  <tbody>\n",
       "    <tr>\n",
       "      <th>0</th>\n",
       "      <td>7927b2df-8bba-4d29-b9a2-b6e0beafe620</td>\n",
       "      <td>0</td>\n",
       "      <td>0</td>\n",
       "      <td>0</td>\n",
       "      <td>0.0</td>\n",
       "      <td>0</td>\n",
       "      <td>0.0</td>\n",
       "      <td>0</td>\n",
       "      <td>0</td>\n",
       "      <td>0</td>\n",
       "      <td>...</td>\n",
       "      <td>0</td>\n",
       "      <td>0</td>\n",
       "      <td>1</td>\n",
       "      <td>0</td>\n",
       "      <td>0</td>\n",
       "      <td>0</td>\n",
       "      <td>0</td>\n",
       "      <td>0</td>\n",
       "      <td>0</td>\n",
       "      <td>0</td>\n",
       "    </tr>\n",
       "    <tr>\n",
       "      <th>1</th>\n",
       "      <td>2a272436-5132-4136-86fa-dcc88c88f482</td>\n",
       "      <td>0</td>\n",
       "      <td>0</td>\n",
       "      <td>0</td>\n",
       "      <td>5.0</td>\n",
       "      <td>674</td>\n",
       "      <td>2.5</td>\n",
       "      <td>0</td>\n",
       "      <td>0</td>\n",
       "      <td>0</td>\n",
       "      <td>...</td>\n",
       "      <td>0</td>\n",
       "      <td>0</td>\n",
       "      <td>0</td>\n",
       "      <td>0</td>\n",
       "      <td>0</td>\n",
       "      <td>0</td>\n",
       "      <td>0</td>\n",
       "      <td>0</td>\n",
       "      <td>0</td>\n",
       "      <td>0</td>\n",
       "    </tr>\n",
       "    <tr>\n",
       "      <th>2</th>\n",
       "      <td>8cc8c611-a219-4f35-ad23-fdfd2656bd8a</td>\n",
       "      <td>0</td>\n",
       "      <td>0</td>\n",
       "      <td>1</td>\n",
       "      <td>2.0</td>\n",
       "      <td>1532</td>\n",
       "      <td>2.0</td>\n",
       "      <td>1</td>\n",
       "      <td>0</td>\n",
       "      <td>0</td>\n",
       "      <td>...</td>\n",
       "      <td>0</td>\n",
       "      <td>0</td>\n",
       "      <td>0</td>\n",
       "      <td>0</td>\n",
       "      <td>0</td>\n",
       "      <td>0</td>\n",
       "      <td>0</td>\n",
       "      <td>0</td>\n",
       "      <td>0</td>\n",
       "      <td>0</td>\n",
       "    </tr>\n",
       "    <tr>\n",
       "      <th>3</th>\n",
       "      <td>0cc2df48-7cf4-4e39-9de9-19797f9b38cc</td>\n",
       "      <td>0</td>\n",
       "      <td>0</td>\n",
       "      <td>0</td>\n",
       "      <td>1.0</td>\n",
       "      <td>305</td>\n",
       "      <td>1.0</td>\n",
       "      <td>1</td>\n",
       "      <td>0</td>\n",
       "      <td>0</td>\n",
       "      <td>...</td>\n",
       "      <td>0</td>\n",
       "      <td>0</td>\n",
       "      <td>1</td>\n",
       "      <td>0</td>\n",
       "      <td>0</td>\n",
       "      <td>0</td>\n",
       "      <td>0</td>\n",
       "      <td>0</td>\n",
       "      <td>0</td>\n",
       "      <td>0</td>\n",
       "    </tr>\n",
       "    <tr>\n",
       "      <th>4</th>\n",
       "      <td>3256f628-e534-4826-9d63-4a8b88782852</td>\n",
       "      <td>0</td>\n",
       "      <td>0</td>\n",
       "      <td>1</td>\n",
       "      <td>2.0</td>\n",
       "      <td>1428</td>\n",
       "      <td>1.0</td>\n",
       "      <td>1</td>\n",
       "      <td>0</td>\n",
       "      <td>0</td>\n",
       "      <td>...</td>\n",
       "      <td>0</td>\n",
       "      <td>0</td>\n",
       "      <td>1</td>\n",
       "      <td>0</td>\n",
       "      <td>0</td>\n",
       "      <td>0</td>\n",
       "      <td>0</td>\n",
       "      <td>0</td>\n",
       "      <td>0</td>\n",
       "      <td>0</td>\n",
       "    </tr>\n",
       "  </tbody>\n",
       "</table>\n",
       "<p>5 rows × 87 columns</p>\n",
       "</div>"
      ],
      "text/plain": [
       "                            Prospect ID  Do Not Email  Do Not Call  Converted  \\\n",
       "0  7927b2df-8bba-4d29-b9a2-b6e0beafe620             0            0          0   \n",
       "1  2a272436-5132-4136-86fa-dcc88c88f482             0            0          0   \n",
       "2  8cc8c611-a219-4f35-ad23-fdfd2656bd8a             0            0          1   \n",
       "3  0cc2df48-7cf4-4e39-9de9-19797f9b38cc             0            0          0   \n",
       "4  3256f628-e534-4826-9d63-4a8b88782852             0            0          1   \n",
       "\n",
       "   TotalVisits  Total Time Spent on Website  Page Views Per Visit  \\\n",
       "0          0.0                            0                   0.0   \n",
       "1          5.0                          674                   2.5   \n",
       "2          2.0                         1532                   2.0   \n",
       "3          1.0                          305                   1.0   \n",
       "4          2.0                         1428                   1.0   \n",
       "\n",
       "   Lead Origin_Landing Page Submission  Lead Origin_Lead Add Form  \\\n",
       "0                                    0                          0   \n",
       "1                                    0                          0   \n",
       "2                                    1                          0   \n",
       "3                                    1                          0   \n",
       "4                                    1                          0   \n",
       "\n",
       "   Lead Origin_Lead Import  ...  \\\n",
       "0                        0  ...   \n",
       "1                        0  ...   \n",
       "2                        0  ...   \n",
       "3                        0  ...   \n",
       "4                        0  ...   \n",
       "\n",
       "   Last Notable Activity_Form Submitted on Website  \\\n",
       "0                                                0   \n",
       "1                                                0   \n",
       "2                                                0   \n",
       "3                                                0   \n",
       "4                                                0   \n",
       "\n",
       "   Last Notable Activity_Had a Phone Conversation  \\\n",
       "0                                               0   \n",
       "1                                               0   \n",
       "2                                               0   \n",
       "3                                               0   \n",
       "4                                               0   \n",
       "\n",
       "   Last Notable Activity_Modified  \\\n",
       "0                               1   \n",
       "1                               0   \n",
       "2                               0   \n",
       "3                               1   \n",
       "4                               1   \n",
       "\n",
       "   Last Notable Activity_Olark Chat Conversation  \\\n",
       "0                                              0   \n",
       "1                                              0   \n",
       "2                                              0   \n",
       "3                                              0   \n",
       "4                                              0   \n",
       "\n",
       "   Last Notable Activity_Page Visited on Website  \\\n",
       "0                                              0   \n",
       "1                                              0   \n",
       "2                                              0   \n",
       "3                                              0   \n",
       "4                                              0   \n",
       "\n",
       "   Last Notable Activity_Resubscribed to emails  \\\n",
       "0                                             0   \n",
       "1                                             0   \n",
       "2                                             0   \n",
       "3                                             0   \n",
       "4                                             0   \n",
       "\n",
       "   Last Notable Activity_SMS Sent  Last Notable Activity_Unreachable  \\\n",
       "0                               0                                  0   \n",
       "1                               0                                  0   \n",
       "2                               0                                  0   \n",
       "3                               0                                  0   \n",
       "4                               0                                  0   \n",
       "\n",
       "   Last Notable Activity_Unsubscribed  \\\n",
       "0                                   0   \n",
       "1                                   0   \n",
       "2                                   0   \n",
       "3                                   0   \n",
       "4                                   0   \n",
       "\n",
       "   Last Notable Activity_View in browser link Clicked  \n",
       "0                                                  0   \n",
       "1                                                  0   \n",
       "2                                                  0   \n",
       "3                                                  0   \n",
       "4                                                  0   \n",
       "\n",
       "[5 rows x 87 columns]"
      ]
     },
     "execution_count": 447,
     "metadata": {},
     "output_type": "execute_result"
    }
   ],
   "source": [
    "df1.head()"
   ]
  },
  {
   "cell_type": "code",
   "execution_count": 448,
   "metadata": {},
   "outputs": [],
   "source": [
    "from sklearn.model_selection import train_test_split\n",
    "\n",
    "# Putting feature variable to X\n",
    "X = df1.drop(['Prospect ID','Converted'], axis=1)"
   ]
  },
  {
   "cell_type": "code",
   "execution_count": 449,
   "metadata": {},
   "outputs": [
    {
     "data": {
      "text/html": [
       "<div>\n",
       "<style scoped>\n",
       "    .dataframe tbody tr th:only-of-type {\n",
       "        vertical-align: middle;\n",
       "    }\n",
       "\n",
       "    .dataframe tbody tr th {\n",
       "        vertical-align: top;\n",
       "    }\n",
       "\n",
       "    .dataframe thead th {\n",
       "        text-align: right;\n",
       "    }\n",
       "</style>\n",
       "<table border=\"1\" class=\"dataframe\">\n",
       "  <thead>\n",
       "    <tr style=\"text-align: right;\">\n",
       "      <th></th>\n",
       "      <th>Do Not Email</th>\n",
       "      <th>Do Not Call</th>\n",
       "      <th>TotalVisits</th>\n",
       "      <th>Total Time Spent on Website</th>\n",
       "      <th>Page Views Per Visit</th>\n",
       "      <th>Lead Origin_Landing Page Submission</th>\n",
       "      <th>Lead Origin_Lead Add Form</th>\n",
       "      <th>Lead Origin_Lead Import</th>\n",
       "      <th>Lead Source_Facebook</th>\n",
       "      <th>Lead Source_Google</th>\n",
       "      <th>...</th>\n",
       "      <th>Last Notable Activity_Form Submitted on Website</th>\n",
       "      <th>Last Notable Activity_Had a Phone Conversation</th>\n",
       "      <th>Last Notable Activity_Modified</th>\n",
       "      <th>Last Notable Activity_Olark Chat Conversation</th>\n",
       "      <th>Last Notable Activity_Page Visited on Website</th>\n",
       "      <th>Last Notable Activity_Resubscribed to emails</th>\n",
       "      <th>Last Notable Activity_SMS Sent</th>\n",
       "      <th>Last Notable Activity_Unreachable</th>\n",
       "      <th>Last Notable Activity_Unsubscribed</th>\n",
       "      <th>Last Notable Activity_View in browser link Clicked</th>\n",
       "    </tr>\n",
       "  </thead>\n",
       "  <tbody>\n",
       "    <tr>\n",
       "      <th>0</th>\n",
       "      <td>0</td>\n",
       "      <td>0</td>\n",
       "      <td>0.0</td>\n",
       "      <td>0</td>\n",
       "      <td>0.0</td>\n",
       "      <td>0</td>\n",
       "      <td>0</td>\n",
       "      <td>0</td>\n",
       "      <td>0</td>\n",
       "      <td>0</td>\n",
       "      <td>...</td>\n",
       "      <td>0</td>\n",
       "      <td>0</td>\n",
       "      <td>1</td>\n",
       "      <td>0</td>\n",
       "      <td>0</td>\n",
       "      <td>0</td>\n",
       "      <td>0</td>\n",
       "      <td>0</td>\n",
       "      <td>0</td>\n",
       "      <td>0</td>\n",
       "    </tr>\n",
       "    <tr>\n",
       "      <th>1</th>\n",
       "      <td>0</td>\n",
       "      <td>0</td>\n",
       "      <td>5.0</td>\n",
       "      <td>674</td>\n",
       "      <td>2.5</td>\n",
       "      <td>0</td>\n",
       "      <td>0</td>\n",
       "      <td>0</td>\n",
       "      <td>0</td>\n",
       "      <td>0</td>\n",
       "      <td>...</td>\n",
       "      <td>0</td>\n",
       "      <td>0</td>\n",
       "      <td>0</td>\n",
       "      <td>0</td>\n",
       "      <td>0</td>\n",
       "      <td>0</td>\n",
       "      <td>0</td>\n",
       "      <td>0</td>\n",
       "      <td>0</td>\n",
       "      <td>0</td>\n",
       "    </tr>\n",
       "    <tr>\n",
       "      <th>2</th>\n",
       "      <td>0</td>\n",
       "      <td>0</td>\n",
       "      <td>2.0</td>\n",
       "      <td>1532</td>\n",
       "      <td>2.0</td>\n",
       "      <td>1</td>\n",
       "      <td>0</td>\n",
       "      <td>0</td>\n",
       "      <td>0</td>\n",
       "      <td>0</td>\n",
       "      <td>...</td>\n",
       "      <td>0</td>\n",
       "      <td>0</td>\n",
       "      <td>0</td>\n",
       "      <td>0</td>\n",
       "      <td>0</td>\n",
       "      <td>0</td>\n",
       "      <td>0</td>\n",
       "      <td>0</td>\n",
       "      <td>0</td>\n",
       "      <td>0</td>\n",
       "    </tr>\n",
       "    <tr>\n",
       "      <th>3</th>\n",
       "      <td>0</td>\n",
       "      <td>0</td>\n",
       "      <td>1.0</td>\n",
       "      <td>305</td>\n",
       "      <td>1.0</td>\n",
       "      <td>1</td>\n",
       "      <td>0</td>\n",
       "      <td>0</td>\n",
       "      <td>0</td>\n",
       "      <td>0</td>\n",
       "      <td>...</td>\n",
       "      <td>0</td>\n",
       "      <td>0</td>\n",
       "      <td>1</td>\n",
       "      <td>0</td>\n",
       "      <td>0</td>\n",
       "      <td>0</td>\n",
       "      <td>0</td>\n",
       "      <td>0</td>\n",
       "      <td>0</td>\n",
       "      <td>0</td>\n",
       "    </tr>\n",
       "    <tr>\n",
       "      <th>4</th>\n",
       "      <td>0</td>\n",
       "      <td>0</td>\n",
       "      <td>2.0</td>\n",
       "      <td>1428</td>\n",
       "      <td>1.0</td>\n",
       "      <td>1</td>\n",
       "      <td>0</td>\n",
       "      <td>0</td>\n",
       "      <td>0</td>\n",
       "      <td>1</td>\n",
       "      <td>...</td>\n",
       "      <td>0</td>\n",
       "      <td>0</td>\n",
       "      <td>1</td>\n",
       "      <td>0</td>\n",
       "      <td>0</td>\n",
       "      <td>0</td>\n",
       "      <td>0</td>\n",
       "      <td>0</td>\n",
       "      <td>0</td>\n",
       "      <td>0</td>\n",
       "    </tr>\n",
       "  </tbody>\n",
       "</table>\n",
       "<p>5 rows × 85 columns</p>\n",
       "</div>"
      ],
      "text/plain": [
       "   Do Not Email  Do Not Call  TotalVisits  Total Time Spent on Website  \\\n",
       "0             0            0          0.0                            0   \n",
       "1             0            0          5.0                          674   \n",
       "2             0            0          2.0                         1532   \n",
       "3             0            0          1.0                          305   \n",
       "4             0            0          2.0                         1428   \n",
       "\n",
       "   Page Views Per Visit  Lead Origin_Landing Page Submission  \\\n",
       "0                   0.0                                    0   \n",
       "1                   2.5                                    0   \n",
       "2                   2.0                                    1   \n",
       "3                   1.0                                    1   \n",
       "4                   1.0                                    1   \n",
       "\n",
       "   Lead Origin_Lead Add Form  Lead Origin_Lead Import  Lead Source_Facebook  \\\n",
       "0                          0                        0                     0   \n",
       "1                          0                        0                     0   \n",
       "2                          0                        0                     0   \n",
       "3                          0                        0                     0   \n",
       "4                          0                        0                     0   \n",
       "\n",
       "   Lead Source_Google  ...  Last Notable Activity_Form Submitted on Website  \\\n",
       "0                   0  ...                                                0   \n",
       "1                   0  ...                                                0   \n",
       "2                   0  ...                                                0   \n",
       "3                   0  ...                                                0   \n",
       "4                   1  ...                                                0   \n",
       "\n",
       "   Last Notable Activity_Had a Phone Conversation  \\\n",
       "0                                               0   \n",
       "1                                               0   \n",
       "2                                               0   \n",
       "3                                               0   \n",
       "4                                               0   \n",
       "\n",
       "   Last Notable Activity_Modified  \\\n",
       "0                               1   \n",
       "1                               0   \n",
       "2                               0   \n",
       "3                               1   \n",
       "4                               1   \n",
       "\n",
       "   Last Notable Activity_Olark Chat Conversation  \\\n",
       "0                                              0   \n",
       "1                                              0   \n",
       "2                                              0   \n",
       "3                                              0   \n",
       "4                                              0   \n",
       "\n",
       "   Last Notable Activity_Page Visited on Website  \\\n",
       "0                                              0   \n",
       "1                                              0   \n",
       "2                                              0   \n",
       "3                                              0   \n",
       "4                                              0   \n",
       "\n",
       "   Last Notable Activity_Resubscribed to emails  \\\n",
       "0                                             0   \n",
       "1                                             0   \n",
       "2                                             0   \n",
       "3                                             0   \n",
       "4                                             0   \n",
       "\n",
       "   Last Notable Activity_SMS Sent  Last Notable Activity_Unreachable  \\\n",
       "0                               0                                  0   \n",
       "1                               0                                  0   \n",
       "2                               0                                  0   \n",
       "3                               0                                  0   \n",
       "4                               0                                  0   \n",
       "\n",
       "   Last Notable Activity_Unsubscribed  \\\n",
       "0                                   0   \n",
       "1                                   0   \n",
       "2                                   0   \n",
       "3                                   0   \n",
       "4                                   0   \n",
       "\n",
       "   Last Notable Activity_View in browser link Clicked  \n",
       "0                                                  0   \n",
       "1                                                  0   \n",
       "2                                                  0   \n",
       "3                                                  0   \n",
       "4                                                  0   \n",
       "\n",
       "[5 rows x 85 columns]"
      ]
     },
     "execution_count": 449,
     "metadata": {},
     "output_type": "execute_result"
    }
   ],
   "source": [
    "# Let's check the data now\n",
    "X.head()"
   ]
  },
  {
   "cell_type": "code",
   "execution_count": 450,
   "metadata": {},
   "outputs": [],
   "source": [
    "# Putting response variable to y\n",
    "y = df1['Converted']"
   ]
  },
  {
   "cell_type": "code",
   "execution_count": 451,
   "metadata": {},
   "outputs": [
    {
     "data": {
      "text/plain": [
       "0    0\n",
       "1    0\n",
       "2    1\n",
       "3    0\n",
       "4    1\n",
       "Name: Converted, dtype: int64"
      ]
     },
     "execution_count": 451,
     "metadata": {},
     "output_type": "execute_result"
    }
   ],
   "source": [
    "y.head()"
   ]
  },
  {
   "cell_type": "code",
   "execution_count": 452,
   "metadata": {},
   "outputs": [],
   "source": [
    "# Let's Splitting the data into train and test\n",
    "X_train, X_test, y_train, y_test = train_test_split(X, y, train_size=0.7, test_size=0.3, random_state=100)"
   ]
  },
  {
   "cell_type": "markdown",
   "metadata": {},
   "source": [
    "### Feature scaling "
   ]
  },
  {
   "cell_type": "code",
   "execution_count": 453,
   "metadata": {},
   "outputs": [
    {
     "data": {
      "text/html": [
       "<div>\n",
       "<style scoped>\n",
       "    .dataframe tbody tr th:only-of-type {\n",
       "        vertical-align: middle;\n",
       "    }\n",
       "\n",
       "    .dataframe tbody tr th {\n",
       "        vertical-align: top;\n",
       "    }\n",
       "\n",
       "    .dataframe thead th {\n",
       "        text-align: right;\n",
       "    }\n",
       "</style>\n",
       "<table border=\"1\" class=\"dataframe\">\n",
       "  <thead>\n",
       "    <tr style=\"text-align: right;\">\n",
       "      <th></th>\n",
       "      <th>Do Not Email</th>\n",
       "      <th>Do Not Call</th>\n",
       "      <th>TotalVisits</th>\n",
       "      <th>Total Time Spent on Website</th>\n",
       "      <th>Page Views Per Visit</th>\n",
       "      <th>Lead Origin_Landing Page Submission</th>\n",
       "      <th>Lead Origin_Lead Add Form</th>\n",
       "      <th>Lead Origin_Lead Import</th>\n",
       "      <th>Lead Source_Facebook</th>\n",
       "      <th>Lead Source_Google</th>\n",
       "      <th>...</th>\n",
       "      <th>Last Notable Activity_Form Submitted on Website</th>\n",
       "      <th>Last Notable Activity_Had a Phone Conversation</th>\n",
       "      <th>Last Notable Activity_Modified</th>\n",
       "      <th>Last Notable Activity_Olark Chat Conversation</th>\n",
       "      <th>Last Notable Activity_Page Visited on Website</th>\n",
       "      <th>Last Notable Activity_Resubscribed to emails</th>\n",
       "      <th>Last Notable Activity_SMS Sent</th>\n",
       "      <th>Last Notable Activity_Unreachable</th>\n",
       "      <th>Last Notable Activity_Unsubscribed</th>\n",
       "      <th>Last Notable Activity_View in browser link Clicked</th>\n",
       "    </tr>\n",
       "  </thead>\n",
       "  <tbody>\n",
       "    <tr>\n",
       "      <th>3009</th>\n",
       "      <td>0</td>\n",
       "      <td>0</td>\n",
       "      <td>-0.432779</td>\n",
       "      <td>-0.160255</td>\n",
       "      <td>-0.155018</td>\n",
       "      <td>1</td>\n",
       "      <td>0</td>\n",
       "      <td>0</td>\n",
       "      <td>0</td>\n",
       "      <td>0</td>\n",
       "      <td>...</td>\n",
       "      <td>0</td>\n",
       "      <td>0</td>\n",
       "      <td>0</td>\n",
       "      <td>0</td>\n",
       "      <td>0</td>\n",
       "      <td>0</td>\n",
       "      <td>0</td>\n",
       "      <td>0</td>\n",
       "      <td>0</td>\n",
       "      <td>0</td>\n",
       "    </tr>\n",
       "    <tr>\n",
       "      <th>1012</th>\n",
       "      <td>1</td>\n",
       "      <td>0</td>\n",
       "      <td>-0.432779</td>\n",
       "      <td>-0.540048</td>\n",
       "      <td>-0.155018</td>\n",
       "      <td>1</td>\n",
       "      <td>0</td>\n",
       "      <td>0</td>\n",
       "      <td>0</td>\n",
       "      <td>0</td>\n",
       "      <td>...</td>\n",
       "      <td>0</td>\n",
       "      <td>0</td>\n",
       "      <td>0</td>\n",
       "      <td>0</td>\n",
       "      <td>0</td>\n",
       "      <td>0</td>\n",
       "      <td>0</td>\n",
       "      <td>0</td>\n",
       "      <td>0</td>\n",
       "      <td>0</td>\n",
       "    </tr>\n",
       "    <tr>\n",
       "      <th>9226</th>\n",
       "      <td>0</td>\n",
       "      <td>0</td>\n",
       "      <td>-1.150329</td>\n",
       "      <td>-0.888650</td>\n",
       "      <td>-1.265540</td>\n",
       "      <td>0</td>\n",
       "      <td>0</td>\n",
       "      <td>0</td>\n",
       "      <td>0</td>\n",
       "      <td>0</td>\n",
       "      <td>...</td>\n",
       "      <td>0</td>\n",
       "      <td>0</td>\n",
       "      <td>1</td>\n",
       "      <td>0</td>\n",
       "      <td>0</td>\n",
       "      <td>0</td>\n",
       "      <td>0</td>\n",
       "      <td>0</td>\n",
       "      <td>0</td>\n",
       "      <td>0</td>\n",
       "    </tr>\n",
       "    <tr>\n",
       "      <th>4750</th>\n",
       "      <td>0</td>\n",
       "      <td>0</td>\n",
       "      <td>-0.432779</td>\n",
       "      <td>1.643304</td>\n",
       "      <td>-0.155018</td>\n",
       "      <td>1</td>\n",
       "      <td>0</td>\n",
       "      <td>0</td>\n",
       "      <td>0</td>\n",
       "      <td>0</td>\n",
       "      <td>...</td>\n",
       "      <td>0</td>\n",
       "      <td>0</td>\n",
       "      <td>0</td>\n",
       "      <td>0</td>\n",
       "      <td>0</td>\n",
       "      <td>0</td>\n",
       "      <td>1</td>\n",
       "      <td>0</td>\n",
       "      <td>0</td>\n",
       "      <td>0</td>\n",
       "    </tr>\n",
       "    <tr>\n",
       "      <th>7987</th>\n",
       "      <td>0</td>\n",
       "      <td>0</td>\n",
       "      <td>0.643547</td>\n",
       "      <td>2.017593</td>\n",
       "      <td>0.122613</td>\n",
       "      <td>1</td>\n",
       "      <td>0</td>\n",
       "      <td>0</td>\n",
       "      <td>0</td>\n",
       "      <td>0</td>\n",
       "      <td>...</td>\n",
       "      <td>0</td>\n",
       "      <td>0</td>\n",
       "      <td>1</td>\n",
       "      <td>0</td>\n",
       "      <td>0</td>\n",
       "      <td>0</td>\n",
       "      <td>0</td>\n",
       "      <td>0</td>\n",
       "      <td>0</td>\n",
       "      <td>0</td>\n",
       "    </tr>\n",
       "  </tbody>\n",
       "</table>\n",
       "<p>5 rows × 85 columns</p>\n",
       "</div>"
      ],
      "text/plain": [
       "      Do Not Email  Do Not Call  TotalVisits  Total Time Spent on Website  \\\n",
       "3009             0            0    -0.432779                    -0.160255   \n",
       "1012             1            0    -0.432779                    -0.540048   \n",
       "9226             0            0    -1.150329                    -0.888650   \n",
       "4750             0            0    -0.432779                     1.643304   \n",
       "7987             0            0     0.643547                     2.017593   \n",
       "\n",
       "      Page Views Per Visit  Lead Origin_Landing Page Submission  \\\n",
       "3009             -0.155018                                    1   \n",
       "1012             -0.155018                                    1   \n",
       "9226             -1.265540                                    0   \n",
       "4750             -0.155018                                    1   \n",
       "7987              0.122613                                    1   \n",
       "\n",
       "      Lead Origin_Lead Add Form  Lead Origin_Lead Import  \\\n",
       "3009                          0                        0   \n",
       "1012                          0                        0   \n",
       "9226                          0                        0   \n",
       "4750                          0                        0   \n",
       "7987                          0                        0   \n",
       "\n",
       "      Lead Source_Facebook  Lead Source_Google  ...  \\\n",
       "3009                     0                   0  ...   \n",
       "1012                     0                   0  ...   \n",
       "9226                     0                   0  ...   \n",
       "4750                     0                   0  ...   \n",
       "7987                     0                   0  ...   \n",
       "\n",
       "      Last Notable Activity_Form Submitted on Website  \\\n",
       "3009                                                0   \n",
       "1012                                                0   \n",
       "9226                                                0   \n",
       "4750                                                0   \n",
       "7987                                                0   \n",
       "\n",
       "      Last Notable Activity_Had a Phone Conversation  \\\n",
       "3009                                               0   \n",
       "1012                                               0   \n",
       "9226                                               0   \n",
       "4750                                               0   \n",
       "7987                                               0   \n",
       "\n",
       "      Last Notable Activity_Modified  \\\n",
       "3009                               0   \n",
       "1012                               0   \n",
       "9226                               1   \n",
       "4750                               0   \n",
       "7987                               1   \n",
       "\n",
       "      Last Notable Activity_Olark Chat Conversation  \\\n",
       "3009                                              0   \n",
       "1012                                              0   \n",
       "9226                                              0   \n",
       "4750                                              0   \n",
       "7987                                              0   \n",
       "\n",
       "      Last Notable Activity_Page Visited on Website  \\\n",
       "3009                                              0   \n",
       "1012                                              0   \n",
       "9226                                              0   \n",
       "4750                                              0   \n",
       "7987                                              0   \n",
       "\n",
       "      Last Notable Activity_Resubscribed to emails  \\\n",
       "3009                                             0   \n",
       "1012                                             0   \n",
       "9226                                             0   \n",
       "4750                                             0   \n",
       "7987                                             0   \n",
       "\n",
       "      Last Notable Activity_SMS Sent  Last Notable Activity_Unreachable  \\\n",
       "3009                               0                                  0   \n",
       "1012                               0                                  0   \n",
       "9226                               0                                  0   \n",
       "4750                               1                                  0   \n",
       "7987                               0                                  0   \n",
       "\n",
       "      Last Notable Activity_Unsubscribed  \\\n",
       "3009                                   0   \n",
       "1012                                   0   \n",
       "9226                                   0   \n",
       "4750                                   0   \n",
       "7987                                   0   \n",
       "\n",
       "      Last Notable Activity_View in browser link Clicked  \n",
       "3009                                                  0   \n",
       "1012                                                  0   \n",
       "9226                                                  0   \n",
       "4750                                                  0   \n",
       "7987                                                  0   \n",
       "\n",
       "[5 rows x 85 columns]"
      ]
     },
     "execution_count": 453,
     "metadata": {},
     "output_type": "execute_result"
    }
   ],
   "source": [
    "from sklearn.preprocessing import StandardScaler\n",
    "\n",
    "scaler = StandardScaler()\n",
    "\n",
    "X_train[['TotalVisits','Total Time Spent on Website','Page Views Per Visit']] = scaler.fit_transform(X_train[['TotalVisits','Total Time Spent on Website','Page Views Per Visit']])\n",
    "\n",
    "X_train.head()"
   ]
  },
  {
   "cell_type": "markdown",
   "metadata": {},
   "source": [
    "### Model Building "
   ]
  },
  {
   "cell_type": "code",
   "execution_count": 454,
   "metadata": {},
   "outputs": [],
   "source": [
    "# import states models \n",
    "import statsmodels.api as sm"
   ]
  },
  {
   "cell_type": "code",
   "execution_count": 455,
   "metadata": {},
   "outputs": [
    {
     "data": {
      "text/html": [
       "<table class=\"simpletable\">\n",
       "<caption>Generalized Linear Model Regression Results</caption>\n",
       "<tr>\n",
       "  <th>Dep. Variable:</th>      <td>Converted</td>    <th>  No. Observations:  </th>  <td>  6351</td>  \n",
       "</tr>\n",
       "<tr>\n",
       "  <th>Model:</th>                 <td>GLM</td>       <th>  Df Residuals:      </th>  <td>  6265</td>  \n",
       "</tr>\n",
       "<tr>\n",
       "  <th>Model Family:</th>       <td>Binomial</td>     <th>  Df Model:          </th>  <td>    85</td>  \n",
       "</tr>\n",
       "<tr>\n",
       "  <th>Link Function:</th>        <td>logit</td>      <th>  Scale:             </th> <td>  1.0000</td> \n",
       "</tr>\n",
       "<tr>\n",
       "  <th>Method:</th>               <td>IRLS</td>       <th>  Log-Likelihood:    </th> <td> -1250.0</td> \n",
       "</tr>\n",
       "<tr>\n",
       "  <th>Date:</th>           <td>Sat, 16 Nov 2019</td> <th>  Deviance:          </th> <td>  2500.0</td> \n",
       "</tr>\n",
       "<tr>\n",
       "  <th>Time:</th>               <td>21:02:09</td>     <th>  Pearson chi2:      </th> <td>3.87e+04</td> \n",
       "</tr>\n",
       "<tr>\n",
       "  <th>No. Iterations:</th>        <td>24</td>        <th>  Covariance Type:   </th> <td>nonrobust</td>\n",
       "</tr>\n",
       "</table>\n",
       "<table class=\"simpletable\">\n",
       "<tr>\n",
       "                            <td></td>                              <th>coef</th>     <th>std err</th>      <th>z</th>      <th>P>|z|</th>  <th>[0.025</th>    <th>0.975]</th>  \n",
       "</tr>\n",
       "<tr>\n",
       "  <th>const</th>                                                <td>   23.1431</td> <td> 2.16e+05</td> <td>    0.000</td> <td> 1.000</td> <td>-4.23e+05</td> <td> 4.23e+05</td>\n",
       "</tr>\n",
       "<tr>\n",
       "  <th>Do Not Email</th>                                         <td>   -1.3882</td> <td>    0.327</td> <td>   -4.243</td> <td> 0.000</td> <td>   -2.030</td> <td>   -0.747</td>\n",
       "</tr>\n",
       "<tr>\n",
       "  <th>Do Not Call</th>                                          <td>   23.7150</td> <td> 1.37e+05</td> <td>    0.000</td> <td> 1.000</td> <td>-2.68e+05</td> <td> 2.68e+05</td>\n",
       "</tr>\n",
       "<tr>\n",
       "  <th>TotalVisits</th>                                          <td>    0.1816</td> <td>    0.087</td> <td>    2.093</td> <td> 0.036</td> <td>    0.012</td> <td>    0.352</td>\n",
       "</tr>\n",
       "<tr>\n",
       "  <th>Total Time Spent on Website</th>                          <td>    1.1457</td> <td>    0.064</td> <td>   17.913</td> <td> 0.000</td> <td>    1.020</td> <td>    1.271</td>\n",
       "</tr>\n",
       "<tr>\n",
       "  <th>Page Views Per Visit</th>                                 <td>   -0.3272</td> <td>    0.099</td> <td>   -3.309</td> <td> 0.001</td> <td>   -0.521</td> <td>   -0.133</td>\n",
       "</tr>\n",
       "<tr>\n",
       "  <th>Lead Origin_Landing Page Submission</th>                  <td>   -0.9762</td> <td>    0.221</td> <td>   -4.420</td> <td> 0.000</td> <td>   -1.409</td> <td>   -0.543</td>\n",
       "</tr>\n",
       "<tr>\n",
       "  <th>Lead Origin_Lead Add Form</th>                            <td>   -0.4165</td> <td>    1.287</td> <td>   -0.324</td> <td> 0.746</td> <td>   -2.940</td> <td>    2.107</td>\n",
       "</tr>\n",
       "<tr>\n",
       "  <th>Lead Origin_Lead Import</th>                              <td>   29.7289</td> <td> 2.16e+05</td> <td>    0.000</td> <td> 1.000</td> <td>-4.23e+05</td> <td> 4.23e+05</td>\n",
       "</tr>\n",
       "<tr>\n",
       "  <th>Lead Source_Facebook</th>                                 <td>  -28.6304</td> <td> 2.16e+05</td> <td>   -0.000</td> <td> 1.000</td> <td>-4.23e+05</td> <td> 4.23e+05</td>\n",
       "</tr>\n",
       "<tr>\n",
       "  <th>Lead Source_Google</th>                                   <td>    0.2017</td> <td>    0.155</td> <td>    1.302</td> <td> 0.193</td> <td>   -0.102</td> <td>    0.505</td>\n",
       "</tr>\n",
       "<tr>\n",
       "  <th>Lead Source_Olark Chat</th>                               <td>    0.8633</td> <td>    0.234</td> <td>    3.693</td> <td> 0.000</td> <td>    0.405</td> <td>    1.321</td>\n",
       "</tr>\n",
       "<tr>\n",
       "  <th>Lead Source_Organic Search</th>                           <td>    0.2278</td> <td>    0.210</td> <td>    1.083</td> <td> 0.279</td> <td>   -0.185</td> <td>    0.640</td>\n",
       "</tr>\n",
       "<tr>\n",
       "  <th>Lead Source_Others</th>                                   <td>    0.7602</td> <td>    0.816</td> <td>    0.931</td> <td> 0.352</td> <td>   -0.839</td> <td>    2.360</td>\n",
       "</tr>\n",
       "<tr>\n",
       "  <th>Lead Source_Reference</th>                                <td>    1.7732</td> <td>    1.344</td> <td>    1.319</td> <td> 0.187</td> <td>   -0.861</td> <td>    4.407</td>\n",
       "</tr>\n",
       "<tr>\n",
       "  <th>Lead Source_Referral Sites</th>                           <td>   -0.0945</td> <td>    0.491</td> <td>   -0.193</td> <td> 0.847</td> <td>   -1.056</td> <td>    0.867</td>\n",
       "</tr>\n",
       "<tr>\n",
       "  <th>Lead Source_Welingak Website</th>                         <td>    5.4722</td> <td>    1.486</td> <td>    3.682</td> <td> 0.000</td> <td>    2.559</td> <td>    8.385</td>\n",
       "</tr>\n",
       "<tr>\n",
       "  <th>Last Activity_Email Bounced</th>                          <td>   -0.5488</td> <td>    0.870</td> <td>   -0.631</td> <td> 0.528</td> <td>   -2.254</td> <td>    1.157</td>\n",
       "</tr>\n",
       "<tr>\n",
       "  <th>Last Activity_Email Link Clicked</th>                     <td>    0.8429</td> <td>    0.644</td> <td>    1.309</td> <td> 0.190</td> <td>   -0.419</td> <td>    2.105</td>\n",
       "</tr>\n",
       "<tr>\n",
       "  <th>Last Activity_Email Opened</th>                           <td>   -0.0003</td> <td>    0.384</td> <td>   -0.001</td> <td> 0.999</td> <td>   -0.754</td> <td>    0.753</td>\n",
       "</tr>\n",
       "<tr>\n",
       "  <th>Last Activity_Form Submitted on Website</th>              <td>    0.1337</td> <td>    0.593</td> <td>    0.225</td> <td> 0.822</td> <td>   -1.028</td> <td>    1.296</td>\n",
       "</tr>\n",
       "<tr>\n",
       "  <th>Last Activity_Olark Chat Conversation</th>                <td>   -0.5464</td> <td>    0.392</td> <td>   -1.395</td> <td> 0.163</td> <td>   -1.314</td> <td>    0.221</td>\n",
       "</tr>\n",
       "<tr>\n",
       "  <th>Last Activity_Other_Activity</th>                         <td>    1.4578</td> <td>    1.200</td> <td>    1.214</td> <td> 0.225</td> <td>   -0.895</td> <td>    3.811</td>\n",
       "</tr>\n",
       "<tr>\n",
       "  <th>Last Activity_Page Visited on Website</th>                <td>    0.5059</td> <td>    0.456</td> <td>    1.110</td> <td> 0.267</td> <td>   -0.387</td> <td>    1.399</td>\n",
       "</tr>\n",
       "<tr>\n",
       "  <th>Last Activity_SMS Sent</th>                               <td>    1.1289</td> <td>    0.360</td> <td>    3.134</td> <td> 0.002</td> <td>    0.423</td> <td>    1.835</td>\n",
       "</tr>\n",
       "<tr>\n",
       "  <th>Last Activity_Unreachable</th>                            <td>    0.6479</td> <td>    0.840</td> <td>    0.771</td> <td> 0.441</td> <td>   -0.999</td> <td>    2.294</td>\n",
       "</tr>\n",
       "<tr>\n",
       "  <th>Last Activity_Unsubscribed</th>                           <td>    0.8348</td> <td>    1.571</td> <td>    0.531</td> <td> 0.595</td> <td>   -2.245</td> <td>    3.914</td>\n",
       "</tr>\n",
       "<tr>\n",
       "  <th>Specialization_Business Administration</th>               <td>   -0.2329</td> <td>    0.392</td> <td>   -0.594</td> <td> 0.553</td> <td>   -1.002</td> <td>    0.536</td>\n",
       "</tr>\n",
       "<tr>\n",
       "  <th>Specialization_E-Business</th>                            <td>   -0.3661</td> <td>    0.715</td> <td>   -0.512</td> <td> 0.609</td> <td>   -1.767</td> <td>    1.035</td>\n",
       "</tr>\n",
       "<tr>\n",
       "  <th>Specialization_E-COMMERCE</th>                            <td>    0.5774</td> <td>    0.587</td> <td>    0.983</td> <td> 0.326</td> <td>   -0.574</td> <td>    1.728</td>\n",
       "</tr>\n",
       "<tr>\n",
       "  <th>Specialization_Finance Management</th>                    <td>   -0.4463</td> <td>    0.346</td> <td>   -1.291</td> <td> 0.197</td> <td>   -1.124</td> <td>    0.231</td>\n",
       "</tr>\n",
       "<tr>\n",
       "  <th>Specialization_Healthcare Management</th>                 <td>   -0.5197</td> <td>    0.510</td> <td>   -1.018</td> <td> 0.308</td> <td>   -1.520</td> <td>    0.480</td>\n",
       "</tr>\n",
       "<tr>\n",
       "  <th>Specialization_Hospitality Management</th>                <td>   -0.1701</td> <td>    0.544</td> <td>   -0.312</td> <td> 0.755</td> <td>   -1.237</td> <td>    0.897</td>\n",
       "</tr>\n",
       "<tr>\n",
       "  <th>Specialization_Human Resource Management</th>             <td>   -0.2918</td> <td>    0.347</td> <td>   -0.840</td> <td> 0.401</td> <td>   -0.973</td> <td>    0.389</td>\n",
       "</tr>\n",
       "<tr>\n",
       "  <th>Specialization_IT Projects Management</th>                <td>   -0.0187</td> <td>    0.411</td> <td>   -0.045</td> <td> 0.964</td> <td>   -0.824</td> <td>    0.787</td>\n",
       "</tr>\n",
       "<tr>\n",
       "  <th>Specialization_International Business</th>                <td>   -0.8406</td> <td>    0.460</td> <td>   -1.828</td> <td> 0.068</td> <td>   -1.742</td> <td>    0.061</td>\n",
       "</tr>\n",
       "<tr>\n",
       "  <th>Specialization_Marketing Management</th>                  <td>    0.0389</td> <td>    0.349</td> <td>    0.112</td> <td> 0.911</td> <td>   -0.645</td> <td>    0.722</td>\n",
       "</tr>\n",
       "<tr>\n",
       "  <th>Specialization_Media and Advertising</th>                 <td>   -0.5447</td> <td>    0.488</td> <td>   -1.116</td> <td> 0.264</td> <td>   -1.501</td> <td>    0.412</td>\n",
       "</tr>\n",
       "<tr>\n",
       "  <th>Specialization_Operations Management</th>                 <td>   -0.1345</td> <td>    0.392</td> <td>   -0.343</td> <td> 0.732</td> <td>   -0.904</td> <td>    0.635</td>\n",
       "</tr>\n",
       "<tr>\n",
       "  <th>Specialization_Other_Specialization</th>                  <td>   -0.7987</td> <td>    0.359</td> <td>   -2.228</td> <td> 0.026</td> <td>   -1.501</td> <td>   -0.096</td>\n",
       "</tr>\n",
       "<tr>\n",
       "  <th>Specialization_Retail Management</th>                     <td>   -0.2404</td> <td>    0.562</td> <td>   -0.428</td> <td> 0.669</td> <td>   -1.342</td> <td>    0.861</td>\n",
       "</tr>\n",
       "<tr>\n",
       "  <th>Specialization_Rural and Agribusiness</th>                <td>    0.0798</td> <td>    0.688</td> <td>    0.116</td> <td> 0.908</td> <td>   -1.269</td> <td>    1.428</td>\n",
       "</tr>\n",
       "<tr>\n",
       "  <th>Specialization_Services Excellence</th>                   <td>   -0.0560</td> <td>    0.971</td> <td>   -0.058</td> <td> 0.954</td> <td>   -1.960</td> <td>    1.848</td>\n",
       "</tr>\n",
       "<tr>\n",
       "  <th>Specialization_Supply Chain Management</th>               <td>   -0.4389</td> <td>    0.426</td> <td>   -1.030</td> <td> 0.303</td> <td>   -1.274</td> <td>    0.397</td>\n",
       "</tr>\n",
       "<tr>\n",
       "  <th>Specialization_Travel and Tourism</th>                    <td>   -0.7866</td> <td>    0.512</td> <td>   -1.537</td> <td> 0.124</td> <td>   -1.790</td> <td>    0.217</td>\n",
       "</tr>\n",
       "<tr>\n",
       "  <th>What is your current occupation_Housewife</th>            <td>   20.6162</td> <td> 7.16e+04</td> <td>    0.000</td> <td> 1.000</td> <td> -1.4e+05</td> <td>  1.4e+05</td>\n",
       "</tr>\n",
       "<tr>\n",
       "  <th>What is your current occupation_Other_Occupation</th>     <td>   -0.7446</td> <td>    2.036</td> <td>   -0.366</td> <td> 0.715</td> <td>   -4.736</td> <td>    3.246</td>\n",
       "</tr>\n",
       "<tr>\n",
       "  <th>What is your current occupation_Student</th>              <td>   -1.3109</td> <td>    1.548</td> <td>   -0.847</td> <td> 0.397</td> <td>   -4.345</td> <td>    1.723</td>\n",
       "</tr>\n",
       "<tr>\n",
       "  <th>What is your current occupation_Unemployed</th>           <td>   -2.1034</td> <td>    1.446</td> <td>   -1.455</td> <td> 0.146</td> <td>   -4.937</td> <td>    0.730</td>\n",
       "</tr>\n",
       "<tr>\n",
       "  <th>What is your current occupation_Working Professional</th> <td>   -0.7884</td> <td>    1.483</td> <td>   -0.532</td> <td> 0.595</td> <td>   -3.694</td> <td>    2.117</td>\n",
       "</tr>\n",
       "<tr>\n",
       "  <th>Tags_Busy</th>                                            <td>    3.9167</td> <td>    0.849</td> <td>    4.611</td> <td> 0.000</td> <td>    2.252</td> <td>    5.582</td>\n",
       "</tr>\n",
       "<tr>\n",
       "  <th>Tags_Closed by Horizzon</th>                              <td>    8.8694</td> <td>    1.138</td> <td>    7.792</td> <td> 0.000</td> <td>    6.638</td> <td>   11.100</td>\n",
       "</tr>\n",
       "<tr>\n",
       "  <th>Tags_Interested  in full time MBA</th>                    <td>    0.3509</td> <td>    1.227</td> <td>    0.286</td> <td> 0.775</td> <td>   -2.054</td> <td>    2.756</td>\n",
       "</tr>\n",
       "<tr>\n",
       "  <th>Tags_Interested in other courses</th>                     <td>    0.2322</td> <td>    0.888</td> <td>    0.261</td> <td> 0.794</td> <td>   -1.509</td> <td>    1.973</td>\n",
       "</tr>\n",
       "<tr>\n",
       "  <th>Tags_Lost to EINS</th>                                    <td>    9.7272</td> <td>    1.087</td> <td>    8.946</td> <td> 0.000</td> <td>    7.596</td> <td>   11.858</td>\n",
       "</tr>\n",
       "<tr>\n",
       "  <th>Tags_Not doing further education</th>                     <td>   -0.0911</td> <td>    1.502</td> <td>   -0.061</td> <td> 0.952</td> <td>   -3.035</td> <td>    2.853</td>\n",
       "</tr>\n",
       "<tr>\n",
       "  <th>Tags_Other_Tags</th>                                      <td>    1.0318</td> <td>    0.865</td> <td>    1.193</td> <td> 0.233</td> <td>   -0.663</td> <td>    2.726</td>\n",
       "</tr>\n",
       "<tr>\n",
       "  <th>Tags_Ringing</th>                                         <td>   -1.1124</td> <td>    0.857</td> <td>   -1.298</td> <td> 0.194</td> <td>   -2.792</td> <td>    0.568</td>\n",
       "</tr>\n",
       "<tr>\n",
       "  <th>Tags_Will revert after reading the email</th>             <td>    4.1719</td> <td>    0.812</td> <td>    5.138</td> <td> 0.000</td> <td>    2.581</td> <td>    5.763</td>\n",
       "</tr>\n",
       "<tr>\n",
       "  <th>Tags_invalid number</th>                                  <td>  -22.5334</td> <td> 2.22e+04</td> <td>   -0.001</td> <td> 0.999</td> <td>-4.35e+04</td> <td> 4.34e+04</td>\n",
       "</tr>\n",
       "<tr>\n",
       "  <th>Tags_switched off</th>                                    <td>   -1.8183</td> <td>    1.014</td> <td>   -1.792</td> <td> 0.073</td> <td>   -3.807</td> <td>    0.170</td>\n",
       "</tr>\n",
       "<tr>\n",
       "  <th>Tags_wrong number given</th>                              <td>  -22.8008</td> <td> 3.02e+04</td> <td>   -0.001</td> <td> 0.999</td> <td>-5.92e+04</td> <td> 5.91e+04</td>\n",
       "</tr>\n",
       "<tr>\n",
       "  <th>Lead Quality_Low in Relevance</th>                        <td>   -0.6390</td> <td>    0.433</td> <td>   -1.474</td> <td> 0.140</td> <td>   -1.488</td> <td>    0.211</td>\n",
       "</tr>\n",
       "<tr>\n",
       "  <th>Lead Quality_Might be</th>                                <td>   -1.3393</td> <td>    0.394</td> <td>   -3.403</td> <td> 0.001</td> <td>   -2.111</td> <td>   -0.568</td>\n",
       "</tr>\n",
       "<tr>\n",
       "  <th>Lead Quality_Not Sure</th>                                <td>   -4.1142</td> <td>    0.377</td> <td>  -10.912</td> <td> 0.000</td> <td>   -4.853</td> <td>   -3.375</td>\n",
       "</tr>\n",
       "<tr>\n",
       "  <th>Lead Quality_Worst</th>                                   <td>   -4.8082</td> <td>    1.015</td> <td>   -4.736</td> <td> 0.000</td> <td>   -6.798</td> <td>   -2.819</td>\n",
       "</tr>\n",
       "<tr>\n",
       "  <th>City_Other Cities</th>                                    <td>   -0.2032</td> <td>    0.224</td> <td>   -0.908</td> <td> 0.364</td> <td>   -0.642</td> <td>    0.236</td>\n",
       "</tr>\n",
       "<tr>\n",
       "  <th>City_Other Cities of Maharashtra</th>                     <td>   -0.0075</td> <td>    0.261</td> <td>   -0.029</td> <td> 0.977</td> <td>   -0.518</td> <td>    0.504</td>\n",
       "</tr>\n",
       "<tr>\n",
       "  <th>City_Other Metro Cities</th>                              <td>    0.1117</td> <td>    0.287</td> <td>    0.389</td> <td> 0.697</td> <td>   -0.451</td> <td>    0.674</td>\n",
       "</tr>\n",
       "<tr>\n",
       "  <th>City_Thane & Outskirts</th>                               <td>   -0.1038</td> <td>    0.218</td> <td>   -0.477</td> <td> 0.634</td> <td>   -0.530</td> <td>    0.323</td>\n",
       "</tr>\n",
       "<tr>\n",
       "  <th>City_Tier II Cities</th>                                  <td>    0.9188</td> <td>    0.654</td> <td>    1.405</td> <td> 0.160</td> <td>   -0.363</td> <td>    2.200</td>\n",
       "</tr>\n",
       "<tr>\n",
       "  <th>Last Notable Activity_Email Bounced</th>                  <td>  -20.1490</td> <td> 2.16e+05</td> <td>-9.33e-05</td> <td> 1.000</td> <td>-4.23e+05</td> <td> 4.23e+05</td>\n",
       "</tr>\n",
       "<tr>\n",
       "  <th>Last Notable Activity_Email Link Clicked</th>             <td>  -23.1910</td> <td> 2.16e+05</td> <td>   -0.000</td> <td> 1.000</td> <td>-4.23e+05</td> <td> 4.23e+05</td>\n",
       "</tr>\n",
       "<tr>\n",
       "  <th>Last Notable Activity_Email Marked Spam</th>              <td>    0.5181</td> <td> 2.56e+05</td> <td> 2.02e-06</td> <td> 1.000</td> <td>-5.02e+05</td> <td> 5.02e+05</td>\n",
       "</tr>\n",
       "<tr>\n",
       "  <th>Last Notable Activity_Email Opened</th>                   <td>  -21.4926</td> <td> 2.16e+05</td> <td>-9.95e-05</td> <td> 1.000</td> <td>-4.23e+05</td> <td> 4.23e+05</td>\n",
       "</tr>\n",
       "<tr>\n",
       "  <th>Last Notable Activity_Email Received</th>                 <td>   -1.9846</td> <td> 3.05e+05</td> <td> -6.5e-06</td> <td> 1.000</td> <td>-5.99e+05</td> <td> 5.99e+05</td>\n",
       "</tr>\n",
       "<tr>\n",
       "  <th>Last Notable Activity_Form Submitted on Website</th>      <td>  -45.2745</td> <td> 3.05e+05</td> <td>   -0.000</td> <td> 1.000</td> <td>-5.99e+05</td> <td> 5.99e+05</td>\n",
       "</tr>\n",
       "<tr>\n",
       "  <th>Last Notable Activity_Had a Phone Conversation</th>       <td>  -21.6363</td> <td> 2.16e+05</td> <td>   -0.000</td> <td> 1.000</td> <td>-4.23e+05</td> <td> 4.23e+05</td>\n",
       "</tr>\n",
       "<tr>\n",
       "  <th>Last Notable Activity_Modified</th>                       <td>  -22.7337</td> <td> 2.16e+05</td> <td>   -0.000</td> <td> 1.000</td> <td>-4.23e+05</td> <td> 4.23e+05</td>\n",
       "</tr>\n",
       "<tr>\n",
       "  <th>Last Notable Activity_Olark Chat Conversation</th>        <td>  -22.7854</td> <td> 2.16e+05</td> <td>   -0.000</td> <td> 1.000</td> <td>-4.23e+05</td> <td> 4.23e+05</td>\n",
       "</tr>\n",
       "<tr>\n",
       "  <th>Last Notable Activity_Page Visited on Website</th>        <td>  -22.5736</td> <td> 2.16e+05</td> <td>   -0.000</td> <td> 1.000</td> <td>-4.23e+05</td> <td> 4.23e+05</td>\n",
       "</tr>\n",
       "<tr>\n",
       "  <th>Last Notable Activity_Resubscribed to emails</th>         <td>   -1.7961</td> <td> 3.05e+05</td> <td>-5.88e-06</td> <td> 1.000</td> <td>-5.99e+05</td> <td> 5.99e+05</td>\n",
       "</tr>\n",
       "<tr>\n",
       "  <th>Last Notable Activity_SMS Sent</th>                       <td>  -20.2283</td> <td> 2.16e+05</td> <td>-9.37e-05</td> <td> 1.000</td> <td>-4.23e+05</td> <td> 4.23e+05</td>\n",
       "</tr>\n",
       "<tr>\n",
       "  <th>Last Notable Activity_Unreachable</th>                    <td>  -21.1496</td> <td> 2.16e+05</td> <td>-9.79e-05</td> <td> 1.000</td> <td>-4.23e+05</td> <td> 4.23e+05</td>\n",
       "</tr>\n",
       "<tr>\n",
       "  <th>Last Notable Activity_Unsubscribed</th>                   <td>  -21.3614</td> <td> 2.16e+05</td> <td>-9.89e-05</td> <td> 1.000</td> <td>-4.23e+05</td> <td> 4.23e+05</td>\n",
       "</tr>\n",
       "<tr>\n",
       "  <th>Last Notable Activity_View in browser link Clicked</th>   <td>  -43.1075</td> <td> 3.05e+05</td> <td>   -0.000</td> <td> 1.000</td> <td>-5.99e+05</td> <td> 5.99e+05</td>\n",
       "</tr>\n",
       "</table>"
      ],
      "text/plain": [
       "<class 'statsmodels.iolib.summary.Summary'>\n",
       "\"\"\"\n",
       "                 Generalized Linear Model Regression Results                  \n",
       "==============================================================================\n",
       "Dep. Variable:              Converted   No. Observations:                 6351\n",
       "Model:                            GLM   Df Residuals:                     6265\n",
       "Model Family:                Binomial   Df Model:                           85\n",
       "Link Function:                  logit   Scale:                          1.0000\n",
       "Method:                          IRLS   Log-Likelihood:                -1250.0\n",
       "Date:                Sat, 16 Nov 2019   Deviance:                       2500.0\n",
       "Time:                        21:02:09   Pearson chi2:                 3.87e+04\n",
       "No. Iterations:                    24   Covariance Type:             nonrobust\n",
       "========================================================================================================================\n",
       "                                                           coef    std err          z      P>|z|      [0.025      0.975]\n",
       "------------------------------------------------------------------------------------------------------------------------\n",
       "const                                                   23.1431   2.16e+05      0.000      1.000   -4.23e+05    4.23e+05\n",
       "Do Not Email                                            -1.3882      0.327     -4.243      0.000      -2.030      -0.747\n",
       "Do Not Call                                             23.7150   1.37e+05      0.000      1.000   -2.68e+05    2.68e+05\n",
       "TotalVisits                                              0.1816      0.087      2.093      0.036       0.012       0.352\n",
       "Total Time Spent on Website                              1.1457      0.064     17.913      0.000       1.020       1.271\n",
       "Page Views Per Visit                                    -0.3272      0.099     -3.309      0.001      -0.521      -0.133\n",
       "Lead Origin_Landing Page Submission                     -0.9762      0.221     -4.420      0.000      -1.409      -0.543\n",
       "Lead Origin_Lead Add Form                               -0.4165      1.287     -0.324      0.746      -2.940       2.107\n",
       "Lead Origin_Lead Import                                 29.7289   2.16e+05      0.000      1.000   -4.23e+05    4.23e+05\n",
       "Lead Source_Facebook                                   -28.6304   2.16e+05     -0.000      1.000   -4.23e+05    4.23e+05\n",
       "Lead Source_Google                                       0.2017      0.155      1.302      0.193      -0.102       0.505\n",
       "Lead Source_Olark Chat                                   0.8633      0.234      3.693      0.000       0.405       1.321\n",
       "Lead Source_Organic Search                               0.2278      0.210      1.083      0.279      -0.185       0.640\n",
       "Lead Source_Others                                       0.7602      0.816      0.931      0.352      -0.839       2.360\n",
       "Lead Source_Reference                                    1.7732      1.344      1.319      0.187      -0.861       4.407\n",
       "Lead Source_Referral Sites                              -0.0945      0.491     -0.193      0.847      -1.056       0.867\n",
       "Lead Source_Welingak Website                             5.4722      1.486      3.682      0.000       2.559       8.385\n",
       "Last Activity_Email Bounced                             -0.5488      0.870     -0.631      0.528      -2.254       1.157\n",
       "Last Activity_Email Link Clicked                         0.8429      0.644      1.309      0.190      -0.419       2.105\n",
       "Last Activity_Email Opened                              -0.0003      0.384     -0.001      0.999      -0.754       0.753\n",
       "Last Activity_Form Submitted on Website                  0.1337      0.593      0.225      0.822      -1.028       1.296\n",
       "Last Activity_Olark Chat Conversation                   -0.5464      0.392     -1.395      0.163      -1.314       0.221\n",
       "Last Activity_Other_Activity                             1.4578      1.200      1.214      0.225      -0.895       3.811\n",
       "Last Activity_Page Visited on Website                    0.5059      0.456      1.110      0.267      -0.387       1.399\n",
       "Last Activity_SMS Sent                                   1.1289      0.360      3.134      0.002       0.423       1.835\n",
       "Last Activity_Unreachable                                0.6479      0.840      0.771      0.441      -0.999       2.294\n",
       "Last Activity_Unsubscribed                               0.8348      1.571      0.531      0.595      -2.245       3.914\n",
       "Specialization_Business Administration                  -0.2329      0.392     -0.594      0.553      -1.002       0.536\n",
       "Specialization_E-Business                               -0.3661      0.715     -0.512      0.609      -1.767       1.035\n",
       "Specialization_E-COMMERCE                                0.5774      0.587      0.983      0.326      -0.574       1.728\n",
       "Specialization_Finance Management                       -0.4463      0.346     -1.291      0.197      -1.124       0.231\n",
       "Specialization_Healthcare Management                    -0.5197      0.510     -1.018      0.308      -1.520       0.480\n",
       "Specialization_Hospitality Management                   -0.1701      0.544     -0.312      0.755      -1.237       0.897\n",
       "Specialization_Human Resource Management                -0.2918      0.347     -0.840      0.401      -0.973       0.389\n",
       "Specialization_IT Projects Management                   -0.0187      0.411     -0.045      0.964      -0.824       0.787\n",
       "Specialization_International Business                   -0.8406      0.460     -1.828      0.068      -1.742       0.061\n",
       "Specialization_Marketing Management                      0.0389      0.349      0.112      0.911      -0.645       0.722\n",
       "Specialization_Media and Advertising                    -0.5447      0.488     -1.116      0.264      -1.501       0.412\n",
       "Specialization_Operations Management                    -0.1345      0.392     -0.343      0.732      -0.904       0.635\n",
       "Specialization_Other_Specialization                     -0.7987      0.359     -2.228      0.026      -1.501      -0.096\n",
       "Specialization_Retail Management                        -0.2404      0.562     -0.428      0.669      -1.342       0.861\n",
       "Specialization_Rural and Agribusiness                    0.0798      0.688      0.116      0.908      -1.269       1.428\n",
       "Specialization_Services Excellence                      -0.0560      0.971     -0.058      0.954      -1.960       1.848\n",
       "Specialization_Supply Chain Management                  -0.4389      0.426     -1.030      0.303      -1.274       0.397\n",
       "Specialization_Travel and Tourism                       -0.7866      0.512     -1.537      0.124      -1.790       0.217\n",
       "What is your current occupation_Housewife               20.6162   7.16e+04      0.000      1.000    -1.4e+05     1.4e+05\n",
       "What is your current occupation_Other_Occupation        -0.7446      2.036     -0.366      0.715      -4.736       3.246\n",
       "What is your current occupation_Student                 -1.3109      1.548     -0.847      0.397      -4.345       1.723\n",
       "What is your current occupation_Unemployed              -2.1034      1.446     -1.455      0.146      -4.937       0.730\n",
       "What is your current occupation_Working Professional    -0.7884      1.483     -0.532      0.595      -3.694       2.117\n",
       "Tags_Busy                                                3.9167      0.849      4.611      0.000       2.252       5.582\n",
       "Tags_Closed by Horizzon                                  8.8694      1.138      7.792      0.000       6.638      11.100\n",
       "Tags_Interested  in full time MBA                        0.3509      1.227      0.286      0.775      -2.054       2.756\n",
       "Tags_Interested in other courses                         0.2322      0.888      0.261      0.794      -1.509       1.973\n",
       "Tags_Lost to EINS                                        9.7272      1.087      8.946      0.000       7.596      11.858\n",
       "Tags_Not doing further education                        -0.0911      1.502     -0.061      0.952      -3.035       2.853\n",
       "Tags_Other_Tags                                          1.0318      0.865      1.193      0.233      -0.663       2.726\n",
       "Tags_Ringing                                            -1.1124      0.857     -1.298      0.194      -2.792       0.568\n",
       "Tags_Will revert after reading the email                 4.1719      0.812      5.138      0.000       2.581       5.763\n",
       "Tags_invalid number                                    -22.5334   2.22e+04     -0.001      0.999   -4.35e+04    4.34e+04\n",
       "Tags_switched off                                       -1.8183      1.014     -1.792      0.073      -3.807       0.170\n",
       "Tags_wrong number given                                -22.8008   3.02e+04     -0.001      0.999   -5.92e+04    5.91e+04\n",
       "Lead Quality_Low in Relevance                           -0.6390      0.433     -1.474      0.140      -1.488       0.211\n",
       "Lead Quality_Might be                                   -1.3393      0.394     -3.403      0.001      -2.111      -0.568\n",
       "Lead Quality_Not Sure                                   -4.1142      0.377    -10.912      0.000      -4.853      -3.375\n",
       "Lead Quality_Worst                                      -4.8082      1.015     -4.736      0.000      -6.798      -2.819\n",
       "City_Other Cities                                       -0.2032      0.224     -0.908      0.364      -0.642       0.236\n",
       "City_Other Cities of Maharashtra                        -0.0075      0.261     -0.029      0.977      -0.518       0.504\n",
       "City_Other Metro Cities                                  0.1117      0.287      0.389      0.697      -0.451       0.674\n",
       "City_Thane & Outskirts                                  -0.1038      0.218     -0.477      0.634      -0.530       0.323\n",
       "City_Tier II Cities                                      0.9188      0.654      1.405      0.160      -0.363       2.200\n",
       "Last Notable Activity_Email Bounced                    -20.1490   2.16e+05  -9.33e-05      1.000   -4.23e+05    4.23e+05\n",
       "Last Notable Activity_Email Link Clicked               -23.1910   2.16e+05     -0.000      1.000   -4.23e+05    4.23e+05\n",
       "Last Notable Activity_Email Marked Spam                  0.5181   2.56e+05   2.02e-06      1.000   -5.02e+05    5.02e+05\n",
       "Last Notable Activity_Email Opened                     -21.4926   2.16e+05  -9.95e-05      1.000   -4.23e+05    4.23e+05\n",
       "Last Notable Activity_Email Received                    -1.9846   3.05e+05   -6.5e-06      1.000   -5.99e+05    5.99e+05\n",
       "Last Notable Activity_Form Submitted on Website        -45.2745   3.05e+05     -0.000      1.000   -5.99e+05    5.99e+05\n",
       "Last Notable Activity_Had a Phone Conversation         -21.6363   2.16e+05     -0.000      1.000   -4.23e+05    4.23e+05\n",
       "Last Notable Activity_Modified                         -22.7337   2.16e+05     -0.000      1.000   -4.23e+05    4.23e+05\n",
       "Last Notable Activity_Olark Chat Conversation          -22.7854   2.16e+05     -0.000      1.000   -4.23e+05    4.23e+05\n",
       "Last Notable Activity_Page Visited on Website          -22.5736   2.16e+05     -0.000      1.000   -4.23e+05    4.23e+05\n",
       "Last Notable Activity_Resubscribed to emails            -1.7961   3.05e+05  -5.88e-06      1.000   -5.99e+05    5.99e+05\n",
       "Last Notable Activity_SMS Sent                         -20.2283   2.16e+05  -9.37e-05      1.000   -4.23e+05    4.23e+05\n",
       "Last Notable Activity_Unreachable                      -21.1496   2.16e+05  -9.79e-05      1.000   -4.23e+05    4.23e+05\n",
       "Last Notable Activity_Unsubscribed                     -21.3614   2.16e+05  -9.89e-05      1.000   -4.23e+05    4.23e+05\n",
       "Last Notable Activity_View in browser link Clicked     -43.1075   3.05e+05     -0.000      1.000   -5.99e+05    5.99e+05\n",
       "========================================================================================================================\n",
       "\"\"\""
      ]
     },
     "execution_count": 455,
     "metadata": {},
     "output_type": "execute_result"
    }
   ],
   "source": [
    "# Logistic regression model\n",
    "logm1 = sm.GLM(y_train,(sm.add_constant(X_train)), family = sm.families.Binomial())\n",
    "logm1.fit().summary()"
   ]
  },
  {
   "cell_type": "markdown",
   "metadata": {},
   "source": [
    "Lot of variables having very high 'P' Values, need to drop them for a good module"
   ]
  },
  {
   "cell_type": "markdown",
   "metadata": {},
   "source": [
    "### Feature Selection Using RFE"
   ]
  },
  {
   "cell_type": "code",
   "execution_count": 456,
   "metadata": {},
   "outputs": [],
   "source": [
    "from sklearn.linear_model import LogisticRegression\n",
    "logreg = LogisticRegression()\n",
    "\n",
    "from sklearn.feature_selection import RFE\n",
    "rfe = RFE(logreg, 15)             # running RFE with 15 variables as output\n",
    "rfe = rfe.fit(X_train, y_train)"
   ]
  },
  {
   "cell_type": "code",
   "execution_count": 457,
   "metadata": {},
   "outputs": [
    {
     "data": {
      "text/plain": [
       "array([ True, False, False, False, False, False,  True, False, False,\n",
       "       False, False, False, False, False, False,  True, False, False,\n",
       "       False, False, False, False, False, False, False, False, False,\n",
       "       False, False, False, False, False, False, False, False, False,\n",
       "       False, False, False, False, False, False, False, False, False,\n",
       "       False, False, False,  True,  True,  True, False, False,  True,\n",
       "       False, False,  True,  True,  True,  True,  True, False, False,\n",
       "        True,  True, False, False, False, False, False, False, False,\n",
       "       False, False, False, False, False, False, False, False, False,\n",
       "        True, False, False, False])"
      ]
     },
     "execution_count": 457,
     "metadata": {},
     "output_type": "execute_result"
    }
   ],
   "source": [
    "rfe.support_"
   ]
  },
  {
   "cell_type": "code",
   "execution_count": 458,
   "metadata": {},
   "outputs": [
    {
     "data": {
      "text/plain": [
       "[('Do Not Email', True, 1),\n",
       " ('Do Not Call', False, 33),\n",
       " ('TotalVisits', False, 43),\n",
       " ('Total Time Spent on Website', False, 3),\n",
       " ('Page Views Per Visit', False, 40),\n",
       " ('Lead Origin_Landing Page Submission', False, 16),\n",
       " ('Lead Origin_Lead Add Form', True, 1),\n",
       " ('Lead Origin_Lead Import', False, 2),\n",
       " ('Lead Source_Facebook', False, 49),\n",
       " ('Lead Source_Google', False, 38),\n",
       " ('Lead Source_Olark Chat', False, 5),\n",
       " ('Lead Source_Organic Search', False, 39),\n",
       " ('Lead Source_Others', False, 46),\n",
       " ('Lead Source_Reference', False, 70),\n",
       " ('Lead Source_Referral Sites', False, 53),\n",
       " ('Lead Source_Welingak Website', True, 1),\n",
       " ('Last Activity_Email Bounced', False, 28),\n",
       " ('Last Activity_Email Link Clicked', False, 36),\n",
       " ('Last Activity_Email Opened', False, 60),\n",
       " ('Last Activity_Form Submitted on Website', False, 66),\n",
       " ('Last Activity_Olark Chat Conversation', False, 13),\n",
       " ('Last Activity_Other_Activity', False, 8),\n",
       " ('Last Activity_Page Visited on Website', False, 37),\n",
       " ('Last Activity_SMS Sent', False, 7),\n",
       " ('Last Activity_Unreachable', False, 14),\n",
       " ('Last Activity_Unsubscribed', False, 17),\n",
       " ('Specialization_Business Administration', False, 61),\n",
       " ('Specialization_E-Business', False, 67),\n",
       " ('Specialization_E-COMMERCE', False, 15),\n",
       " ('Specialization_Finance Management', False, 44),\n",
       " ('Specialization_Healthcare Management', False, 42),\n",
       " ('Specialization_Hospitality Management', False, 62),\n",
       " ('Specialization_Human Resource Management', False, 57),\n",
       " ('Specialization_IT Projects Management', False, 47),\n",
       " ('Specialization_International Business', False, 21),\n",
       " ('Specialization_Marketing Management', False, 32),\n",
       " ('Specialization_Media and Advertising', False, 34),\n",
       " ('Specialization_Operations Management', False, 69),\n",
       " ('Specialization_Other_Specialization', False, 20),\n",
       " ('Specialization_Retail Management', False, 59),\n",
       " ('Specialization_Rural and Agribusiness', False, 45),\n",
       " ('Specialization_Services Excellence', False, 56),\n",
       " ('Specialization_Supply Chain Management', False, 50),\n",
       " ('Specialization_Travel and Tourism', False, 24),\n",
       " ('What is your current occupation_Housewife', False, 41),\n",
       " ('What is your current occupation_Other_Occupation', False, 26),\n",
       " ('What is your current occupation_Student', False, 35),\n",
       " ('What is your current occupation_Unemployed', False, 19),\n",
       " ('What is your current occupation_Working Professional', True, 1),\n",
       " ('Tags_Busy', True, 1),\n",
       " ('Tags_Closed by Horizzon', True, 1),\n",
       " ('Tags_Interested  in full time MBA', False, 18),\n",
       " ('Tags_Interested in other courses', False, 10),\n",
       " ('Tags_Lost to EINS', True, 1),\n",
       " ('Tags_Not doing further education', False, 11),\n",
       " ('Tags_Other_Tags', False, 30),\n",
       " ('Tags_Ringing', True, 1),\n",
       " ('Tags_Will revert after reading the email', True, 1),\n",
       " ('Tags_invalid number', True, 1),\n",
       " ('Tags_switched off', True, 1),\n",
       " ('Tags_wrong number given', True, 1),\n",
       " ('Lead Quality_Low in Relevance', False, 63),\n",
       " ('Lead Quality_Might be', False, 9),\n",
       " ('Lead Quality_Not Sure', True, 1),\n",
       " ('Lead Quality_Worst', True, 1),\n",
       " ('City_Other Cities', False, 51),\n",
       " ('City_Other Cities of Maharashtra', False, 68),\n",
       " ('City_Other Metro Cities', False, 58),\n",
       " ('City_Thane & Outskirts', False, 52),\n",
       " ('City_Tier II Cities', False, 23),\n",
       " ('Last Notable Activity_Email Bounced', False, 25),\n",
       " ('Last Notable Activity_Email Link Clicked', False, 12),\n",
       " ('Last Notable Activity_Email Marked Spam', False, 54),\n",
       " ('Last Notable Activity_Email Opened', False, 48),\n",
       " ('Last Notable Activity_Email Received', False, 71),\n",
       " ('Last Notable Activity_Form Submitted on Website', False, 55),\n",
       " ('Last Notable Activity_Had a Phone Conversation', False, 29),\n",
       " ('Last Notable Activity_Modified', False, 6),\n",
       " ('Last Notable Activity_Olark Chat Conversation', False, 4),\n",
       " ('Last Notable Activity_Page Visited on Website', False, 22),\n",
       " ('Last Notable Activity_Resubscribed to emails', False, 65),\n",
       " ('Last Notable Activity_SMS Sent', True, 1),\n",
       " ('Last Notable Activity_Unreachable', False, 27),\n",
       " ('Last Notable Activity_Unsubscribed', False, 31),\n",
       " ('Last Notable Activity_View in browser link Clicked', False, 64)]"
      ]
     },
     "execution_count": 458,
     "metadata": {},
     "output_type": "execute_result"
    }
   ],
   "source": [
    "list(zip(X_train.columns, rfe.support_, rfe.ranking_))"
   ]
  },
  {
   "cell_type": "code",
   "execution_count": 459,
   "metadata": {},
   "outputs": [
    {
     "data": {
      "text/plain": [
       "Index(['Do Not Email', 'Lead Origin_Lead Add Form',\n",
       "       'Lead Source_Welingak Website',\n",
       "       'What is your current occupation_Working Professional', 'Tags_Busy',\n",
       "       'Tags_Closed by Horizzon', 'Tags_Lost to EINS', 'Tags_Ringing',\n",
       "       'Tags_Will revert after reading the email', 'Tags_invalid number',\n",
       "       'Tags_switched off', 'Tags_wrong number given', 'Lead Quality_Not Sure',\n",
       "       'Lead Quality_Worst', 'Last Notable Activity_SMS Sent'],\n",
       "      dtype='object')"
      ]
     },
     "execution_count": 459,
     "metadata": {},
     "output_type": "execute_result"
    }
   ],
   "source": [
    "col = X_train.columns[rfe.support_]\n",
    "col"
   ]
  },
  {
   "cell_type": "code",
   "execution_count": 460,
   "metadata": {},
   "outputs": [
    {
     "data": {
      "text/plain": [
       "Index(['Do Not Call', 'TotalVisits', 'Total Time Spent on Website',\n",
       "       'Page Views Per Visit', 'Lead Origin_Landing Page Submission',\n",
       "       'Lead Origin_Lead Import', 'Lead Source_Facebook', 'Lead Source_Google',\n",
       "       'Lead Source_Olark Chat', 'Lead Source_Organic Search',\n",
       "       'Lead Source_Others', 'Lead Source_Reference',\n",
       "       'Lead Source_Referral Sites', 'Last Activity_Email Bounced',\n",
       "       'Last Activity_Email Link Clicked', 'Last Activity_Email Opened',\n",
       "       'Last Activity_Form Submitted on Website',\n",
       "       'Last Activity_Olark Chat Conversation', 'Last Activity_Other_Activity',\n",
       "       'Last Activity_Page Visited on Website', 'Last Activity_SMS Sent',\n",
       "       'Last Activity_Unreachable', 'Last Activity_Unsubscribed',\n",
       "       'Specialization_Business Administration', 'Specialization_E-Business',\n",
       "       'Specialization_E-COMMERCE', 'Specialization_Finance Management',\n",
       "       'Specialization_Healthcare Management',\n",
       "       'Specialization_Hospitality Management',\n",
       "       'Specialization_Human Resource Management',\n",
       "       'Specialization_IT Projects Management',\n",
       "       'Specialization_International Business',\n",
       "       'Specialization_Marketing Management',\n",
       "       'Specialization_Media and Advertising',\n",
       "       'Specialization_Operations Management',\n",
       "       'Specialization_Other_Specialization',\n",
       "       'Specialization_Retail Management',\n",
       "       'Specialization_Rural and Agribusiness',\n",
       "       'Specialization_Services Excellence',\n",
       "       'Specialization_Supply Chain Management',\n",
       "       'Specialization_Travel and Tourism',\n",
       "       'What is your current occupation_Housewife',\n",
       "       'What is your current occupation_Other_Occupation',\n",
       "       'What is your current occupation_Student',\n",
       "       'What is your current occupation_Unemployed',\n",
       "       'Tags_Interested  in full time MBA', 'Tags_Interested in other courses',\n",
       "       'Tags_Not doing further education', 'Tags_Other_Tags',\n",
       "       'Lead Quality_Low in Relevance', 'Lead Quality_Might be',\n",
       "       'City_Other Cities', 'City_Other Cities of Maharashtra',\n",
       "       'City_Other Metro Cities', 'City_Thane & Outskirts',\n",
       "       'City_Tier II Cities', 'Last Notable Activity_Email Bounced',\n",
       "       'Last Notable Activity_Email Link Clicked',\n",
       "       'Last Notable Activity_Email Marked Spam',\n",
       "       'Last Notable Activity_Email Opened',\n",
       "       'Last Notable Activity_Email Received',\n",
       "       'Last Notable Activity_Form Submitted on Website',\n",
       "       'Last Notable Activity_Had a Phone Conversation',\n",
       "       'Last Notable Activity_Modified',\n",
       "       'Last Notable Activity_Olark Chat Conversation',\n",
       "       'Last Notable Activity_Page Visited on Website',\n",
       "       'Last Notable Activity_Resubscribed to emails',\n",
       "       'Last Notable Activity_Unreachable',\n",
       "       'Last Notable Activity_Unsubscribed',\n",
       "       'Last Notable Activity_View in browser link Clicked'],\n",
       "      dtype='object')"
      ]
     },
     "execution_count": 460,
     "metadata": {},
     "output_type": "execute_result"
    }
   ],
   "source": [
    "X_train.columns[~rfe.support_]"
   ]
  },
  {
   "cell_type": "markdown",
   "metadata": {},
   "source": [
    "Assessing the model with StatsModels"
   ]
  },
  {
   "cell_type": "code",
   "execution_count": 461,
   "metadata": {},
   "outputs": [
    {
     "data": {
      "text/html": [
       "<table class=\"simpletable\">\n",
       "<caption>Generalized Linear Model Regression Results</caption>\n",
       "<tr>\n",
       "  <th>Dep. Variable:</th>      <td>Converted</td>    <th>  No. Observations:  </th>  <td>  6351</td>  \n",
       "</tr>\n",
       "<tr>\n",
       "  <th>Model:</th>                 <td>GLM</td>       <th>  Df Residuals:      </th>  <td>  6335</td>  \n",
       "</tr>\n",
       "<tr>\n",
       "  <th>Model Family:</th>       <td>Binomial</td>     <th>  Df Model:          </th>  <td>    15</td>  \n",
       "</tr>\n",
       "<tr>\n",
       "  <th>Link Function:</th>        <td>logit</td>      <th>  Scale:             </th> <td>  1.0000</td> \n",
       "</tr>\n",
       "<tr>\n",
       "  <th>Method:</th>               <td>IRLS</td>       <th>  Log-Likelihood:    </th> <td> -1580.6</td> \n",
       "</tr>\n",
       "<tr>\n",
       "  <th>Date:</th>           <td>Sat, 16 Nov 2019</td> <th>  Deviance:          </th> <td>  3161.3</td> \n",
       "</tr>\n",
       "<tr>\n",
       "  <th>Time:</th>               <td>21:02:13</td>     <th>  Pearson chi2:      </th> <td>3.11e+04</td> \n",
       "</tr>\n",
       "<tr>\n",
       "  <th>No. Iterations:</th>        <td>24</td>        <th>  Covariance Type:   </th> <td>nonrobust</td>\n",
       "</tr>\n",
       "</table>\n",
       "<table class=\"simpletable\">\n",
       "<tr>\n",
       "                            <td></td>                              <th>coef</th>     <th>std err</th>      <th>z</th>      <th>P>|z|</th>  <th>[0.025</th>    <th>0.975]</th>  \n",
       "</tr>\n",
       "<tr>\n",
       "  <th>const</th>                                                <td>   -1.8547</td> <td>    0.215</td> <td>   -8.636</td> <td> 0.000</td> <td>   -2.276</td> <td>   -1.434</td>\n",
       "</tr>\n",
       "<tr>\n",
       "  <th>Do Not Email</th>                                         <td>   -1.3106</td> <td>    0.213</td> <td>   -6.154</td> <td> 0.000</td> <td>   -1.728</td> <td>   -0.893</td>\n",
       "</tr>\n",
       "<tr>\n",
       "  <th>Lead Origin_Lead Add Form</th>                            <td>    1.0452</td> <td>    0.360</td> <td>    2.900</td> <td> 0.004</td> <td>    0.339</td> <td>    1.752</td>\n",
       "</tr>\n",
       "<tr>\n",
       "  <th>Lead Source_Welingak Website</th>                         <td>    3.4638</td> <td>    0.817</td> <td>    4.238</td> <td> 0.000</td> <td>    1.862</td> <td>    5.066</td>\n",
       "</tr>\n",
       "<tr>\n",
       "  <th>What is your current occupation_Working Professional</th> <td>    1.2843</td> <td>    0.287</td> <td>    4.476</td> <td> 0.000</td> <td>    0.722</td> <td>    1.847</td>\n",
       "</tr>\n",
       "<tr>\n",
       "  <th>Tags_Busy</th>                                            <td>    3.5477</td> <td>    0.332</td> <td>   10.680</td> <td> 0.000</td> <td>    2.897</td> <td>    4.199</td>\n",
       "</tr>\n",
       "<tr>\n",
       "  <th>Tags_Closed by Horizzon</th>                              <td>    7.7377</td> <td>    0.762</td> <td>   10.152</td> <td> 0.000</td> <td>    6.244</td> <td>    9.231</td>\n",
       "</tr>\n",
       "<tr>\n",
       "  <th>Tags_Lost to EINS</th>                                    <td>    8.9540</td> <td>    0.753</td> <td>   11.887</td> <td> 0.000</td> <td>    7.478</td> <td>   10.430</td>\n",
       "</tr>\n",
       "<tr>\n",
       "  <th>Tags_Ringing</th>                                         <td>   -1.9696</td> <td>    0.340</td> <td>   -5.800</td> <td> 0.000</td> <td>   -2.635</td> <td>   -1.304</td>\n",
       "</tr>\n",
       "<tr>\n",
       "  <th>Tags_Will revert after reading the email</th>             <td>    3.7332</td> <td>    0.228</td> <td>   16.340</td> <td> 0.000</td> <td>    3.285</td> <td>    4.181</td>\n",
       "</tr>\n",
       "<tr>\n",
       "  <th>Tags_invalid number</th>                                  <td>  -23.4649</td> <td> 2.21e+04</td> <td>   -0.001</td> <td> 0.999</td> <td>-4.34e+04</td> <td> 4.33e+04</td>\n",
       "</tr>\n",
       "<tr>\n",
       "  <th>Tags_switched off</th>                                    <td>   -2.5711</td> <td>    0.589</td> <td>   -4.367</td> <td> 0.000</td> <td>   -3.725</td> <td>   -1.417</td>\n",
       "</tr>\n",
       "<tr>\n",
       "  <th>Tags_wrong number given</th>                              <td>  -23.0779</td> <td> 3.17e+04</td> <td>   -0.001</td> <td> 0.999</td> <td>-6.21e+04</td> <td>  6.2e+04</td>\n",
       "</tr>\n",
       "<tr>\n",
       "  <th>Lead Quality_Not Sure</th>                                <td>   -3.3496</td> <td>    0.129</td> <td>  -26.033</td> <td> 0.000</td> <td>   -3.602</td> <td>   -3.097</td>\n",
       "</tr>\n",
       "<tr>\n",
       "  <th>Lead Quality_Worst</th>                                   <td>   -3.7672</td> <td>    0.848</td> <td>   -4.445</td> <td> 0.000</td> <td>   -5.428</td> <td>   -2.106</td>\n",
       "</tr>\n",
       "<tr>\n",
       "  <th>Last Notable Activity_SMS Sent</th>                       <td>    2.7931</td> <td>    0.122</td> <td>   22.838</td> <td> 0.000</td> <td>    2.553</td> <td>    3.033</td>\n",
       "</tr>\n",
       "</table>"
      ],
      "text/plain": [
       "<class 'statsmodels.iolib.summary.Summary'>\n",
       "\"\"\"\n",
       "                 Generalized Linear Model Regression Results                  \n",
       "==============================================================================\n",
       "Dep. Variable:              Converted   No. Observations:                 6351\n",
       "Model:                            GLM   Df Residuals:                     6335\n",
       "Model Family:                Binomial   Df Model:                           15\n",
       "Link Function:                  logit   Scale:                          1.0000\n",
       "Method:                          IRLS   Log-Likelihood:                -1580.6\n",
       "Date:                Sat, 16 Nov 2019   Deviance:                       3161.3\n",
       "Time:                        21:02:13   Pearson chi2:                 3.11e+04\n",
       "No. Iterations:                    24   Covariance Type:             nonrobust\n",
       "========================================================================================================================\n",
       "                                                           coef    std err          z      P>|z|      [0.025      0.975]\n",
       "------------------------------------------------------------------------------------------------------------------------\n",
       "const                                                   -1.8547      0.215     -8.636      0.000      -2.276      -1.434\n",
       "Do Not Email                                            -1.3106      0.213     -6.154      0.000      -1.728      -0.893\n",
       "Lead Origin_Lead Add Form                                1.0452      0.360      2.900      0.004       0.339       1.752\n",
       "Lead Source_Welingak Website                             3.4638      0.817      4.238      0.000       1.862       5.066\n",
       "What is your current occupation_Working Professional     1.2843      0.287      4.476      0.000       0.722       1.847\n",
       "Tags_Busy                                                3.5477      0.332     10.680      0.000       2.897       4.199\n",
       "Tags_Closed by Horizzon                                  7.7377      0.762     10.152      0.000       6.244       9.231\n",
       "Tags_Lost to EINS                                        8.9540      0.753     11.887      0.000       7.478      10.430\n",
       "Tags_Ringing                                            -1.9696      0.340     -5.800      0.000      -2.635      -1.304\n",
       "Tags_Will revert after reading the email                 3.7332      0.228     16.340      0.000       3.285       4.181\n",
       "Tags_invalid number                                    -23.4649   2.21e+04     -0.001      0.999   -4.34e+04    4.33e+04\n",
       "Tags_switched off                                       -2.5711      0.589     -4.367      0.000      -3.725      -1.417\n",
       "Tags_wrong number given                                -23.0779   3.17e+04     -0.001      0.999   -6.21e+04     6.2e+04\n",
       "Lead Quality_Not Sure                                   -3.3496      0.129    -26.033      0.000      -3.602      -3.097\n",
       "Lead Quality_Worst                                      -3.7672      0.848     -4.445      0.000      -5.428      -2.106\n",
       "Last Notable Activity_SMS Sent                           2.7931      0.122     22.838      0.000       2.553       3.033\n",
       "========================================================================================================================\n",
       "\"\"\""
      ]
     },
     "execution_count": 461,
     "metadata": {},
     "output_type": "execute_result"
    }
   ],
   "source": [
    "X_train_sm = sm.add_constant(X_train[col])\n",
    "logm2 = sm.GLM(y_train,X_train_sm, family = sm.families.Binomial())\n",
    "res = logm2.fit()\n",
    "res.summary()"
   ]
  },
  {
   "cell_type": "code",
   "execution_count": 462,
   "metadata": {},
   "outputs": [],
   "source": [
    "col1 = col.drop('Tags_invalid number',1)"
   ]
  },
  {
   "cell_type": "code",
   "execution_count": 463,
   "metadata": {},
   "outputs": [
    {
     "data": {
      "text/plain": [
       "Index(['Do Not Email', 'Lead Origin_Lead Add Form',\n",
       "       'Lead Source_Welingak Website',\n",
       "       'What is your current occupation_Working Professional', 'Tags_Busy',\n",
       "       'Tags_Closed by Horizzon', 'Tags_Lost to EINS', 'Tags_Ringing',\n",
       "       'Tags_Will revert after reading the email', 'Tags_switched off',\n",
       "       'Tags_wrong number given', 'Lead Quality_Not Sure',\n",
       "       'Lead Quality_Worst', 'Last Notable Activity_SMS Sent'],\n",
       "      dtype='object')"
      ]
     },
     "execution_count": 463,
     "metadata": {},
     "output_type": "execute_result"
    }
   ],
   "source": [
    "col1"
   ]
  },
  {
   "cell_type": "code",
   "execution_count": 464,
   "metadata": {},
   "outputs": [
    {
     "data": {
      "text/html": [
       "<table class=\"simpletable\">\n",
       "<caption>Generalized Linear Model Regression Results</caption>\n",
       "<tr>\n",
       "  <th>Dep. Variable:</th>      <td>Converted</td>    <th>  No. Observations:  </th>  <td>  6351</td>  \n",
       "</tr>\n",
       "<tr>\n",
       "  <th>Model:</th>                 <td>GLM</td>       <th>  Df Residuals:      </th>  <td>  6336</td>  \n",
       "</tr>\n",
       "<tr>\n",
       "  <th>Model Family:</th>       <td>Binomial</td>     <th>  Df Model:          </th>  <td>    14</td>  \n",
       "</tr>\n",
       "<tr>\n",
       "  <th>Link Function:</th>        <td>logit</td>      <th>  Scale:             </th> <td>  1.0000</td> \n",
       "</tr>\n",
       "<tr>\n",
       "  <th>Method:</th>               <td>IRLS</td>       <th>  Log-Likelihood:    </th> <td> -1586.7</td> \n",
       "</tr>\n",
       "<tr>\n",
       "  <th>Date:</th>           <td>Sat, 16 Nov 2019</td> <th>  Deviance:          </th> <td>  3173.3</td> \n",
       "</tr>\n",
       "<tr>\n",
       "  <th>Time:</th>               <td>21:02:13</td>     <th>  Pearson chi2:      </th> <td>3.07e+04</td> \n",
       "</tr>\n",
       "<tr>\n",
       "  <th>No. Iterations:</th>        <td>22</td>        <th>  Covariance Type:   </th> <td>nonrobust</td>\n",
       "</tr>\n",
       "</table>\n",
       "<table class=\"simpletable\">\n",
       "<tr>\n",
       "                            <td></td>                              <th>coef</th>     <th>std err</th>      <th>z</th>      <th>P>|z|</th>  <th>[0.025</th>    <th>0.975]</th>  \n",
       "</tr>\n",
       "<tr>\n",
       "  <th>const</th>                                                <td>   -2.0195</td> <td>    0.217</td> <td>   -9.308</td> <td> 0.000</td> <td>   -2.445</td> <td>   -1.594</td>\n",
       "</tr>\n",
       "<tr>\n",
       "  <th>Do Not Email</th>                                         <td>   -1.3018</td> <td>    0.212</td> <td>   -6.130</td> <td> 0.000</td> <td>   -1.718</td> <td>   -0.886</td>\n",
       "</tr>\n",
       "<tr>\n",
       "  <th>Lead Origin_Lead Add Form</th>                            <td>    1.0769</td> <td>    0.362</td> <td>    2.974</td> <td> 0.003</td> <td>    0.367</td> <td>    1.787</td>\n",
       "</tr>\n",
       "<tr>\n",
       "  <th>Lead Source_Welingak Website</th>                         <td>    3.4268</td> <td>    0.818</td> <td>    4.190</td> <td> 0.000</td> <td>    1.824</td> <td>    5.030</td>\n",
       "</tr>\n",
       "<tr>\n",
       "  <th>What is your current occupation_Working Professional</th> <td>    1.3240</td> <td>    0.290</td> <td>    4.567</td> <td> 0.000</td> <td>    0.756</td> <td>    1.892</td>\n",
       "</tr>\n",
       "<tr>\n",
       "  <th>Tags_Busy</th>                                            <td>    3.7300</td> <td>    0.331</td> <td>   11.270</td> <td> 0.000</td> <td>    3.081</td> <td>    4.379</td>\n",
       "</tr>\n",
       "<tr>\n",
       "  <th>Tags_Closed by Horizzon</th>                              <td>    7.8904</td> <td>    0.763</td> <td>   10.345</td> <td> 0.000</td> <td>    6.396</td> <td>    9.385</td>\n",
       "</tr>\n",
       "<tr>\n",
       "  <th>Tags_Lost to EINS</th>                                    <td>    9.1124</td> <td>    0.754</td> <td>   12.086</td> <td> 0.000</td> <td>    7.635</td> <td>   10.590</td>\n",
       "</tr>\n",
       "<tr>\n",
       "  <th>Tags_Ringing</th>                                         <td>   -1.7713</td> <td>    0.338</td> <td>   -5.244</td> <td> 0.000</td> <td>   -2.433</td> <td>   -1.109</td>\n",
       "</tr>\n",
       "<tr>\n",
       "  <th>Tags_Will revert after reading the email</th>             <td>    3.8970</td> <td>    0.230</td> <td>   16.954</td> <td> 0.000</td> <td>    3.446</td> <td>    4.348</td>\n",
       "</tr>\n",
       "<tr>\n",
       "  <th>Tags_switched off</th>                                    <td>   -2.3666</td> <td>    0.588</td> <td>   -4.028</td> <td> 0.000</td> <td>   -3.518</td> <td>   -1.215</td>\n",
       "</tr>\n",
       "<tr>\n",
       "  <th>Tags_wrong number given</th>                              <td>  -20.8825</td> <td> 1.17e+04</td> <td>   -0.002</td> <td> 0.999</td> <td>-2.29e+04</td> <td> 2.28e+04</td>\n",
       "</tr>\n",
       "<tr>\n",
       "  <th>Lead Quality_Not Sure</th>                                <td>   -3.3417</td> <td>    0.128</td> <td>  -26.020</td> <td> 0.000</td> <td>   -3.593</td> <td>   -3.090</td>\n",
       "</tr>\n",
       "<tr>\n",
       "  <th>Lead Quality_Worst</th>                                   <td>   -3.7822</td> <td>    0.848</td> <td>   -4.462</td> <td> 0.000</td> <td>   -5.444</td> <td>   -2.121</td>\n",
       "</tr>\n",
       "<tr>\n",
       "  <th>Last Notable Activity_SMS Sent</th>                       <td>    2.7503</td> <td>    0.120</td> <td>   22.841</td> <td> 0.000</td> <td>    2.514</td> <td>    2.986</td>\n",
       "</tr>\n",
       "</table>"
      ],
      "text/plain": [
       "<class 'statsmodels.iolib.summary.Summary'>\n",
       "\"\"\"\n",
       "                 Generalized Linear Model Regression Results                  \n",
       "==============================================================================\n",
       "Dep. Variable:              Converted   No. Observations:                 6351\n",
       "Model:                            GLM   Df Residuals:                     6336\n",
       "Model Family:                Binomial   Df Model:                           14\n",
       "Link Function:                  logit   Scale:                          1.0000\n",
       "Method:                          IRLS   Log-Likelihood:                -1586.7\n",
       "Date:                Sat, 16 Nov 2019   Deviance:                       3173.3\n",
       "Time:                        21:02:13   Pearson chi2:                 3.07e+04\n",
       "No. Iterations:                    22   Covariance Type:             nonrobust\n",
       "========================================================================================================================\n",
       "                                                           coef    std err          z      P>|z|      [0.025      0.975]\n",
       "------------------------------------------------------------------------------------------------------------------------\n",
       "const                                                   -2.0195      0.217     -9.308      0.000      -2.445      -1.594\n",
       "Do Not Email                                            -1.3018      0.212     -6.130      0.000      -1.718      -0.886\n",
       "Lead Origin_Lead Add Form                                1.0769      0.362      2.974      0.003       0.367       1.787\n",
       "Lead Source_Welingak Website                             3.4268      0.818      4.190      0.000       1.824       5.030\n",
       "What is your current occupation_Working Professional     1.3240      0.290      4.567      0.000       0.756       1.892\n",
       "Tags_Busy                                                3.7300      0.331     11.270      0.000       3.081       4.379\n",
       "Tags_Closed by Horizzon                                  7.8904      0.763     10.345      0.000       6.396       9.385\n",
       "Tags_Lost to EINS                                        9.1124      0.754     12.086      0.000       7.635      10.590\n",
       "Tags_Ringing                                            -1.7713      0.338     -5.244      0.000      -2.433      -1.109\n",
       "Tags_Will revert after reading the email                 3.8970      0.230     16.954      0.000       3.446       4.348\n",
       "Tags_switched off                                       -2.3666      0.588     -4.028      0.000      -3.518      -1.215\n",
       "Tags_wrong number given                                -20.8825   1.17e+04     -0.002      0.999   -2.29e+04    2.28e+04\n",
       "Lead Quality_Not Sure                                   -3.3417      0.128    -26.020      0.000      -3.593      -3.090\n",
       "Lead Quality_Worst                                      -3.7822      0.848     -4.462      0.000      -5.444      -2.121\n",
       "Last Notable Activity_SMS Sent                           2.7503      0.120     22.841      0.000       2.514       2.986\n",
       "========================================================================================================================\n",
       "\"\"\""
      ]
     },
     "execution_count": 464,
     "metadata": {},
     "output_type": "execute_result"
    }
   ],
   "source": [
    "X_train_sm = sm.add_constant(X_train[col1])\n",
    "logm2 = sm.GLM(y_train,X_train_sm, family = sm.families.Binomial())\n",
    "res = logm2.fit()\n",
    "res.summary()"
   ]
  },
  {
   "cell_type": "code",
   "execution_count": 465,
   "metadata": {},
   "outputs": [],
   "source": [
    "col2 = col1.drop('Tags_wrong number given',1)"
   ]
  },
  {
   "cell_type": "code",
   "execution_count": 466,
   "metadata": {},
   "outputs": [
    {
     "data": {
      "text/plain": [
       "Index(['Do Not Email', 'Lead Origin_Lead Add Form',\n",
       "       'Lead Source_Welingak Website',\n",
       "       'What is your current occupation_Working Professional', 'Tags_Busy',\n",
       "       'Tags_Closed by Horizzon', 'Tags_Lost to EINS', 'Tags_Ringing',\n",
       "       'Tags_Will revert after reading the email', 'Tags_switched off',\n",
       "       'Lead Quality_Not Sure', 'Lead Quality_Worst',\n",
       "       'Last Notable Activity_SMS Sent'],\n",
       "      dtype='object')"
      ]
     },
     "execution_count": 466,
     "metadata": {},
     "output_type": "execute_result"
    }
   ],
   "source": [
    "col2"
   ]
  },
  {
   "cell_type": "code",
   "execution_count": 467,
   "metadata": {},
   "outputs": [
    {
     "data": {
      "text/html": [
       "<table class=\"simpletable\">\n",
       "<caption>Generalized Linear Model Regression Results</caption>\n",
       "<tr>\n",
       "  <th>Dep. Variable:</th>      <td>Converted</td>    <th>  No. Observations:  </th>  <td>  6351</td>  \n",
       "</tr>\n",
       "<tr>\n",
       "  <th>Model:</th>                 <td>GLM</td>       <th>  Df Residuals:      </th>  <td>  6337</td>  \n",
       "</tr>\n",
       "<tr>\n",
       "  <th>Model Family:</th>       <td>Binomial</td>     <th>  Df Model:          </th>  <td>    13</td>  \n",
       "</tr>\n",
       "<tr>\n",
       "  <th>Link Function:</th>        <td>logit</td>      <th>  Scale:             </th> <td>  1.0000</td> \n",
       "</tr>\n",
       "<tr>\n",
       "  <th>Method:</th>               <td>IRLS</td>       <th>  Log-Likelihood:    </th> <td> -1588.8</td> \n",
       "</tr>\n",
       "<tr>\n",
       "  <th>Date:</th>           <td>Sat, 16 Nov 2019</td> <th>  Deviance:          </th> <td>  3177.6</td> \n",
       "</tr>\n",
       "<tr>\n",
       "  <th>Time:</th>               <td>21:02:14</td>     <th>  Pearson chi2:      </th> <td>3.08e+04</td> \n",
       "</tr>\n",
       "<tr>\n",
       "  <th>No. Iterations:</th>         <td>8</td>        <th>  Covariance Type:   </th> <td>nonrobust</td>\n",
       "</tr>\n",
       "</table>\n",
       "<table class=\"simpletable\">\n",
       "<tr>\n",
       "                            <td></td>                              <th>coef</th>     <th>std err</th>      <th>z</th>      <th>P>|z|</th>  <th>[0.025</th>    <th>0.975]</th>  \n",
       "</tr>\n",
       "<tr>\n",
       "  <th>const</th>                                                <td>   -2.0888</td> <td>    0.216</td> <td>   -9.654</td> <td> 0.000</td> <td>   -2.513</td> <td>   -1.665</td>\n",
       "</tr>\n",
       "<tr>\n",
       "  <th>Do Not Email</th>                                         <td>   -1.3012</td> <td>    0.212</td> <td>   -6.134</td> <td> 0.000</td> <td>   -1.717</td> <td>   -0.885</td>\n",
       "</tr>\n",
       "<tr>\n",
       "  <th>Lead Origin_Lead Add Form</th>                            <td>    1.0894</td> <td>    0.363</td> <td>    3.001</td> <td> 0.003</td> <td>    0.378</td> <td>    1.801</td>\n",
       "</tr>\n",
       "<tr>\n",
       "  <th>Lead Source_Welingak Website</th>                         <td>    3.4138</td> <td>    0.818</td> <td>    4.173</td> <td> 0.000</td> <td>    1.810</td> <td>    5.017</td>\n",
       "</tr>\n",
       "<tr>\n",
       "  <th>What is your current occupation_Working Professional</th> <td>    1.3403</td> <td>    0.291</td> <td>    4.602</td> <td> 0.000</td> <td>    0.769</td> <td>    1.911</td>\n",
       "</tr>\n",
       "<tr>\n",
       "  <th>Tags_Busy</th>                                            <td>    3.8040</td> <td>    0.330</td> <td>   11.532</td> <td> 0.000</td> <td>    3.157</td> <td>    4.450</td>\n",
       "</tr>\n",
       "<tr>\n",
       "  <th>Tags_Closed by Horizzon</th>                              <td>    7.9562</td> <td>    0.763</td> <td>   10.433</td> <td> 0.000</td> <td>    6.461</td> <td>    9.451</td>\n",
       "</tr>\n",
       "<tr>\n",
       "  <th>Tags_Lost to EINS</th>                                    <td>    9.1785</td> <td>    0.754</td> <td>   12.177</td> <td> 0.000</td> <td>    7.701</td> <td>   10.656</td>\n",
       "</tr>\n",
       "<tr>\n",
       "  <th>Tags_Ringing</th>                                         <td>   -1.6947</td> <td>    0.337</td> <td>   -5.036</td> <td> 0.000</td> <td>   -2.354</td> <td>   -1.035</td>\n",
       "</tr>\n",
       "<tr>\n",
       "  <th>Tags_Will revert after reading the email</th>             <td>    3.9665</td> <td>    0.229</td> <td>   17.311</td> <td> 0.000</td> <td>    3.517</td> <td>    4.416</td>\n",
       "</tr>\n",
       "<tr>\n",
       "  <th>Tags_switched off</th>                                    <td>   -2.2882</td> <td>    0.587</td> <td>   -3.900</td> <td> 0.000</td> <td>   -3.438</td> <td>   -1.138</td>\n",
       "</tr>\n",
       "<tr>\n",
       "  <th>Lead Quality_Not Sure</th>                                <td>   -3.3406</td> <td>    0.128</td> <td>  -26.026</td> <td> 0.000</td> <td>   -3.592</td> <td>   -3.089</td>\n",
       "</tr>\n",
       "<tr>\n",
       "  <th>Lead Quality_Worst</th>                                   <td>   -3.7624</td> <td>    0.850</td> <td>   -4.426</td> <td> 0.000</td> <td>   -5.428</td> <td>   -2.096</td>\n",
       "</tr>\n",
       "<tr>\n",
       "  <th>Last Notable Activity_SMS Sent</th>                       <td>    2.7406</td> <td>    0.120</td> <td>   22.847</td> <td> 0.000</td> <td>    2.506</td> <td>    2.976</td>\n",
       "</tr>\n",
       "</table>"
      ],
      "text/plain": [
       "<class 'statsmodels.iolib.summary.Summary'>\n",
       "\"\"\"\n",
       "                 Generalized Linear Model Regression Results                  \n",
       "==============================================================================\n",
       "Dep. Variable:              Converted   No. Observations:                 6351\n",
       "Model:                            GLM   Df Residuals:                     6337\n",
       "Model Family:                Binomial   Df Model:                           13\n",
       "Link Function:                  logit   Scale:                          1.0000\n",
       "Method:                          IRLS   Log-Likelihood:                -1588.8\n",
       "Date:                Sat, 16 Nov 2019   Deviance:                       3177.6\n",
       "Time:                        21:02:14   Pearson chi2:                 3.08e+04\n",
       "No. Iterations:                     8   Covariance Type:             nonrobust\n",
       "========================================================================================================================\n",
       "                                                           coef    std err          z      P>|z|      [0.025      0.975]\n",
       "------------------------------------------------------------------------------------------------------------------------\n",
       "const                                                   -2.0888      0.216     -9.654      0.000      -2.513      -1.665\n",
       "Do Not Email                                            -1.3012      0.212     -6.134      0.000      -1.717      -0.885\n",
       "Lead Origin_Lead Add Form                                1.0894      0.363      3.001      0.003       0.378       1.801\n",
       "Lead Source_Welingak Website                             3.4138      0.818      4.173      0.000       1.810       5.017\n",
       "What is your current occupation_Working Professional     1.3403      0.291      4.602      0.000       0.769       1.911\n",
       "Tags_Busy                                                3.8040      0.330     11.532      0.000       3.157       4.450\n",
       "Tags_Closed by Horizzon                                  7.9562      0.763     10.433      0.000       6.461       9.451\n",
       "Tags_Lost to EINS                                        9.1785      0.754     12.177      0.000       7.701      10.656\n",
       "Tags_Ringing                                            -1.6947      0.337     -5.036      0.000      -2.354      -1.035\n",
       "Tags_Will revert after reading the email                 3.9665      0.229     17.311      0.000       3.517       4.416\n",
       "Tags_switched off                                       -2.2882      0.587     -3.900      0.000      -3.438      -1.138\n",
       "Lead Quality_Not Sure                                   -3.3406      0.128    -26.026      0.000      -3.592      -3.089\n",
       "Lead Quality_Worst                                      -3.7624      0.850     -4.426      0.000      -5.428      -2.096\n",
       "Last Notable Activity_SMS Sent                           2.7406      0.120     22.847      0.000       2.506       2.976\n",
       "========================================================================================================================\n",
       "\"\"\""
      ]
     },
     "execution_count": 467,
     "metadata": {},
     "output_type": "execute_result"
    }
   ],
   "source": [
    "X_train_sm = sm.add_constant(X_train[col2])\n",
    "logm2 = sm.GLM(y_train,X_train_sm, family = sm.families.Binomial())\n",
    "res = logm2.fit()\n",
    "res.summary()"
   ]
  },
  {
   "cell_type": "code",
   "execution_count": 468,
   "metadata": {},
   "outputs": [
    {
     "data": {
      "text/plain": [
       "3009    0.188037\n",
       "1012    0.194070\n",
       "9226    0.000805\n",
       "4750    0.782077\n",
       "7987    0.977003\n",
       "1281    0.990228\n",
       "2880    0.188037\n",
       "4971    0.753104\n",
       "7536    0.867357\n",
       "1248    0.000805\n",
       "dtype: float64"
      ]
     },
     "execution_count": 468,
     "metadata": {},
     "output_type": "execute_result"
    }
   ],
   "source": [
    "# Getting the predicted values on the train set\n",
    "y_train_pred = res.predict(X_train_sm)\n",
    "y_train_pred[:10]"
   ]
  },
  {
   "cell_type": "code",
   "execution_count": 469,
   "metadata": {},
   "outputs": [
    {
     "data": {
      "text/plain": [
       "array([1.88037158e-01, 1.94070077e-01, 8.04879357e-04, 7.82076694e-01,\n",
       "       9.77003470e-01, 9.90227993e-01, 1.88037158e-01, 7.53103755e-01,\n",
       "       8.67356930e-01, 8.04879357e-04])"
      ]
     },
     "execution_count": 469,
     "metadata": {},
     "output_type": "execute_result"
    }
   ],
   "source": [
    "y_train_pred = y_train_pred.values.reshape(-1)\n",
    "y_train_pred[:10]"
   ]
  },
  {
   "cell_type": "markdown",
   "metadata": {},
   "source": [
    "Creating a dataframe with the actual churn flag and the predicted probabilities"
   ]
  },
  {
   "cell_type": "code",
   "execution_count": 470,
   "metadata": {},
   "outputs": [
    {
     "data": {
      "text/html": [
       "<div>\n",
       "<style scoped>\n",
       "    .dataframe tbody tr th:only-of-type {\n",
       "        vertical-align: middle;\n",
       "    }\n",
       "\n",
       "    .dataframe tbody tr th {\n",
       "        vertical-align: top;\n",
       "    }\n",
       "\n",
       "    .dataframe thead th {\n",
       "        text-align: right;\n",
       "    }\n",
       "</style>\n",
       "<table border=\"1\" class=\"dataframe\">\n",
       "  <thead>\n",
       "    <tr style=\"text-align: right;\">\n",
       "      <th></th>\n",
       "      <th>Converted</th>\n",
       "      <th>Converted_prob</th>\n",
       "      <th>Prospect ID</th>\n",
       "    </tr>\n",
       "  </thead>\n",
       "  <tbody>\n",
       "    <tr>\n",
       "      <th>0</th>\n",
       "      <td>0</td>\n",
       "      <td>0.188037</td>\n",
       "      <td>3009</td>\n",
       "    </tr>\n",
       "    <tr>\n",
       "      <th>1</th>\n",
       "      <td>0</td>\n",
       "      <td>0.194070</td>\n",
       "      <td>1012</td>\n",
       "    </tr>\n",
       "    <tr>\n",
       "      <th>2</th>\n",
       "      <td>0</td>\n",
       "      <td>0.000805</td>\n",
       "      <td>9226</td>\n",
       "    </tr>\n",
       "    <tr>\n",
       "      <th>3</th>\n",
       "      <td>1</td>\n",
       "      <td>0.782077</td>\n",
       "      <td>4750</td>\n",
       "    </tr>\n",
       "    <tr>\n",
       "      <th>4</th>\n",
       "      <td>1</td>\n",
       "      <td>0.977003</td>\n",
       "      <td>7987</td>\n",
       "    </tr>\n",
       "  </tbody>\n",
       "</table>\n",
       "</div>"
      ],
      "text/plain": [
       "   Converted  Converted_prob  Prospect ID\n",
       "0          0        0.188037         3009\n",
       "1          0        0.194070         1012\n",
       "2          0        0.000805         9226\n",
       "3          1        0.782077         4750\n",
       "4          1        0.977003         7987"
      ]
     },
     "execution_count": 470,
     "metadata": {},
     "output_type": "execute_result"
    }
   ],
   "source": [
    "y_train_pred_final = pd.DataFrame({'Converted':y_train.values, 'Converted_prob':y_train_pred})\n",
    "y_train_pred_final['Prospect ID'] = y_train.index\n",
    "y_train_pred_final.head()"
   ]
  },
  {
   "cell_type": "markdown",
   "metadata": {},
   "source": [
    "Creating new column 'predicted' with 1 if Churn_Prob > 0.5 else 0"
   ]
  },
  {
   "cell_type": "code",
   "execution_count": 471,
   "metadata": {},
   "outputs": [
    {
     "data": {
      "text/html": [
       "<div>\n",
       "<style scoped>\n",
       "    .dataframe tbody tr th:only-of-type {\n",
       "        vertical-align: middle;\n",
       "    }\n",
       "\n",
       "    .dataframe tbody tr th {\n",
       "        vertical-align: top;\n",
       "    }\n",
       "\n",
       "    .dataframe thead th {\n",
       "        text-align: right;\n",
       "    }\n",
       "</style>\n",
       "<table border=\"1\" class=\"dataframe\">\n",
       "  <thead>\n",
       "    <tr style=\"text-align: right;\">\n",
       "      <th></th>\n",
       "      <th>Converted</th>\n",
       "      <th>Converted_prob</th>\n",
       "      <th>Prospect ID</th>\n",
       "      <th>predicted</th>\n",
       "    </tr>\n",
       "  </thead>\n",
       "  <tbody>\n",
       "    <tr>\n",
       "      <th>0</th>\n",
       "      <td>0</td>\n",
       "      <td>0.188037</td>\n",
       "      <td>3009</td>\n",
       "      <td>0</td>\n",
       "    </tr>\n",
       "    <tr>\n",
       "      <th>1</th>\n",
       "      <td>0</td>\n",
       "      <td>0.194070</td>\n",
       "      <td>1012</td>\n",
       "      <td>0</td>\n",
       "    </tr>\n",
       "    <tr>\n",
       "      <th>2</th>\n",
       "      <td>0</td>\n",
       "      <td>0.000805</td>\n",
       "      <td>9226</td>\n",
       "      <td>0</td>\n",
       "    </tr>\n",
       "    <tr>\n",
       "      <th>3</th>\n",
       "      <td>1</td>\n",
       "      <td>0.782077</td>\n",
       "      <td>4750</td>\n",
       "      <td>1</td>\n",
       "    </tr>\n",
       "    <tr>\n",
       "      <th>4</th>\n",
       "      <td>1</td>\n",
       "      <td>0.977003</td>\n",
       "      <td>7987</td>\n",
       "      <td>1</td>\n",
       "    </tr>\n",
       "  </tbody>\n",
       "</table>\n",
       "</div>"
      ],
      "text/plain": [
       "   Converted  Converted_prob  Prospect ID  predicted\n",
       "0          0        0.188037         3009          0\n",
       "1          0        0.194070         1012          0\n",
       "2          0        0.000805         9226          0\n",
       "3          1        0.782077         4750          1\n",
       "4          1        0.977003         7987          1"
      ]
     },
     "execution_count": 471,
     "metadata": {},
     "output_type": "execute_result"
    }
   ],
   "source": [
    "y_train_pred_final['predicted'] = y_train_pred_final.Converted_prob.map(lambda x: 1 if x > 0.5 else 0)\n",
    "\n",
    "# Let's see the head\n",
    "y_train_pred_final.head()"
   ]
  },
  {
   "cell_type": "code",
   "execution_count": 472,
   "metadata": {},
   "outputs": [
    {
     "name": "stdout",
     "output_type": "stream",
     "text": [
      "[[3756  149]\n",
      " [ 363 2083]]\n"
     ]
    }
   ],
   "source": [
    "from sklearn import metrics\n",
    "\n",
    "# Confusion matrix \n",
    "confusion = metrics.confusion_matrix(y_train_pred_final.Converted, y_train_pred_final.predicted )\n",
    "print(confusion)"
   ]
  },
  {
   "cell_type": "code",
   "execution_count": 473,
   "metadata": {},
   "outputs": [
    {
     "name": "stdout",
     "output_type": "stream",
     "text": [
      "0.9193827743662415\n"
     ]
    }
   ],
   "source": [
    "# Let's check the overall accuracy.\n",
    "print(metrics.accuracy_score(y_train_pred_final.Converted, y_train_pred_final.predicted))"
   ]
  },
  {
   "cell_type": "markdown",
   "metadata": {},
   "source": [
    "Overall Accuracy is good "
   ]
  },
  {
   "cell_type": "markdown",
   "metadata": {},
   "source": [
    "#### Checking VIFs"
   ]
  },
  {
   "cell_type": "code",
   "execution_count": 474,
   "metadata": {},
   "outputs": [],
   "source": [
    "# Check for the VIF values of the feature variables. \n",
    "from statsmodels.stats.outliers_influence import variance_inflation_factor"
   ]
  },
  {
   "cell_type": "code",
   "execution_count": 475,
   "metadata": {},
   "outputs": [
    {
     "data": {
      "text/html": [
       "<div>\n",
       "<style scoped>\n",
       "    .dataframe tbody tr th:only-of-type {\n",
       "        vertical-align: middle;\n",
       "    }\n",
       "\n",
       "    .dataframe tbody tr th {\n",
       "        vertical-align: top;\n",
       "    }\n",
       "\n",
       "    .dataframe thead th {\n",
       "        text-align: right;\n",
       "    }\n",
       "</style>\n",
       "<table border=\"1\" class=\"dataframe\">\n",
       "  <thead>\n",
       "    <tr style=\"text-align: right;\">\n",
       "      <th></th>\n",
       "      <th>Features</th>\n",
       "      <th>VIF</th>\n",
       "    </tr>\n",
       "  </thead>\n",
       "  <tbody>\n",
       "    <tr>\n",
       "      <th>8</th>\n",
       "      <td>Tags_Will revert after reading the email</td>\n",
       "      <td>2.89</td>\n",
       "    </tr>\n",
       "    <tr>\n",
       "      <th>12</th>\n",
       "      <td>Last Notable Activity_SMS Sent</td>\n",
       "      <td>2.85</td>\n",
       "    </tr>\n",
       "    <tr>\n",
       "      <th>1</th>\n",
       "      <td>Lead Origin_Lead Add Form</td>\n",
       "      <td>1.62</td>\n",
       "    </tr>\n",
       "    <tr>\n",
       "      <th>7</th>\n",
       "      <td>Tags_Ringing</td>\n",
       "      <td>1.56</td>\n",
       "    </tr>\n",
       "    <tr>\n",
       "      <th>2</th>\n",
       "      <td>Lead Source_Welingak Website</td>\n",
       "      <td>1.36</td>\n",
       "    </tr>\n",
       "    <tr>\n",
       "      <th>3</th>\n",
       "      <td>What is your current occupation_Working Profes...</td>\n",
       "      <td>1.26</td>\n",
       "    </tr>\n",
       "    <tr>\n",
       "      <th>5</th>\n",
       "      <td>Tags_Closed by Horizzon</td>\n",
       "      <td>1.15</td>\n",
       "    </tr>\n",
       "    <tr>\n",
       "      <th>0</th>\n",
       "      <td>Do Not Email</td>\n",
       "      <td>1.11</td>\n",
       "    </tr>\n",
       "    <tr>\n",
       "      <th>4</th>\n",
       "      <td>Tags_Busy</td>\n",
       "      <td>1.11</td>\n",
       "    </tr>\n",
       "    <tr>\n",
       "      <th>10</th>\n",
       "      <td>Lead Quality_Not Sure</td>\n",
       "      <td>1.11</td>\n",
       "    </tr>\n",
       "    <tr>\n",
       "      <th>6</th>\n",
       "      <td>Tags_Lost to EINS</td>\n",
       "      <td>1.05</td>\n",
       "    </tr>\n",
       "    <tr>\n",
       "      <th>9</th>\n",
       "      <td>Tags_switched off</td>\n",
       "      <td>1.04</td>\n",
       "    </tr>\n",
       "    <tr>\n",
       "      <th>11</th>\n",
       "      <td>Lead Quality_Worst</td>\n",
       "      <td>1.02</td>\n",
       "    </tr>\n",
       "  </tbody>\n",
       "</table>\n",
       "</div>"
      ],
      "text/plain": [
       "                                             Features   VIF\n",
       "8            Tags_Will revert after reading the email  2.89\n",
       "12                     Last Notable Activity_SMS Sent  2.85\n",
       "1                           Lead Origin_Lead Add Form  1.62\n",
       "7                                        Tags_Ringing  1.56\n",
       "2                        Lead Source_Welingak Website  1.36\n",
       "3   What is your current occupation_Working Profes...  1.26\n",
       "5                             Tags_Closed by Horizzon  1.15\n",
       "0                                        Do Not Email  1.11\n",
       "4                                           Tags_Busy  1.11\n",
       "10                              Lead Quality_Not Sure  1.11\n",
       "6                                   Tags_Lost to EINS  1.05\n",
       "9                                   Tags_switched off  1.04\n",
       "11                                 Lead Quality_Worst  1.02"
      ]
     },
     "execution_count": 475,
     "metadata": {},
     "output_type": "execute_result"
    }
   ],
   "source": [
    "# Create a dataframe that will contain the names of all the feature variables and their respective VIFs\n",
    "vif = pd.DataFrame()\n",
    "vif['Features'] = X_train[col2].columns\n",
    "vif['VIF'] = [variance_inflation_factor(X_train[col].values, i) for i in range(X_train[col2].shape[1])]\n",
    "vif['VIF'] = round(vif['VIF'], 2)\n",
    "vif = vif.sort_values(by = \"VIF\", ascending = False)\n",
    "vif"
   ]
  },
  {
   "cell_type": "markdown",
   "metadata": {},
   "source": [
    "VIF is less than 3, means its a good module"
   ]
  },
  {
   "cell_type": "markdown",
   "metadata": {},
   "source": [
    "### Metrics beyond simply accuracy"
   ]
  },
  {
   "cell_type": "code",
   "execution_count": 476,
   "metadata": {},
   "outputs": [],
   "source": [
    "TP = confusion[1,1] # true positive \n",
    "TN = confusion[0,0] # true negatives\n",
    "FP = confusion[0,1] # false positives\n",
    "FN = confusion[1,0] # false negatives"
   ]
  },
  {
   "cell_type": "code",
   "execution_count": 477,
   "metadata": {},
   "outputs": [
    {
     "data": {
      "text/plain": [
       "0.8515944399018807"
      ]
     },
     "execution_count": 477,
     "metadata": {},
     "output_type": "execute_result"
    }
   ],
   "source": [
    "# Let's see the sensitivity of our logistic regression model\n",
    "TP / float(TP+FN)"
   ]
  },
  {
   "cell_type": "code",
   "execution_count": 478,
   "metadata": {},
   "outputs": [
    {
     "data": {
      "text/plain": [
       "0.9618437900128041"
      ]
     },
     "execution_count": 478,
     "metadata": {},
     "output_type": "execute_result"
    }
   ],
   "source": [
    "# Let us calculate specificity\n",
    "TN / float(TN+FP)"
   ]
  },
  {
   "cell_type": "code",
   "execution_count": 479,
   "metadata": {},
   "outputs": [
    {
     "name": "stdout",
     "output_type": "stream",
     "text": [
      "0.038156209987195905\n"
     ]
    }
   ],
   "source": [
    "# Calculate false postive rate - predicting churn when customer does not have churned\n",
    "print(FP/ float(TN+FP))"
   ]
  },
  {
   "cell_type": "code",
   "execution_count": 480,
   "metadata": {},
   "outputs": [
    {
     "name": "stdout",
     "output_type": "stream",
     "text": [
      "0.9332437275985663\n"
     ]
    }
   ],
   "source": [
    "# positive predictive value \n",
    "print (TP / float(TP+FP))"
   ]
  },
  {
   "cell_type": "code",
   "execution_count": 481,
   "metadata": {},
   "outputs": [
    {
     "name": "stdout",
     "output_type": "stream",
     "text": [
      "0.9118718135469774\n"
     ]
    }
   ],
   "source": [
    "# Negative predictive value\n",
    "print (TN / float(TN+ FN))"
   ]
  },
  {
   "cell_type": "markdown",
   "metadata": {},
   "source": [
    "### Plotting the ROC Curve"
   ]
  },
  {
   "cell_type": "code",
   "execution_count": 482,
   "metadata": {},
   "outputs": [],
   "source": [
    "def draw_roc( actual, probs ):\n",
    "    fpr, tpr, thresholds = metrics.roc_curve( actual, probs,\n",
    "                                              drop_intermediate = False )\n",
    "    auc_score = metrics.roc_auc_score( actual, probs )\n",
    "    plt.figure(figsize=(5, 5))\n",
    "    plt.plot( fpr, tpr, label='ROC curve (area = %0.2f)' % auc_score )\n",
    "    plt.plot([0, 1], [0, 1], 'k--')\n",
    "    plt.xlim([0.0, 1.0])\n",
    "    plt.ylim([0.0, 1.05])\n",
    "    plt.xlabel('False Positive Rate or [1 - True Negative Rate]')\n",
    "    plt.ylabel('True Positive Rate')\n",
    "    plt.title('Receiver operating characteristic example')\n",
    "    plt.legend(loc=\"lower right\")\n",
    "    plt.show()\n",
    "\n",
    "    return None"
   ]
  },
  {
   "cell_type": "code",
   "execution_count": 483,
   "metadata": {},
   "outputs": [],
   "source": [
    "fpr, tpr, thresholds = metrics.roc_curve( y_train_pred_final.Converted, y_train_pred_final.Converted_prob, drop_intermediate = False )"
   ]
  },
  {
   "cell_type": "code",
   "execution_count": 484,
   "metadata": {},
   "outputs": [
    {
     "data": {
      "image/png": "[encoded data removed]",
      "text/plain": [
       "<Figure size 360x360 with 1 Axes>"
      ]
     },
     "metadata": {
      "needs_background": "light"
     },
     "output_type": "display_data"
    }
   ],
   "source": [
    "draw_roc(y_train_pred_final.Converted, y_train_pred_final.Converted_prob)"
   ]
  },
  {
   "cell_type": "markdown",
   "metadata": {},
   "source": [
    "#### Finding Optimal Cutoff Point¶\n",
    "\n",
    "Optimal cutoff probability is that prob where we get balanced sensitivity and specificity"
   ]
  },
  {
   "cell_type": "code",
   "execution_count": 485,
   "metadata": {},
   "outputs": [
    {
     "data": {
      "text/html": [
       "<div>\n",
       "<style scoped>\n",
       "    .dataframe tbody tr th:only-of-type {\n",
       "        vertical-align: middle;\n",
       "    }\n",
       "\n",
       "    .dataframe tbody tr th {\n",
       "        vertical-align: top;\n",
       "    }\n",
       "\n",
       "    .dataframe thead th {\n",
       "        text-align: right;\n",
       "    }\n",
       "</style>\n",
       "<table border=\"1\" class=\"dataframe\">\n",
       "  <thead>\n",
       "    <tr style=\"text-align: right;\">\n",
       "      <th></th>\n",
       "      <th>Converted</th>\n",
       "      <th>Converted_prob</th>\n",
       "      <th>Prospect ID</th>\n",
       "      <th>predicted</th>\n",
       "      <th>0.0</th>\n",
       "      <th>0.1</th>\n",
       "      <th>0.2</th>\n",
       "      <th>0.3</th>\n",
       "      <th>0.4</th>\n",
       "      <th>0.5</th>\n",
       "      <th>0.6</th>\n",
       "      <th>0.7</th>\n",
       "      <th>0.8</th>\n",
       "      <th>0.9</th>\n",
       "    </tr>\n",
       "  </thead>\n",
       "  <tbody>\n",
       "    <tr>\n",
       "      <th>0</th>\n",
       "      <td>0</td>\n",
       "      <td>0.188037</td>\n",
       "      <td>3009</td>\n",
       "      <td>0</td>\n",
       "      <td>1</td>\n",
       "      <td>1</td>\n",
       "      <td>0</td>\n",
       "      <td>0</td>\n",
       "      <td>0</td>\n",
       "      <td>0</td>\n",
       "      <td>0</td>\n",
       "      <td>0</td>\n",
       "      <td>0</td>\n",
       "      <td>0</td>\n",
       "    </tr>\n",
       "    <tr>\n",
       "      <th>1</th>\n",
       "      <td>0</td>\n",
       "      <td>0.194070</td>\n",
       "      <td>1012</td>\n",
       "      <td>0</td>\n",
       "      <td>1</td>\n",
       "      <td>1</td>\n",
       "      <td>0</td>\n",
       "      <td>0</td>\n",
       "      <td>0</td>\n",
       "      <td>0</td>\n",
       "      <td>0</td>\n",
       "      <td>0</td>\n",
       "      <td>0</td>\n",
       "      <td>0</td>\n",
       "    </tr>\n",
       "    <tr>\n",
       "      <th>2</th>\n",
       "      <td>0</td>\n",
       "      <td>0.000805</td>\n",
       "      <td>9226</td>\n",
       "      <td>0</td>\n",
       "      <td>1</td>\n",
       "      <td>0</td>\n",
       "      <td>0</td>\n",
       "      <td>0</td>\n",
       "      <td>0</td>\n",
       "      <td>0</td>\n",
       "      <td>0</td>\n",
       "      <td>0</td>\n",
       "      <td>0</td>\n",
       "      <td>0</td>\n",
       "    </tr>\n",
       "    <tr>\n",
       "      <th>3</th>\n",
       "      <td>1</td>\n",
       "      <td>0.782077</td>\n",
       "      <td>4750</td>\n",
       "      <td>1</td>\n",
       "      <td>1</td>\n",
       "      <td>1</td>\n",
       "      <td>1</td>\n",
       "      <td>1</td>\n",
       "      <td>1</td>\n",
       "      <td>1</td>\n",
       "      <td>1</td>\n",
       "      <td>1</td>\n",
       "      <td>0</td>\n",
       "      <td>0</td>\n",
       "    </tr>\n",
       "    <tr>\n",
       "      <th>4</th>\n",
       "      <td>1</td>\n",
       "      <td>0.977003</td>\n",
       "      <td>7987</td>\n",
       "      <td>1</td>\n",
       "      <td>1</td>\n",
       "      <td>1</td>\n",
       "      <td>1</td>\n",
       "      <td>1</td>\n",
       "      <td>1</td>\n",
       "      <td>1</td>\n",
       "      <td>1</td>\n",
       "      <td>1</td>\n",
       "      <td>1</td>\n",
       "      <td>1</td>\n",
       "    </tr>\n",
       "  </tbody>\n",
       "</table>\n",
       "</div>"
      ],
      "text/plain": [
       "   Converted  Converted_prob  Prospect ID  predicted  0.0  0.1  0.2  0.3  0.4  \\\n",
       "0          0        0.188037         3009          0    1    1    0    0    0   \n",
       "1          0        0.194070         1012          0    1    1    0    0    0   \n",
       "2          0        0.000805         9226          0    1    0    0    0    0   \n",
       "3          1        0.782077         4750          1    1    1    1    1    1   \n",
       "4          1        0.977003         7987          1    1    1    1    1    1   \n",
       "\n",
       "   0.5  0.6  0.7  0.8  0.9  \n",
       "0    0    0    0    0    0  \n",
       "1    0    0    0    0    0  \n",
       "2    0    0    0    0    0  \n",
       "3    1    1    1    0    0  \n",
       "4    1    1    1    1    1  "
      ]
     },
     "execution_count": 485,
     "metadata": {},
     "output_type": "execute_result"
    }
   ],
   "source": [
    "# Let's create columns with different probability cutoffs \n",
    "numbers = [float(x)/10 for x in range(10)]\n",
    "for i in numbers:\n",
    "    y_train_pred_final[i]= y_train_pred_final.Converted_prob.map(lambda x: 1 if x > i else 0)\n",
    "y_train_pred_final.head()"
   ]
  },
  {
   "cell_type": "code",
   "execution_count": 486,
   "metadata": {},
   "outputs": [
    {
     "name": "stdout",
     "output_type": "stream",
     "text": [
      "     prob  accuracy     sensi     speci\n",
      "0.0   0.0  0.385136  1.000000  0.000000\n",
      "0.1   0.1  0.705873  0.981603  0.533163\n",
      "0.2   0.2  0.910408  0.859771  0.942125\n",
      "0.3   0.3  0.918910  0.859362  0.956210\n",
      "0.4   0.4  0.920013  0.858136  0.958771\n",
      "0.5   0.5  0.919383  0.851594  0.961844\n",
      "0.6   0.6  0.920170  0.851594  0.963124\n",
      "0.7   0.7  0.919225  0.845053  0.965685\n",
      "0.8   0.8  0.878287  0.705233  0.986684\n",
      "0.9   0.9  0.813258  0.524530  0.994110\n"
     ]
    }
   ],
   "source": [
    "# Now let's calculate accuracy sensitivity and specificity for various probability cutoffs.\n",
    "cutoff_df = pd.DataFrame( columns = ['prob','accuracy','sensi','speci'])\n",
    "from sklearn.metrics import confusion_matrix\n",
    "\n",
    "# TP = confusion[1,1] # true positive \n",
    "# TN = confusion[0,0] # true negatives\n",
    "# FP = confusion[0,1] # false positives\n",
    "# FN = confusion[1,0] # false negatives\n",
    "\n",
    "num = [0.0,0.1,0.2,0.3,0.4,0.5,0.6,0.7,0.8,0.9]\n",
    "for i in num:\n",
    "    cm1 = metrics.confusion_matrix(y_train_pred_final.Converted, y_train_pred_final[i] )\n",
    "    total1=sum(sum(cm1))\n",
    "    accuracy = (cm1[0,0]+cm1[1,1])/total1\n",
    "    \n",
    "    speci = cm1[0,0]/(cm1[0,0]+cm1[0,1])\n",
    "    sensi = cm1[1,1]/(cm1[1,0]+cm1[1,1])\n",
    "    cutoff_df.loc[i] =[ i ,accuracy,sensi,speci]\n",
    "print(cutoff_df)"
   ]
  },
  {
   "cell_type": "code",
   "execution_count": 487,
   "metadata": {},
   "outputs": [
    {
     "data": {
      "image/png": "[encoded data removed]",
      "text/plain": [
       "<Figure size 432x288 with 1 Axes>"
      ]
     },
     "metadata": {
      "needs_background": "light"
     },
     "output_type": "display_data"
    }
   ],
   "source": [
    "# Let's plot accuracy sensitivity and specificity for various probabilities.\n",
    "cutoff_df.plot.line(x='prob', y=['accuracy','sensi','speci'])\n",
    "plt.show()"
   ]
  },
  {
   "cell_type": "code",
   "execution_count": 488,
   "metadata": {},
   "outputs": [
    {
     "data": {
      "text/html": [
       "<div>\n",
       "<style scoped>\n",
       "    .dataframe tbody tr th:only-of-type {\n",
       "        vertical-align: middle;\n",
       "    }\n",
       "\n",
       "    .dataframe tbody tr th {\n",
       "        vertical-align: top;\n",
       "    }\n",
       "\n",
       "    .dataframe thead th {\n",
       "        text-align: right;\n",
       "    }\n",
       "</style>\n",
       "<table border=\"1\" class=\"dataframe\">\n",
       "  <thead>\n",
       "    <tr style=\"text-align: right;\">\n",
       "      <th></th>\n",
       "      <th>Converted</th>\n",
       "      <th>Converted_prob</th>\n",
       "      <th>Prospect ID</th>\n",
       "      <th>predicted</th>\n",
       "      <th>0.0</th>\n",
       "      <th>0.1</th>\n",
       "      <th>0.2</th>\n",
       "      <th>0.3</th>\n",
       "      <th>0.4</th>\n",
       "      <th>0.5</th>\n",
       "      <th>0.6</th>\n",
       "      <th>0.7</th>\n",
       "      <th>0.8</th>\n",
       "      <th>0.9</th>\n",
       "      <th>final_predicted</th>\n",
       "    </tr>\n",
       "  </thead>\n",
       "  <tbody>\n",
       "    <tr>\n",
       "      <th>0</th>\n",
       "      <td>0</td>\n",
       "      <td>0.188037</td>\n",
       "      <td>3009</td>\n",
       "      <td>0</td>\n",
       "      <td>1</td>\n",
       "      <td>1</td>\n",
       "      <td>0</td>\n",
       "      <td>0</td>\n",
       "      <td>0</td>\n",
       "      <td>0</td>\n",
       "      <td>0</td>\n",
       "      <td>0</td>\n",
       "      <td>0</td>\n",
       "      <td>0</td>\n",
       "      <td>0</td>\n",
       "    </tr>\n",
       "    <tr>\n",
       "      <th>1</th>\n",
       "      <td>0</td>\n",
       "      <td>0.194070</td>\n",
       "      <td>1012</td>\n",
       "      <td>0</td>\n",
       "      <td>1</td>\n",
       "      <td>1</td>\n",
       "      <td>0</td>\n",
       "      <td>0</td>\n",
       "      <td>0</td>\n",
       "      <td>0</td>\n",
       "      <td>0</td>\n",
       "      <td>0</td>\n",
       "      <td>0</td>\n",
       "      <td>0</td>\n",
       "      <td>0</td>\n",
       "    </tr>\n",
       "    <tr>\n",
       "      <th>2</th>\n",
       "      <td>0</td>\n",
       "      <td>0.000805</td>\n",
       "      <td>9226</td>\n",
       "      <td>0</td>\n",
       "      <td>1</td>\n",
       "      <td>0</td>\n",
       "      <td>0</td>\n",
       "      <td>0</td>\n",
       "      <td>0</td>\n",
       "      <td>0</td>\n",
       "      <td>0</td>\n",
       "      <td>0</td>\n",
       "      <td>0</td>\n",
       "      <td>0</td>\n",
       "      <td>0</td>\n",
       "    </tr>\n",
       "    <tr>\n",
       "      <th>3</th>\n",
       "      <td>1</td>\n",
       "      <td>0.782077</td>\n",
       "      <td>4750</td>\n",
       "      <td>1</td>\n",
       "      <td>1</td>\n",
       "      <td>1</td>\n",
       "      <td>1</td>\n",
       "      <td>1</td>\n",
       "      <td>1</td>\n",
       "      <td>1</td>\n",
       "      <td>1</td>\n",
       "      <td>1</td>\n",
       "      <td>0</td>\n",
       "      <td>0</td>\n",
       "      <td>1</td>\n",
       "    </tr>\n",
       "    <tr>\n",
       "      <th>4</th>\n",
       "      <td>1</td>\n",
       "      <td>0.977003</td>\n",
       "      <td>7987</td>\n",
       "      <td>1</td>\n",
       "      <td>1</td>\n",
       "      <td>1</td>\n",
       "      <td>1</td>\n",
       "      <td>1</td>\n",
       "      <td>1</td>\n",
       "      <td>1</td>\n",
       "      <td>1</td>\n",
       "      <td>1</td>\n",
       "      <td>1</td>\n",
       "      <td>1</td>\n",
       "      <td>1</td>\n",
       "    </tr>\n",
       "  </tbody>\n",
       "</table>\n",
       "</div>"
      ],
      "text/plain": [
       "   Converted  Converted_prob  Prospect ID  predicted  0.0  0.1  0.2  0.3  0.4  \\\n",
       "0          0        0.188037         3009          0    1    1    0    0    0   \n",
       "1          0        0.194070         1012          0    1    1    0    0    0   \n",
       "2          0        0.000805         9226          0    1    0    0    0    0   \n",
       "3          1        0.782077         4750          1    1    1    1    1    1   \n",
       "4          1        0.977003         7987          1    1    1    1    1    1   \n",
       "\n",
       "   0.5  0.6  0.7  0.8  0.9  final_predicted  \n",
       "0    0    0    0    0    0                0  \n",
       "1    0    0    0    0    0                0  \n",
       "2    0    0    0    0    0                0  \n",
       "3    1    1    1    0    0                1  \n",
       "4    1    1    1    1    1                1  "
      ]
     },
     "execution_count": 488,
     "metadata": {},
     "output_type": "execute_result"
    }
   ],
   "source": [
    "# From the curve above, 0.2 is the optimum point to take it as a cutoff probability.\n",
    "\n",
    "y_train_pred_final['final_predicted'] = y_train_pred_final.Converted_prob.map( lambda x: 1 if x > 0.2 else 0)\n",
    "\n",
    "y_train_pred_final.head()"
   ]
  },
  {
   "cell_type": "code",
   "execution_count": 489,
   "metadata": {},
   "outputs": [
    {
     "data": {
      "text/html": [
       "<div>\n",
       "<style scoped>\n",
       "    .dataframe tbody tr th:only-of-type {\n",
       "        vertical-align: middle;\n",
       "    }\n",
       "\n",
       "    .dataframe tbody tr th {\n",
       "        vertical-align: top;\n",
       "    }\n",
       "\n",
       "    .dataframe thead th {\n",
       "        text-align: right;\n",
       "    }\n",
       "</style>\n",
       "<table border=\"1\" class=\"dataframe\">\n",
       "  <thead>\n",
       "    <tr style=\"text-align: right;\">\n",
       "      <th></th>\n",
       "      <th>Converted</th>\n",
       "      <th>Converted_prob</th>\n",
       "      <th>Prospect ID</th>\n",
       "      <th>predicted</th>\n",
       "      <th>0.0</th>\n",
       "      <th>0.1</th>\n",
       "      <th>0.2</th>\n",
       "      <th>0.3</th>\n",
       "      <th>0.4</th>\n",
       "      <th>0.5</th>\n",
       "      <th>0.6</th>\n",
       "      <th>0.7</th>\n",
       "      <th>0.8</th>\n",
       "      <th>0.9</th>\n",
       "      <th>final_predicted</th>\n",
       "      <th>Lead_Score</th>\n",
       "    </tr>\n",
       "  </thead>\n",
       "  <tbody>\n",
       "    <tr>\n",
       "      <th>0</th>\n",
       "      <td>0</td>\n",
       "      <td>0.188037</td>\n",
       "      <td>3009</td>\n",
       "      <td>0</td>\n",
       "      <td>1</td>\n",
       "      <td>1</td>\n",
       "      <td>0</td>\n",
       "      <td>0</td>\n",
       "      <td>0</td>\n",
       "      <td>0</td>\n",
       "      <td>0</td>\n",
       "      <td>0</td>\n",
       "      <td>0</td>\n",
       "      <td>0</td>\n",
       "      <td>0</td>\n",
       "      <td>19</td>\n",
       "    </tr>\n",
       "    <tr>\n",
       "      <th>1</th>\n",
       "      <td>0</td>\n",
       "      <td>0.194070</td>\n",
       "      <td>1012</td>\n",
       "      <td>0</td>\n",
       "      <td>1</td>\n",
       "      <td>1</td>\n",
       "      <td>0</td>\n",
       "      <td>0</td>\n",
       "      <td>0</td>\n",
       "      <td>0</td>\n",
       "      <td>0</td>\n",
       "      <td>0</td>\n",
       "      <td>0</td>\n",
       "      <td>0</td>\n",
       "      <td>0</td>\n",
       "      <td>19</td>\n",
       "    </tr>\n",
       "    <tr>\n",
       "      <th>2</th>\n",
       "      <td>0</td>\n",
       "      <td>0.000805</td>\n",
       "      <td>9226</td>\n",
       "      <td>0</td>\n",
       "      <td>1</td>\n",
       "      <td>0</td>\n",
       "      <td>0</td>\n",
       "      <td>0</td>\n",
       "      <td>0</td>\n",
       "      <td>0</td>\n",
       "      <td>0</td>\n",
       "      <td>0</td>\n",
       "      <td>0</td>\n",
       "      <td>0</td>\n",
       "      <td>0</td>\n",
       "      <td>0</td>\n",
       "    </tr>\n",
       "    <tr>\n",
       "      <th>3</th>\n",
       "      <td>1</td>\n",
       "      <td>0.782077</td>\n",
       "      <td>4750</td>\n",
       "      <td>1</td>\n",
       "      <td>1</td>\n",
       "      <td>1</td>\n",
       "      <td>1</td>\n",
       "      <td>1</td>\n",
       "      <td>1</td>\n",
       "      <td>1</td>\n",
       "      <td>1</td>\n",
       "      <td>1</td>\n",
       "      <td>0</td>\n",
       "      <td>0</td>\n",
       "      <td>1</td>\n",
       "      <td>78</td>\n",
       "    </tr>\n",
       "    <tr>\n",
       "      <th>4</th>\n",
       "      <td>1</td>\n",
       "      <td>0.977003</td>\n",
       "      <td>7987</td>\n",
       "      <td>1</td>\n",
       "      <td>1</td>\n",
       "      <td>1</td>\n",
       "      <td>1</td>\n",
       "      <td>1</td>\n",
       "      <td>1</td>\n",
       "      <td>1</td>\n",
       "      <td>1</td>\n",
       "      <td>1</td>\n",
       "      <td>1</td>\n",
       "      <td>1</td>\n",
       "      <td>1</td>\n",
       "      <td>98</td>\n",
       "    </tr>\n",
       "  </tbody>\n",
       "</table>\n",
       "</div>"
      ],
      "text/plain": [
       "   Converted  Converted_prob  Prospect ID  predicted  0.0  0.1  0.2  0.3  0.4  \\\n",
       "0          0        0.188037         3009          0    1    1    0    0    0   \n",
       "1          0        0.194070         1012          0    1    1    0    0    0   \n",
       "2          0        0.000805         9226          0    1    0    0    0    0   \n",
       "3          1        0.782077         4750          1    1    1    1    1    1   \n",
       "4          1        0.977003         7987          1    1    1    1    1    1   \n",
       "\n",
       "   0.5  0.6  0.7  0.8  0.9  final_predicted  Lead_Score  \n",
       "0    0    0    0    0    0                0          19  \n",
       "1    0    0    0    0    0                0          19  \n",
       "2    0    0    0    0    0                0           0  \n",
       "3    1    1    1    0    0                1          78  \n",
       "4    1    1    1    1    1                1          98  "
      ]
     },
     "execution_count": 489,
     "metadata": {},
     "output_type": "execute_result"
    }
   ],
   "source": [
    "y_train_pred_final['Lead_Score'] = y_train_pred_final.Converted_prob.map( lambda x: round(x*100))\n",
    "\n",
    "y_train_pred_final.head()"
   ]
  },
  {
   "cell_type": "code",
   "execution_count": 490,
   "metadata": {},
   "outputs": [],
   "source": [
    "# Let's check the overall accuracy.\n",
    "metrics.accuracy_score(y_train_pred_final.Converted, y_train_pred_final.final_predicted)\n",
    "\n",
    "confusion2 = metrics.confusion_matrix(y_train_pred_final.Converted, y_train_pred_final.final_predicted )\n",
    "confusion2\n",
    "\n",
    "TP = confusion2[1,1] # true positive \n",
    "TN = confusion2[0,0] # true negatives\n",
    "FP = confusion2[0,1] # false positives\n",
    "FN = confusion2[1,0] # false negatives"
   ]
  },
  {
   "cell_type": "code",
   "execution_count": 491,
   "metadata": {},
   "outputs": [
    {
     "data": {
      "text/plain": [
       "0.8597710547833197"
      ]
     },
     "execution_count": 491,
     "metadata": {},
     "output_type": "execute_result"
    }
   ],
   "source": [
    "# Let's see the sensitivity of logistic regression model\n",
    "TP / float(TP+FN)"
   ]
  },
  {
   "cell_type": "code",
   "execution_count": 492,
   "metadata": {},
   "outputs": [
    {
     "data": {
      "text/plain": [
       "0.9421254801536492"
      ]
     },
     "execution_count": 492,
     "metadata": {},
     "output_type": "execute_result"
    }
   ],
   "source": [
    "# Let us calculate specificity\n",
    "TN / float(TN+FP)"
   ]
  },
  {
   "cell_type": "code",
   "execution_count": 493,
   "metadata": {},
   "outputs": [
    {
     "name": "stdout",
     "output_type": "stream",
     "text": [
      "0.05787451984635083\n"
     ]
    }
   ],
   "source": [
    "# Calculate false postive rate - predicting churn when customer does not have churned\n",
    "print(FP/ float(TN+FP))"
   ]
  },
  {
   "cell_type": "code",
   "execution_count": 494,
   "metadata": {},
   "outputs": [
    {
     "name": "stdout",
     "output_type": "stream",
     "text": [
      "0.9029626449119794\n"
     ]
    }
   ],
   "source": [
    "# Positive predictive value \n",
    "print (TP / float(TP+FP))"
   ]
  },
  {
   "cell_type": "code",
   "execution_count": 495,
   "metadata": {},
   "outputs": [
    {
     "name": "stdout",
     "output_type": "stream",
     "text": [
      "0.9147190452511188\n"
     ]
    }
   ],
   "source": [
    "# Negative predictive value\n",
    "print (TN / float(TN+ FN))"
   ]
  },
  {
   "cell_type": "markdown",
   "metadata": {},
   "source": [
    "### Precision and Recall"
   ]
  },
  {
   "cell_type": "code",
   "execution_count": 496,
   "metadata": {},
   "outputs": [
    {
     "data": {
      "text/plain": [
       "array([[3756,  149],\n",
       "       [ 363, 2083]], dtype=int64)"
      ]
     },
     "execution_count": 496,
     "metadata": {},
     "output_type": "execute_result"
    }
   ],
   "source": [
    "#Looking at the confusion matrix again\n",
    "\n",
    "confusion = metrics.confusion_matrix(y_train_pred_final.Converted, y_train_pred_final.predicted )\n",
    "confusion"
   ]
  },
  {
   "cell_type": "code",
   "execution_count": 497,
   "metadata": {},
   "outputs": [
    {
     "data": {
      "text/plain": [
       "0.9332437275985663"
      ]
     },
     "execution_count": 497,
     "metadata": {},
     "output_type": "execute_result"
    }
   ],
   "source": [
    "# Precision\n",
    "TP / TP + FP\n",
    "\n",
    "confusion[1,1]/(confusion[0,1]+confusion[1,1])"
   ]
  },
  {
   "cell_type": "code",
   "execution_count": 498,
   "metadata": {},
   "outputs": [
    {
     "data": {
      "text/plain": [
       "0.8515944399018807"
      ]
     },
     "execution_count": 498,
     "metadata": {},
     "output_type": "execute_result"
    }
   ],
   "source": [
    "# Recall\n",
    "TP / TP + FN\n",
    "\n",
    "confusion[1,1]/(confusion[1,0]+confusion[1,1])"
   ]
  },
  {
   "cell_type": "markdown",
   "metadata": {},
   "source": [
    "Using sklearn utilities for the same"
   ]
  },
  {
   "cell_type": "code",
   "execution_count": 499,
   "metadata": {},
   "outputs": [],
   "source": [
    "from sklearn.metrics import precision_score, recall_score"
   ]
  },
  {
   "cell_type": "code",
   "execution_count": 500,
   "metadata": {},
   "outputs": [
    {
     "data": {
      "text/plain": [
       "0.9332437275985663"
      ]
     },
     "execution_count": 500,
     "metadata": {},
     "output_type": "execute_result"
    }
   ],
   "source": [
    "precision_score(y_train_pred_final.Converted , y_train_pred_final.predicted)"
   ]
  },
  {
   "cell_type": "code",
   "execution_count": 501,
   "metadata": {},
   "outputs": [
    {
     "data": {
      "text/plain": [
       "0.8515944399018807"
      ]
     },
     "execution_count": 501,
     "metadata": {},
     "output_type": "execute_result"
    }
   ],
   "source": [
    "recall_score(y_train_pred_final.Converted, y_train_pred_final.predicted)"
   ]
  },
  {
   "cell_type": "markdown",
   "metadata": {},
   "source": [
    "#### Precision and recall tradeoff"
   ]
  },
  {
   "cell_type": "code",
   "execution_count": 502,
   "metadata": {},
   "outputs": [],
   "source": [
    "from sklearn.metrics import precision_recall_curve"
   ]
  },
  {
   "cell_type": "code",
   "execution_count": 503,
   "metadata": {},
   "outputs": [
    {
     "data": {
      "text/plain": [
       "(0       0\n",
       " 1       0\n",
       " 2       0\n",
       " 3       1\n",
       " 4       1\n",
       " 5       1\n",
       " 6       0\n",
       " 7       1\n",
       " 8       1\n",
       " 9       0\n",
       " 10      0\n",
       " 11      0\n",
       " 12      0\n",
       " 13      1\n",
       " 14      1\n",
       " 15      1\n",
       " 16      0\n",
       " 17      0\n",
       " 18      0\n",
       " 19      0\n",
       " 20      1\n",
       " 21      0\n",
       " 22      0\n",
       " 23      0\n",
       " 24      1\n",
       " 25      0\n",
       " 26      1\n",
       " 27      1\n",
       " 28      0\n",
       " 29      1\n",
       "        ..\n",
       " 6321    0\n",
       " 6322    1\n",
       " 6323    0\n",
       " 6324    1\n",
       " 6325    0\n",
       " 6326    0\n",
       " 6327    0\n",
       " 6328    1\n",
       " 6329    1\n",
       " 6330    1\n",
       " 6331    0\n",
       " 6332    0\n",
       " 6333    0\n",
       " 6334    0\n",
       " 6335    0\n",
       " 6336    0\n",
       " 6337    0\n",
       " 6338    0\n",
       " 6339    0\n",
       " 6340    0\n",
       " 6341    0\n",
       " 6342    1\n",
       " 6343    0\n",
       " 6344    1\n",
       " 6345    1\n",
       " 6346    0\n",
       " 6347    1\n",
       " 6348    0\n",
       " 6349    0\n",
       " 6350    0\n",
       " Name: Converted, Length: 6351, dtype: int64, 0       0\n",
       " 1       0\n",
       " 2       0\n",
       " 3       1\n",
       " 4       1\n",
       " 5       1\n",
       " 6       0\n",
       " 7       1\n",
       " 8       1\n",
       " 9       0\n",
       " 10      0\n",
       " 11      0\n",
       " 12      0\n",
       " 13      1\n",
       " 14      1\n",
       " 15      1\n",
       " 16      0\n",
       " 17      0\n",
       " 18      0\n",
       " 19      0\n",
       " 20      1\n",
       " 21      0\n",
       " 22      0\n",
       " 23      0\n",
       " 24      1\n",
       " 25      0\n",
       " 26      0\n",
       " 27      1\n",
       " 28      0\n",
       " 29      1\n",
       "        ..\n",
       " 6321    0\n",
       " 6322    1\n",
       " 6323    0\n",
       " 6324    1\n",
       " 6325    0\n",
       " 6326    0\n",
       " 6327    0\n",
       " 6328    1\n",
       " 6329    0\n",
       " 6330    1\n",
       " 6331    0\n",
       " 6332    0\n",
       " 6333    0\n",
       " 6334    0\n",
       " 6335    0\n",
       " 6336    0\n",
       " 6337    0\n",
       " 6338    0\n",
       " 6339    0\n",
       " 6340    0\n",
       " 6341    0\n",
       " 6342    1\n",
       " 6343    0\n",
       " 6344    1\n",
       " 6345    1\n",
       " 6346    0\n",
       " 6347    1\n",
       " 6348    0\n",
       " 6349    0\n",
       " 6350    0\n",
       " Name: predicted, Length: 6351, dtype: int64)"
      ]
     },
     "execution_count": 503,
     "metadata": {},
     "output_type": "execute_result"
    }
   ],
   "source": [
    "y_train_pred_final.Converted, y_train_pred_final.predicted"
   ]
  },
  {
   "cell_type": "code",
   "execution_count": 504,
   "metadata": {},
   "outputs": [],
   "source": [
    "p, r, thresholds = precision_recall_curve(y_train_pred_final.Converted, y_train_pred_final.Converted_prob)"
   ]
  },
  {
   "cell_type": "code",
   "execution_count": 505,
   "metadata": {},
   "outputs": [
    {
     "data": {
      "image/png": "[encoded data removed]",
      "text/plain": [
       "<Figure size 432x288 with 1 Axes>"
      ]
     },
     "metadata": {
      "needs_background": "light"
     },
     "output_type": "display_data"
    }
   ],
   "source": [
    "plt.plot(thresholds, p[:-1], \"g-\")\n",
    "plt.plot(thresholds, r[:-1], \"r-\")\n",
    "plt.show()"
   ]
  },
  {
   "cell_type": "markdown",
   "metadata": {},
   "source": [
    "#### Making predictions on the test set"
   ]
  },
  {
   "cell_type": "code",
   "execution_count": 506,
   "metadata": {},
   "outputs": [
    {
     "data": {
      "text/html": [
       "<div>\n",
       "<style scoped>\n",
       "    .dataframe tbody tr th:only-of-type {\n",
       "        vertical-align: middle;\n",
       "    }\n",
       "\n",
       "    .dataframe tbody tr th {\n",
       "        vertical-align: top;\n",
       "    }\n",
       "\n",
       "    .dataframe thead th {\n",
       "        text-align: right;\n",
       "    }\n",
       "</style>\n",
       "<table border=\"1\" class=\"dataframe\">\n",
       "  <thead>\n",
       "    <tr style=\"text-align: right;\">\n",
       "      <th></th>\n",
       "      <th>Do Not Email</th>\n",
       "      <th>Do Not Call</th>\n",
       "      <th>TotalVisits</th>\n",
       "      <th>Total Time Spent on Website</th>\n",
       "      <th>Page Views Per Visit</th>\n",
       "      <th>Lead Origin_Landing Page Submission</th>\n",
       "      <th>Lead Origin_Lead Add Form</th>\n",
       "      <th>Lead Origin_Lead Import</th>\n",
       "      <th>Lead Source_Facebook</th>\n",
       "      <th>Lead Source_Google</th>\n",
       "      <th>...</th>\n",
       "      <th>Last Notable Activity_Form Submitted on Website</th>\n",
       "      <th>Last Notable Activity_Had a Phone Conversation</th>\n",
       "      <th>Last Notable Activity_Modified</th>\n",
       "      <th>Last Notable Activity_Olark Chat Conversation</th>\n",
       "      <th>Last Notable Activity_Page Visited on Website</th>\n",
       "      <th>Last Notable Activity_Resubscribed to emails</th>\n",
       "      <th>Last Notable Activity_SMS Sent</th>\n",
       "      <th>Last Notable Activity_Unreachable</th>\n",
       "      <th>Last Notable Activity_Unsubscribed</th>\n",
       "      <th>Last Notable Activity_View in browser link Clicked</th>\n",
       "    </tr>\n",
       "  </thead>\n",
       "  <tbody>\n",
       "    <tr>\n",
       "      <th>3009</th>\n",
       "      <td>0</td>\n",
       "      <td>0</td>\n",
       "      <td>-0.432779</td>\n",
       "      <td>-0.160255</td>\n",
       "      <td>-0.155018</td>\n",
       "      <td>1</td>\n",
       "      <td>0</td>\n",
       "      <td>0</td>\n",
       "      <td>0</td>\n",
       "      <td>0</td>\n",
       "      <td>...</td>\n",
       "      <td>0</td>\n",
       "      <td>0</td>\n",
       "      <td>0</td>\n",
       "      <td>0</td>\n",
       "      <td>0</td>\n",
       "      <td>0</td>\n",
       "      <td>0</td>\n",
       "      <td>0</td>\n",
       "      <td>0</td>\n",
       "      <td>0</td>\n",
       "    </tr>\n",
       "    <tr>\n",
       "      <th>1012</th>\n",
       "      <td>1</td>\n",
       "      <td>0</td>\n",
       "      <td>-0.432779</td>\n",
       "      <td>-0.540048</td>\n",
       "      <td>-0.155018</td>\n",
       "      <td>1</td>\n",
       "      <td>0</td>\n",
       "      <td>0</td>\n",
       "      <td>0</td>\n",
       "      <td>0</td>\n",
       "      <td>...</td>\n",
       "      <td>0</td>\n",
       "      <td>0</td>\n",
       "      <td>0</td>\n",
       "      <td>0</td>\n",
       "      <td>0</td>\n",
       "      <td>0</td>\n",
       "      <td>0</td>\n",
       "      <td>0</td>\n",
       "      <td>0</td>\n",
       "      <td>0</td>\n",
       "    </tr>\n",
       "    <tr>\n",
       "      <th>9226</th>\n",
       "      <td>0</td>\n",
       "      <td>0</td>\n",
       "      <td>-1.150329</td>\n",
       "      <td>-0.888650</td>\n",
       "      <td>-1.265540</td>\n",
       "      <td>0</td>\n",
       "      <td>0</td>\n",
       "      <td>0</td>\n",
       "      <td>0</td>\n",
       "      <td>0</td>\n",
       "      <td>...</td>\n",
       "      <td>0</td>\n",
       "      <td>0</td>\n",
       "      <td>1</td>\n",
       "      <td>0</td>\n",
       "      <td>0</td>\n",
       "      <td>0</td>\n",
       "      <td>0</td>\n",
       "      <td>0</td>\n",
       "      <td>0</td>\n",
       "      <td>0</td>\n",
       "    </tr>\n",
       "    <tr>\n",
       "      <th>4750</th>\n",
       "      <td>0</td>\n",
       "      <td>0</td>\n",
       "      <td>-0.432779</td>\n",
       "      <td>1.643304</td>\n",
       "      <td>-0.155018</td>\n",
       "      <td>1</td>\n",
       "      <td>0</td>\n",
       "      <td>0</td>\n",
       "      <td>0</td>\n",
       "      <td>0</td>\n",
       "      <td>...</td>\n",
       "      <td>0</td>\n",
       "      <td>0</td>\n",
       "      <td>0</td>\n",
       "      <td>0</td>\n",
       "      <td>0</td>\n",
       "      <td>0</td>\n",
       "      <td>1</td>\n",
       "      <td>0</td>\n",
       "      <td>0</td>\n",
       "      <td>0</td>\n",
       "    </tr>\n",
       "    <tr>\n",
       "      <th>7987</th>\n",
       "      <td>0</td>\n",
       "      <td>0</td>\n",
       "      <td>0.643547</td>\n",
       "      <td>2.017593</td>\n",
       "      <td>0.122613</td>\n",
       "      <td>1</td>\n",
       "      <td>0</td>\n",
       "      <td>0</td>\n",
       "      <td>0</td>\n",
       "      <td>0</td>\n",
       "      <td>...</td>\n",
       "      <td>0</td>\n",
       "      <td>0</td>\n",
       "      <td>1</td>\n",
       "      <td>0</td>\n",
       "      <td>0</td>\n",
       "      <td>0</td>\n",
       "      <td>0</td>\n",
       "      <td>0</td>\n",
       "      <td>0</td>\n",
       "      <td>0</td>\n",
       "    </tr>\n",
       "  </tbody>\n",
       "</table>\n",
       "<p>5 rows × 85 columns</p>\n",
       "</div>"
      ],
      "text/plain": [
       "      Do Not Email  Do Not Call  TotalVisits  Total Time Spent on Website  \\\n",
       "3009             0            0    -0.432779                    -0.160255   \n",
       "1012             1            0    -0.432779                    -0.540048   \n",
       "9226             0            0    -1.150329                    -0.888650   \n",
       "4750             0            0    -0.432779                     1.643304   \n",
       "7987             0            0     0.643547                     2.017593   \n",
       "\n",
       "      Page Views Per Visit  Lead Origin_Landing Page Submission  \\\n",
       "3009             -0.155018                                    1   \n",
       "1012             -0.155018                                    1   \n",
       "9226             -1.265540                                    0   \n",
       "4750             -0.155018                                    1   \n",
       "7987              0.122613                                    1   \n",
       "\n",
       "      Lead Origin_Lead Add Form  Lead Origin_Lead Import  \\\n",
       "3009                          0                        0   \n",
       "1012                          0                        0   \n",
       "9226                          0                        0   \n",
       "4750                          0                        0   \n",
       "7987                          0                        0   \n",
       "\n",
       "      Lead Source_Facebook  Lead Source_Google  ...  \\\n",
       "3009                     0                   0  ...   \n",
       "1012                     0                   0  ...   \n",
       "9226                     0                   0  ...   \n",
       "4750                     0                   0  ...   \n",
       "7987                     0                   0  ...   \n",
       "\n",
       "      Last Notable Activity_Form Submitted on Website  \\\n",
       "3009                                                0   \n",
       "1012                                                0   \n",
       "9226                                                0   \n",
       "4750                                                0   \n",
       "7987                                                0   \n",
       "\n",
       "      Last Notable Activity_Had a Phone Conversation  \\\n",
       "3009                                               0   \n",
       "1012                                               0   \n",
       "9226                                               0   \n",
       "4750                                               0   \n",
       "7987                                               0   \n",
       "\n",
       "      Last Notable Activity_Modified  \\\n",
       "3009                               0   \n",
       "1012                               0   \n",
       "9226                               1   \n",
       "4750                               0   \n",
       "7987                               1   \n",
       "\n",
       "      Last Notable Activity_Olark Chat Conversation  \\\n",
       "3009                                              0   \n",
       "1012                                              0   \n",
       "9226                                              0   \n",
       "4750                                              0   \n",
       "7987                                              0   \n",
       "\n",
       "      Last Notable Activity_Page Visited on Website  \\\n",
       "3009                                              0   \n",
       "1012                                              0   \n",
       "9226                                              0   \n",
       "4750                                              0   \n",
       "7987                                              0   \n",
       "\n",
       "      Last Notable Activity_Resubscribed to emails  \\\n",
       "3009                                             0   \n",
       "1012                                             0   \n",
       "9226                                             0   \n",
       "4750                                             0   \n",
       "7987                                             0   \n",
       "\n",
       "      Last Notable Activity_SMS Sent  Last Notable Activity_Unreachable  \\\n",
       "3009                               0                                  0   \n",
       "1012                               0                                  0   \n",
       "9226                               0                                  0   \n",
       "4750                               1                                  0   \n",
       "7987                               0                                  0   \n",
       "\n",
       "      Last Notable Activity_Unsubscribed  \\\n",
       "3009                                   0   \n",
       "1012                                   0   \n",
       "9226                                   0   \n",
       "4750                                   0   \n",
       "7987                                   0   \n",
       "\n",
       "      Last Notable Activity_View in browser link Clicked  \n",
       "3009                                                  0   \n",
       "1012                                                  0   \n",
       "9226                                                  0   \n",
       "4750                                                  0   \n",
       "7987                                                  0   \n",
       "\n",
       "[5 rows x 85 columns]"
      ]
     },
     "execution_count": 506,
     "metadata": {},
     "output_type": "execute_result"
    }
   ],
   "source": [
    "# Scaling the feature on test set now \n",
    "X_test[['TotalVisits','Total Time Spent on Website','Page Views Per Visit']] = scaler.fit_transform(X_test[['TotalVisits','Total Time Spent on Website','Page Views Per Visit']])\n",
    "\n",
    "X_test.head()"
   ]
  },
  {
   "cell_type": "code",
   "execution_count": 507,
   "metadata": {},
   "outputs": [
    {
     "data": {
      "text/html": [
       "<div>\n",
       "<style scoped>\n",
       "    .dataframe tbody tr th:only-of-type {\n",
       "        vertical-align: middle;\n",
       "    }\n",
       "\n",
       "    .dataframe tbody tr th {\n",
       "        vertical-align: top;\n",
       "    }\n",
       "\n",
       "    .dataframe thead th {\n",
       "        text-align: right;\n",
       "    }\n",
       "</style>\n",
       "<table border=\"1\" class=\"dataframe\">\n",
       "  <thead>\n",
       "    <tr style=\"text-align: right;\">\n",
       "      <th></th>\n",
       "      <th>Do Not Email</th>\n",
       "      <th>Lead Origin_Lead Add Form</th>\n",
       "      <th>Lead Source_Welingak Website</th>\n",
       "      <th>What is your current occupation_Working Professional</th>\n",
       "      <th>Tags_Busy</th>\n",
       "      <th>Tags_Closed by Horizzon</th>\n",
       "      <th>Tags_Lost to EINS</th>\n",
       "      <th>Tags_Ringing</th>\n",
       "      <th>Tags_Will revert after reading the email</th>\n",
       "      <th>Tags_switched off</th>\n",
       "      <th>Lead Quality_Not Sure</th>\n",
       "      <th>Lead Quality_Worst</th>\n",
       "      <th>Last Notable Activity_SMS Sent</th>\n",
       "    </tr>\n",
       "  </thead>\n",
       "  <tbody>\n",
       "    <tr>\n",
       "      <th>3271</th>\n",
       "      <td>0</td>\n",
       "      <td>0</td>\n",
       "      <td>0</td>\n",
       "      <td>0</td>\n",
       "      <td>0</td>\n",
       "      <td>0</td>\n",
       "      <td>0</td>\n",
       "      <td>0</td>\n",
       "      <td>1</td>\n",
       "      <td>0</td>\n",
       "      <td>1</td>\n",
       "      <td>0</td>\n",
       "      <td>0</td>\n",
       "    </tr>\n",
       "    <tr>\n",
       "      <th>1490</th>\n",
       "      <td>0</td>\n",
       "      <td>0</td>\n",
       "      <td>0</td>\n",
       "      <td>1</td>\n",
       "      <td>0</td>\n",
       "      <td>0</td>\n",
       "      <td>0</td>\n",
       "      <td>0</td>\n",
       "      <td>1</td>\n",
       "      <td>0</td>\n",
       "      <td>0</td>\n",
       "      <td>0</td>\n",
       "      <td>0</td>\n",
       "    </tr>\n",
       "    <tr>\n",
       "      <th>7936</th>\n",
       "      <td>0</td>\n",
       "      <td>0</td>\n",
       "      <td>0</td>\n",
       "      <td>0</td>\n",
       "      <td>0</td>\n",
       "      <td>0</td>\n",
       "      <td>0</td>\n",
       "      <td>0</td>\n",
       "      <td>1</td>\n",
       "      <td>0</td>\n",
       "      <td>1</td>\n",
       "      <td>0</td>\n",
       "      <td>0</td>\n",
       "    </tr>\n",
       "    <tr>\n",
       "      <th>4216</th>\n",
       "      <td>0</td>\n",
       "      <td>1</td>\n",
       "      <td>0</td>\n",
       "      <td>0</td>\n",
       "      <td>0</td>\n",
       "      <td>1</td>\n",
       "      <td>0</td>\n",
       "      <td>0</td>\n",
       "      <td>0</td>\n",
       "      <td>0</td>\n",
       "      <td>0</td>\n",
       "      <td>0</td>\n",
       "      <td>0</td>\n",
       "    </tr>\n",
       "    <tr>\n",
       "      <th>3830</th>\n",
       "      <td>0</td>\n",
       "      <td>0</td>\n",
       "      <td>0</td>\n",
       "      <td>0</td>\n",
       "      <td>0</td>\n",
       "      <td>0</td>\n",
       "      <td>0</td>\n",
       "      <td>0</td>\n",
       "      <td>1</td>\n",
       "      <td>0</td>\n",
       "      <td>1</td>\n",
       "      <td>0</td>\n",
       "      <td>0</td>\n",
       "    </tr>\n",
       "  </tbody>\n",
       "</table>\n",
       "</div>"
      ],
      "text/plain": [
       "      Do Not Email  Lead Origin_Lead Add Form  Lead Source_Welingak Website  \\\n",
       "3271             0                          0                             0   \n",
       "1490             0                          0                             0   \n",
       "7936             0                          0                             0   \n",
       "4216             0                          1                             0   \n",
       "3830             0                          0                             0   \n",
       "\n",
       "      What is your current occupation_Working Professional  Tags_Busy  \\\n",
       "3271                                                  0             0   \n",
       "1490                                                  1             0   \n",
       "7936                                                  0             0   \n",
       "4216                                                  0             0   \n",
       "3830                                                  0             0   \n",
       "\n",
       "      Tags_Closed by Horizzon  Tags_Lost to EINS  Tags_Ringing  \\\n",
       "3271                        0                  0             0   \n",
       "1490                        0                  0             0   \n",
       "7936                        0                  0             0   \n",
       "4216                        1                  0             0   \n",
       "3830                        0                  0             0   \n",
       "\n",
       "      Tags_Will revert after reading the email  Tags_switched off  \\\n",
       "3271                                         1                  0   \n",
       "1490                                         1                  0   \n",
       "7936                                         1                  0   \n",
       "4216                                         0                  0   \n",
       "3830                                         1                  0   \n",
       "\n",
       "      Lead Quality_Not Sure  Lead Quality_Worst  \\\n",
       "3271                      1                   0   \n",
       "1490                      0                   0   \n",
       "7936                      1                   0   \n",
       "4216                      0                   0   \n",
       "3830                      1                   0   \n",
       "\n",
       "      Last Notable Activity_SMS Sent  \n",
       "3271                               0  \n",
       "1490                               0  \n",
       "7936                               0  \n",
       "4216                               0  \n",
       "3830                               0  "
      ]
     },
     "execution_count": 507,
     "metadata": {},
     "output_type": "execute_result"
    }
   ],
   "source": [
    "X_test = X_test[col2]\n",
    "X_test.head()"
   ]
  },
  {
   "cell_type": "code",
   "execution_count": 508,
   "metadata": {},
   "outputs": [],
   "source": [
    "# Adding constant \n",
    "X_test_sm = sm.add_constant(X_test)"
   ]
  },
  {
   "cell_type": "markdown",
   "metadata": {},
   "source": [
    "Making predictions on the test set"
   ]
  },
  {
   "cell_type": "code",
   "execution_count": 509,
   "metadata": {},
   "outputs": [],
   "source": [
    "y_test_pred = res.predict(X_test_sm)"
   ]
  },
  {
   "cell_type": "code",
   "execution_count": 510,
   "metadata": {},
   "outputs": [
    {
     "data": {
      "text/plain": [
       "3271    0.188037\n",
       "1490    0.961508\n",
       "7936    0.188037\n",
       "4216    0.999049\n",
       "3830    0.188037\n",
       "1800    0.961508\n",
       "6507    0.012329\n",
       "4821    0.000445\n",
       "4223    0.996691\n",
       "4714    0.188037\n",
       "dtype: float64"
      ]
     },
     "execution_count": 510,
     "metadata": {},
     "output_type": "execute_result"
    }
   ],
   "source": [
    "y_test_pred[:10]"
   ]
  },
  {
   "cell_type": "code",
   "execution_count": 511,
   "metadata": {},
   "outputs": [],
   "source": [
    "# Converting y_pred to a dataframe which is an array\n",
    "y_pred_1 = pd.DataFrame(y_test_pred)"
   ]
  },
  {
   "cell_type": "code",
   "execution_count": 512,
   "metadata": {},
   "outputs": [
    {
     "data": {
      "text/html": [
       "<div>\n",
       "<style scoped>\n",
       "    .dataframe tbody tr th:only-of-type {\n",
       "        vertical-align: middle;\n",
       "    }\n",
       "\n",
       "    .dataframe tbody tr th {\n",
       "        vertical-align: top;\n",
       "    }\n",
       "\n",
       "    .dataframe thead th {\n",
       "        text-align: right;\n",
       "    }\n",
       "</style>\n",
       "<table border=\"1\" class=\"dataframe\">\n",
       "  <thead>\n",
       "    <tr style=\"text-align: right;\">\n",
       "      <th></th>\n",
       "      <th>0</th>\n",
       "    </tr>\n",
       "  </thead>\n",
       "  <tbody>\n",
       "    <tr>\n",
       "      <th>3271</th>\n",
       "      <td>0.188037</td>\n",
       "    </tr>\n",
       "    <tr>\n",
       "      <th>1490</th>\n",
       "      <td>0.961508</td>\n",
       "    </tr>\n",
       "    <tr>\n",
       "      <th>7936</th>\n",
       "      <td>0.188037</td>\n",
       "    </tr>\n",
       "    <tr>\n",
       "      <th>4216</th>\n",
       "      <td>0.999049</td>\n",
       "    </tr>\n",
       "    <tr>\n",
       "      <th>3830</th>\n",
       "      <td>0.188037</td>\n",
       "    </tr>\n",
       "  </tbody>\n",
       "</table>\n",
       "</div>"
      ],
      "text/plain": [
       "             0\n",
       "3271  0.188037\n",
       "1490  0.961508\n",
       "7936  0.188037\n",
       "4216  0.999049\n",
       "3830  0.188037"
      ]
     },
     "execution_count": 512,
     "metadata": {},
     "output_type": "execute_result"
    }
   ],
   "source": [
    "# Let's see the head\n",
    "y_pred_1.head()"
   ]
  },
  {
   "cell_type": "code",
   "execution_count": 513,
   "metadata": {},
   "outputs": [],
   "source": [
    "# Converting y_test to dataframe\n",
    "y_test_df = pd.DataFrame(y_test)"
   ]
  },
  {
   "cell_type": "code",
   "execution_count": 514,
   "metadata": {},
   "outputs": [],
   "source": [
    "# Putting CustID to index\n",
    "y_test_df['Prospect ID'] = y_test_df.index"
   ]
  },
  {
   "cell_type": "code",
   "execution_count": 515,
   "metadata": {},
   "outputs": [],
   "source": [
    "# Removing index for both dataframes to append them side by side \n",
    "y_pred_1.reset_index(drop=True, inplace=True)\n",
    "y_test_df.reset_index(drop=True, inplace=True)"
   ]
  },
  {
   "cell_type": "code",
   "execution_count": 516,
   "metadata": {},
   "outputs": [],
   "source": [
    "# Appending y_test_df and y_pred_1\n",
    "y_pred_final = pd.concat([y_test_df, y_pred_1],axis=1)"
   ]
  },
  {
   "cell_type": "code",
   "execution_count": 517,
   "metadata": {},
   "outputs": [
    {
     "data": {
      "text/html": [
       "<div>\n",
       "<style scoped>\n",
       "    .dataframe tbody tr th:only-of-type {\n",
       "        vertical-align: middle;\n",
       "    }\n",
       "\n",
       "    .dataframe tbody tr th {\n",
       "        vertical-align: top;\n",
       "    }\n",
       "\n",
       "    .dataframe thead th {\n",
       "        text-align: right;\n",
       "    }\n",
       "</style>\n",
       "<table border=\"1\" class=\"dataframe\">\n",
       "  <thead>\n",
       "    <tr style=\"text-align: right;\">\n",
       "      <th></th>\n",
       "      <th>Converted</th>\n",
       "      <th>Prospect ID</th>\n",
       "      <th>0</th>\n",
       "    </tr>\n",
       "  </thead>\n",
       "  <tbody>\n",
       "    <tr>\n",
       "      <th>0</th>\n",
       "      <td>0</td>\n",
       "      <td>3271</td>\n",
       "      <td>0.188037</td>\n",
       "    </tr>\n",
       "    <tr>\n",
       "      <th>1</th>\n",
       "      <td>1</td>\n",
       "      <td>1490</td>\n",
       "      <td>0.961508</td>\n",
       "    </tr>\n",
       "    <tr>\n",
       "      <th>2</th>\n",
       "      <td>0</td>\n",
       "      <td>7936</td>\n",
       "      <td>0.188037</td>\n",
       "    </tr>\n",
       "    <tr>\n",
       "      <th>3</th>\n",
       "      <td>1</td>\n",
       "      <td>4216</td>\n",
       "      <td>0.999049</td>\n",
       "    </tr>\n",
       "    <tr>\n",
       "      <th>4</th>\n",
       "      <td>0</td>\n",
       "      <td>3830</td>\n",
       "      <td>0.188037</td>\n",
       "    </tr>\n",
       "  </tbody>\n",
       "</table>\n",
       "</div>"
      ],
      "text/plain": [
       "   Converted  Prospect ID         0\n",
       "0          0         3271  0.188037\n",
       "1          1         1490  0.961508\n",
       "2          0         7936  0.188037\n",
       "3          1         4216  0.999049\n",
       "4          0         3830  0.188037"
      ]
     },
     "execution_count": 517,
     "metadata": {},
     "output_type": "execute_result"
    }
   ],
   "source": [
    "y_pred_final.head()"
   ]
  },
  {
   "cell_type": "code",
   "execution_count": 518,
   "metadata": {},
   "outputs": [],
   "source": [
    "# Renaming the column \n",
    "y_pred_final= y_pred_final.rename(columns={ 0 : 'Converted_prob'})"
   ]
  },
  {
   "cell_type": "code",
   "execution_count": 519,
   "metadata": {},
   "outputs": [],
   "source": [
    "# Rearranging the columns\n",
    "y_pred_final = y_pred_final.reindex_axis(['Prospect ID','Converted','Converted_prob'], axis=1)"
   ]
  },
  {
   "cell_type": "code",
   "execution_count": 520,
   "metadata": {},
   "outputs": [
    {
     "data": {
      "text/html": [
       "<div>\n",
       "<style scoped>\n",
       "    .dataframe tbody tr th:only-of-type {\n",
       "        vertical-align: middle;\n",
       "    }\n",
       "\n",
       "    .dataframe tbody tr th {\n",
       "        vertical-align: top;\n",
       "    }\n",
       "\n",
       "    .dataframe thead th {\n",
       "        text-align: right;\n",
       "    }\n",
       "</style>\n",
       "<table border=\"1\" class=\"dataframe\">\n",
       "  <thead>\n",
       "    <tr style=\"text-align: right;\">\n",
       "      <th></th>\n",
       "      <th>Prospect ID</th>\n",
       "      <th>Converted</th>\n",
       "      <th>Converted_prob</th>\n",
       "    </tr>\n",
       "  </thead>\n",
       "  <tbody>\n",
       "    <tr>\n",
       "      <th>0</th>\n",
       "      <td>3271</td>\n",
       "      <td>0</td>\n",
       "      <td>0.188037</td>\n",
       "    </tr>\n",
       "    <tr>\n",
       "      <th>1</th>\n",
       "      <td>1490</td>\n",
       "      <td>1</td>\n",
       "      <td>0.961508</td>\n",
       "    </tr>\n",
       "    <tr>\n",
       "      <th>2</th>\n",
       "      <td>7936</td>\n",
       "      <td>0</td>\n",
       "      <td>0.188037</td>\n",
       "    </tr>\n",
       "    <tr>\n",
       "      <th>3</th>\n",
       "      <td>4216</td>\n",
       "      <td>1</td>\n",
       "      <td>0.999049</td>\n",
       "    </tr>\n",
       "    <tr>\n",
       "      <th>4</th>\n",
       "      <td>3830</td>\n",
       "      <td>0</td>\n",
       "      <td>0.188037</td>\n",
       "    </tr>\n",
       "  </tbody>\n",
       "</table>\n",
       "</div>"
      ],
      "text/plain": [
       "   Prospect ID  Converted  Converted_prob\n",
       "0         3271          0        0.188037\n",
       "1         1490          1        0.961508\n",
       "2         7936          0        0.188037\n",
       "3         4216          1        0.999049\n",
       "4         3830          0        0.188037"
      ]
     },
     "execution_count": 520,
     "metadata": {},
     "output_type": "execute_result"
    }
   ],
   "source": [
    "# Let's see the head of y_pred_final\n",
    "y_pred_final.head()"
   ]
  },
  {
   "cell_type": "code",
   "execution_count": 521,
   "metadata": {},
   "outputs": [],
   "source": [
    "y_pred_final['final_predicted'] = y_pred_final.Converted_prob.map(lambda x: 1 if x > 0.2 else 0)"
   ]
  },
  {
   "cell_type": "code",
   "execution_count": 522,
   "metadata": {},
   "outputs": [
    {
     "data": {
      "text/html": [
       "<div>\n",
       "<style scoped>\n",
       "    .dataframe tbody tr th:only-of-type {\n",
       "        vertical-align: middle;\n",
       "    }\n",
       "\n",
       "    .dataframe tbody tr th {\n",
       "        vertical-align: top;\n",
       "    }\n",
       "\n",
       "    .dataframe thead th {\n",
       "        text-align: right;\n",
       "    }\n",
       "</style>\n",
       "<table border=\"1\" class=\"dataframe\">\n",
       "  <thead>\n",
       "    <tr style=\"text-align: right;\">\n",
       "      <th></th>\n",
       "      <th>Prospect ID</th>\n",
       "      <th>Converted</th>\n",
       "      <th>Converted_prob</th>\n",
       "      <th>final_predicted</th>\n",
       "    </tr>\n",
       "  </thead>\n",
       "  <tbody>\n",
       "    <tr>\n",
       "      <th>0</th>\n",
       "      <td>3271</td>\n",
       "      <td>0</td>\n",
       "      <td>0.188037</td>\n",
       "      <td>0</td>\n",
       "    </tr>\n",
       "    <tr>\n",
       "      <th>1</th>\n",
       "      <td>1490</td>\n",
       "      <td>1</td>\n",
       "      <td>0.961508</td>\n",
       "      <td>1</td>\n",
       "    </tr>\n",
       "    <tr>\n",
       "      <th>2</th>\n",
       "      <td>7936</td>\n",
       "      <td>0</td>\n",
       "      <td>0.188037</td>\n",
       "      <td>0</td>\n",
       "    </tr>\n",
       "    <tr>\n",
       "      <th>3</th>\n",
       "      <td>4216</td>\n",
       "      <td>1</td>\n",
       "      <td>0.999049</td>\n",
       "      <td>1</td>\n",
       "    </tr>\n",
       "    <tr>\n",
       "      <th>4</th>\n",
       "      <td>3830</td>\n",
       "      <td>0</td>\n",
       "      <td>0.188037</td>\n",
       "      <td>0</td>\n",
       "    </tr>\n",
       "  </tbody>\n",
       "</table>\n",
       "</div>"
      ],
      "text/plain": [
       "   Prospect ID  Converted  Converted_prob  final_predicted\n",
       "0         3271          0        0.188037                0\n",
       "1         1490          1        0.961508                1\n",
       "2         7936          0        0.188037                0\n",
       "3         4216          1        0.999049                1\n",
       "4         3830          0        0.188037                0"
      ]
     },
     "execution_count": 522,
     "metadata": {},
     "output_type": "execute_result"
    }
   ],
   "source": [
    "y_pred_final.head()"
   ]
  },
  {
   "cell_type": "code",
   "execution_count": 523,
   "metadata": {},
   "outputs": [
    {
     "data": {
      "text/plain": [
       "0.906720528828498"
      ]
     },
     "execution_count": 523,
     "metadata": {},
     "output_type": "execute_result"
    }
   ],
   "source": [
    "# Let's check the overall accuracy.\n",
    "metrics.accuracy_score(y_pred_final.Converted, y_pred_final.final_predicted)"
   ]
  },
  {
   "cell_type": "code",
   "execution_count": 524,
   "metadata": {},
   "outputs": [
    {
     "data": {
      "text/plain": [
       "array([[1635,   99],\n",
       "       [ 155,  834]], dtype=int64)"
      ]
     },
     "execution_count": 524,
     "metadata": {},
     "output_type": "execute_result"
    }
   ],
   "source": [
    "confusion2 = metrics.confusion_matrix(y_pred_final.Converted, y_pred_final.final_predicted )\n",
    "confusion2"
   ]
  },
  {
   "cell_type": "code",
   "execution_count": 525,
   "metadata": {},
   "outputs": [
    {
     "data": {
      "text/plain": [
       "0.8597710547833197"
      ]
     },
     "execution_count": 525,
     "metadata": {},
     "output_type": "execute_result"
    }
   ],
   "source": [
    "# Let's see the sensitivity of our logistic regression model\n",
    "TP / float(TP+FN)"
   ]
  },
  {
   "cell_type": "code",
   "execution_count": 526,
   "metadata": {},
   "outputs": [
    {
     "data": {
      "text/plain": [
       "0.9421254801536492"
      ]
     },
     "execution_count": 526,
     "metadata": {},
     "output_type": "execute_result"
    }
   ],
   "source": [
    "# Let us calculate specificity\n",
    "TN / float(TN+FP)"
   ]
  },
  {
   "cell_type": "code",
   "execution_count": null,
   "metadata": {},
   "outputs": [],
   "source": []
  }
 ],
 "metadata": {
  "kernelspec": {
   "display_name": "Python 3",
   "language": "python",
   "name": "python3"
  },
  "language_info": {
   "codemirror_mode": {
    "name": "ipython",
    "version": 3
   },
   "file_extension": ".py",
   "mimetype": "text/x-python",
   "name": "python",
   "nbconvert_exporter": "python",
   "pygments_lexer": "ipython3",
   "version": "3.8.5"
  }
 },
 "nbformat": 4,
 "nbformat_minor": 2
}
